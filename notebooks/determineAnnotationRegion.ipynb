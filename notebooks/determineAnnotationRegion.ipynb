{
 "cells": [
  {
   "cell_type": "code",
   "execution_count": null,
   "metadata": {
    "collapsed": true
   },
   "outputs": [],
   "source": [
    "# Determine the area that a json synapse file occupies "
   ]
  },
  {
   "cell_type": "code",
   "execution_count": null,
   "metadata": {
    "collapsed": false
   },
   "outputs": [],
   "source": [
    "import numpy as np\n",
    "import json\n",
    "from renderapps.module.render_module import RenderModule\n",
    "import renderapi\n",
    "import os\n",
    "import synaptogram\n",
    "import matplotlib.pyplot as plt\n",
    "from scipy import misc"
   ]
  },
  {
   "cell_type": "code",
   "execution_count": null,
   "metadata": {
    "collapsed": false
   },
   "outputs": [],
   "source": [
    "args={\n",
    "    'render':{\n",
    "    'host':'http://152.3.214.113',\n",
    "    'port':8080,\n",
    "    'owner':'Anish',\n",
    "    'project':'M247514_Rorb_1',\n",
    "    'client_scripts':'/home/anish/Connectome/render/render-ws-java-client/src/main/scripts'\n",
    "},\n",
    "'log_level':'DEBUG'}\n",
    "mod = RenderModule(input_data = args,args=[])\n",
    "stacks = mod.render.run(renderapi.render.get_stacks_by_owner_project)\n",
    "render_args = args['render']"
   ]
  },
  {
   "cell_type": "code",
   "execution_count": null,
   "metadata": {
    "collapsed": true
   },
   "outputs": [],
   "source": [
    "data = json.load(open('json_annotations/m247514_Site3Annotation_MN_global_v2.json'))\n",
    "arealists = data['area_lists']"
   ]
  },
  {
   "cell_type": "code",
   "execution_count": null,
   "metadata": {
    "collapsed": true
   },
   "outputs": [],
   "source": [
    "synapse = arealists[400]"
   ]
  },
  {
   "cell_type": "code",
   "execution_count": null,
   "metadata": {
    "collapsed": false
   },
   "outputs": [],
   "source": [
    "bbox = synaptogram.getAnnotationBoundingBox2(synapse, render_args)"
   ]
  },
  {
   "cell_type": "code",
   "execution_count": null,
   "metadata": {
    "collapsed": false
   },
   "outputs": [],
   "source": [
    "bbox"
   ]
  },
  {
   "cell_type": "code",
   "execution_count": null,
   "metadata": {
    "collapsed": false
   },
   "outputs": [],
   "source": [
    "globalmaxX = 0; \n",
    "globalminX = float(\"inf\")\n",
    "\n",
    "globalmaxY = 0;\n",
    "globalminY = float(\"inf\")\n",
    "\n",
    "globalmaxZ = 0;\n",
    "globalminZ = float(\"inf\")\n",
    "\n",
    "itr = 0 \n",
    "\n",
    "for synapse in arealists: \n",
    "    \n",
    "    print itr \n",
    "    itr = itr + 1 \n",
    "    \n",
    "    bbox = synaptogram.getAnnotationBoundingBox2(synapse, render_args)\n",
    "\n",
    "    if (bbox['maxZ'] > globalmaxZ):\n",
    "        globalmaxZ = bbox['maxZ']; \n",
    "    if (bbox['minZ'] < globalminZ):\n",
    "        globalminZ = bbox['minZ']; \n",
    "\n",
    "    if (bbox['maxX'] > globalmaxX):\n",
    "        globalmaxX = bbox['maxX']\n",
    "    if (bbox['minX'] < globalminX):\n",
    "        globalminX = bbox['minX']\n",
    "\n",
    "    if (bbox['maxY'] > globalmaxY):\n",
    "        globalmaxY = bbox['maxY']\n",
    "    if (bbox['minY'] < globalminY):\n",
    "        globalminY = bbox['minY']\n",
    "\n",
    "regionRange = {'minX': globalminX, 'maxX': globalmaxX, 'minY': globalminY, 'maxY': globalmaxY, 'minZ': globalminZ, 'maxZ': globalmaxZ}\n",
    "\n",
    "#return regionRange"
   ]
  },
  {
   "cell_type": "code",
   "execution_count": null,
   "metadata": {
    "collapsed": false
   },
   "outputs": [],
   "source": [
    "regionRange = {'minX': globalminX, 'maxX': globalmaxX, 'minY': globalminY, 'maxY': globalmaxY, 'minZ': globalminZ, 'maxZ': globalmaxZ}\n",
    "\n",
    "regionRange"
   ]
  },
  {
   "cell_type": "code",
   "execution_count": null,
   "metadata": {
    "collapsed": true
   },
   "outputs": [],
   "source": [
    "convertedRegionRange = synaptogram.transformSynapseCoordinates(regionRange)"
   ]
  },
  {
   "cell_type": "code",
   "execution_count": null,
   "metadata": {
    "collapsed": false
   },
   "outputs": [],
   "source": [
    "convertedRegionRange"
   ]
  },
  {
   "cell_type": "code",
   "execution_count": null,
   "metadata": {
    "collapsed": true
   },
   "outputs": [],
   "source": []
  }
 ],
 "metadata": {
  "kernelspec": {
   "display_name": "Python 2",
   "language": "python",
   "name": "python2"
  },
  "language_info": {
   "codemirror_mode": {
    "name": "ipython",
    "version": 2
   },
   "file_extension": ".py",
   "mimetype": "text/x-python",
   "name": "python",
   "nbconvert_exporter": "python",
   "pygments_lexer": "ipython2",
   "version": "2.7.14"
  }
 },
 "nbformat": 4,
 "nbformat_minor": 0
}
