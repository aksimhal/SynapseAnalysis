{
 "cells": [
  {
   "cell_type": "code",
   "execution_count": 2,
   "metadata": {},
   "outputs": [],
   "source": [
    "import os\n",
    "import numpy as np\n",
    "import pandas as pd #also requires xlsxwriter\n",
    "from at_synapse_detection import dataAccess as da\n",
    "from at_synapse_detection import antibodyAnalysis as aa"
   ]
  },
  {
   "cell_type": "code",
   "execution_count": null,
   "metadata": {},
   "outputs": [
    {
     "name": "stdout",
     "output_type": "stream",
     "text": [
      "synapsin_1st.tif\n",
      "PSD95m_1st.tif\n",
      "data volume:  10104.64\n",
      "Computed presynaptic single channel measurements\n",
      "Computed postsynaptic single channel measurements\n",
      "starting z ind: 0\n",
      "starting z ind: 1\n",
      "starting z ind: 2\n",
      "starting z ind: 3\n",
      "starting z ind: 4\n",
      "starting z ind: 5\n",
      "starting z ind: 6\n",
      "starting z ind: 7\n",
      "starting z ind: 8\n",
      "starting z ind: 9\n",
      "synapsin_1st.tif\n",
      "PSD95r_2nd.tif\n",
      "data volume:  10104.64\n",
      "Computed presynaptic single channel measurements\n",
      "Computed postsynaptic single channel measurements\n",
      "starting z ind: 0\n",
      "starting z ind: 1\n"
     ]
    }
   ],
   "source": [
    "# Location of the data \n",
    "base_dir = '../data/example/'\n",
    "\n",
    "# Data resolution, in nanometers \n",
    "resolution = {'res_xy_nm': 100, 'res_z_nm': 70}\n",
    "\n",
    "# Threshold value for the probability maps. This value does not usually need to be changed. \n",
    "thresh = 0.9\n",
    "\n",
    "# List the file names \n",
    "target_filenames = ['PSD95m_1st.tif', 'PSD95r_2nd.tif']\n",
    "reference_filenames = ['synapsin_1st.tif', 'synapsin_1st.tif']\n",
    "\n",
    "# Create a query for each pair\n",
    "query_list = []\n",
    "for n in range(0, len(target_filenames)):\n",
    "    target_name = target_filenames[n] # The AB we're interested in testing (PSD)\n",
    "    reference_name = reference_filenames[n] # The previously validated AB (synapsin)\n",
    "\n",
    "    # Formulate the query\n",
    "    query = {'preIF': [reference_name], 'preIF_z': [2], \n",
    "             'postIF': [target_name], 'postIF_z': [2],\n",
    "             'punctumSize': 2}\n",
    "    query_list.append(query)\n",
    "\n",
    "# Run the SACT \n",
    "measure_list = aa.calculate_measure_lists(query_list, None, base_dir,\n",
    "                                    thresh, resolution, target_filenames)\n",
    "\n",
    "# Convert measure object to a dataframe \n",
    "project_names = ['PSD_M', 'PSD_R']\n",
    "psd_df = aa.create_df(measure_list, project_names, target_filenames, reference_filenames)\n",
    "print(psd_df)\n"
   ]
  },
  {
   "cell_type": "code",
   "execution_count": null,
   "metadata": {},
   "outputs": [],
   "source": [
    "project_names"
   ]
  },
  {
   "cell_type": "code",
   "execution_count": null,
   "metadata": {},
   "outputs": [],
   "source": [
    "sheet_name = 'sact_psd_example'\n",
    "fn = 'sact_psd_example.xlsx'\n",
    "\n",
    "df_list = [psd_df]\n",
    "\n",
    "# Export the dataframe to excel \n",
    "aa.write_dfs_to_excel(df_list, sheet_name, fn)\n"
   ]
  }
 ],
 "metadata": {
  "kernelspec": {
   "display_name": "Python [conda env:synapse_analysis]",
   "language": "python",
   "name": "conda-env-synapse_analysis-py"
  },
  "language_info": {
   "codemirror_mode": {
    "name": "ipython",
    "version": 3
   },
   "file_extension": ".py",
   "mimetype": "text/x-python",
   "name": "python",
   "nbconvert_exporter": "python",
   "pygments_lexer": "ipython3",
   "version": "3.5.4"
  }
 },
 "nbformat": 4,
 "nbformat_minor": 2
}
