{
 "cells": [
  {
   "cell_type": "code",
   "execution_count": null,
   "metadata": {
    "collapsed": true
   },
   "outputs": [],
   "source": [
    "# Create annotation tiff stacks from input json file "
   ]
  },
  {
   "cell_type": "code",
   "execution_count": null,
   "metadata": {
    "collapsed": false
   },
   "outputs": [],
   "source": [
    "import numpy as np\n",
    "import json\n",
    "from renderapps.module.render_module import RenderModule\n",
    "import renderapi\n",
    "import os\n",
    "import synaptogram\n",
    "import matplotlib.pyplot as plt\n",
    "from scipy import misc\n"
   ]
  },
  {
   "cell_type": "code",
   "execution_count": null,
   "metadata": {
    "collapsed": true
   },
   "outputs": [],
   "source": [
    "data = json.load(open('json_annotations/m247514_Site3Annotation_MN_global_v2.json'))\n",
    "arealists = data['area_lists']"
   ]
  },
  {
   "cell_type": "code",
   "execution_count": null,
   "metadata": {
    "collapsed": false
   },
   "outputs": [],
   "source": [
    "args={\n",
    "    'render':{\n",
    "    'host':'http://152.3.214.113',\n",
    "    'port':8080,\n",
    "    'owner':'Anish',\n",
    "    'project':'M247514_Rorb_1',\n",
    "    'client_scripts':'/home/anish/Connectome/render/render-ws-java-client/src/main/scripts'\n",
    "},\n",
    "'log_level':'DEBUG'}\n",
    "mod = RenderModule(input_data = args,args=[])\n",
    "stacks = mod.render.run(renderapi.render.get_stacks_by_owner_project)\n",
    "render_args = args['render']"
   ]
  },
  {
   "cell_type": "code",
   "execution_count": null,
   "metadata": {
    "collapsed": true
   },
   "outputs": [],
   "source": [
    "synapse = arealists[400]"
   ]
  },
  {
   "cell_type": "code",
   "execution_count": null,
   "metadata": {
    "collapsed": false
   },
   "outputs": [],
   "source": [
    "synapseOutlinesDict = synaptogram.getAnnotationOutlines(synapse, render_args)\n",
    "synapseOutlinesDict = synaptogram.transformSynapseOutlinesDict(synapseOutlinesDict)"
   ]
  },
  {
   "cell_type": "code",
   "execution_count": null,
   "metadata": {
    "collapsed": false
   },
   "outputs": [],
   "source": [
    "synapseOutlinesDict['subAreas']"
   ]
  },
  {
   "cell_type": "code",
   "execution_count": null,
   "metadata": {
    "collapsed": true
   },
   "outputs": [],
   "source": [
    "# ROW, COL, Z\n",
    "labelvol = np.zeros((441, 420, 50))"
   ]
  },
  {
   "cell_type": "code",
   "execution_count": null,
   "metadata": {
    "collapsed": false
   },
   "outputs": [],
   "source": [
    "subAreas = synapseOutlinesDict['subAreas']\n",
    "zInds = synapseOutlinesDict['zInds']"
   ]
  },
  {
   "cell_type": "code",
   "execution_count": null,
   "metadata": {
    "collapsed": false
   },
   "outputs": [],
   "source": [
    "zInd"
   ]
  },
  {
   "cell_type": "code",
   "execution_count": null,
   "metadata": {
    "collapsed": false
   },
   "outputs": [],
   "source": [
    "for synapse in arealists: \n",
    "    \n",
    "    synapseOutlinesDict = synaptogram.getAnnotationOutlines(synapse, render_args)\n",
    "    synapseOutlinesDict = synaptogram.transformSynapseOutlinesDict(synapseOutlinesDict)\n",
    "\n",
    "    subAreas = synapseOutlinesDict['subAreas']\n",
    "    zInds = synapseOutlinesDict['zInds']\n",
    "    \n",
    "    for n in xrange(0, len(zInds)): \n",
    "        zInd = int(zInds[n])\n",
    "        subareaOutline = subAreas[n] \n",
    "        xcolumns = np.array(subareaOutline[0])\n",
    "        yrows = np.array(subareaOutline[1])\n",
    "\n",
    "        rows = []\n",
    "        for n in xrange(0, len(yrows)): \n",
    "            rows.append(int(np.round(yrows[n])))\n",
    "\n",
    "        cols = [] \n",
    "        for n in xrange(0, len(xcolumns)): \n",
    "            cols.append(int(np.round(xcolumns[n])))\n",
    "\n",
    "        labelvol[rows, cols, zInd] = 1"
   ]
  },
  {
   "cell_type": "code",
   "execution_count": null,
   "metadata": {
    "collapsed": false
   },
   "outputs": [],
   "source": []
  },
  {
   "cell_type": "code",
   "execution_count": null,
   "metadata": {
    "collapsed": false
   },
   "outputs": [],
   "source": [
    "    "
   ]
  },
  {
   "cell_type": "code",
   "execution_count": null,
   "metadata": {
    "collapsed": false
   },
   "outputs": [],
   "source": []
  },
  {
   "cell_type": "code",
   "execution_count": null,
   "metadata": {
    "collapsed": false
   },
   "outputs": [],
   "source": [
    "%matplotlib notebook\n",
    "\n",
    "plt.imshow(labelvol[:, :, 46], cmap='gray')"
   ]
  },
  {
   "cell_type": "code",
   "execution_count": null,
   "metadata": {
    "collapsed": false
   },
   "outputs": [],
   "source": [
    "folderpath = '/Users/anish/Documents/Connectome/Synaptome-Duke/data/collman17/Site3Align2Stacks/labels'"
   ]
  },
  {
   "cell_type": "code",
   "execution_count": null,
   "metadata": {
    "collapsed": false
   },
   "outputs": [],
   "source": [
    "fn = os.path.join(folderpath, str(zInd).zfill(5))\n",
    "fn = fn + '.tiff'"
   ]
  },
  {
   "cell_type": "code",
   "execution_count": null,
   "metadata": {
    "collapsed": true
   },
   "outputs": [],
   "source": [
    "misc.imsave(fn, foo)"
   ]
  },
  {
   "cell_type": "code",
   "execution_count": null,
   "metadata": {
    "collapsed": false
   },
   "outputs": [],
   "source": [
    "fn"
   ]
  },
  {
   "cell_type": "code",
   "execution_count": null,
   "metadata": {
    "collapsed": true
   },
   "outputs": [],
   "source": [
    "for z in xrange(0, labelvol.shape[2]): \n",
    "    fn = os.path.join(folderpath, str(z).zfill(5))\n",
    "    fn = fn + '.tiff'\n",
    "    misc.imsave(fn, labelvol[:, :, z])\n"
   ]
  },
  {
   "cell_type": "code",
   "execution_count": null,
   "metadata": {
    "collapsed": true
   },
   "outputs": [],
   "source": []
  }
 ],
 "metadata": {
  "kernelspec": {
   "display_name": "Python 2",
   "language": "python",
   "name": "python2"
  },
  "language_info": {
   "codemirror_mode": {
    "name": "ipython",
    "version": 2
   },
   "file_extension": ".py",
   "mimetype": "text/x-python",
   "name": "python",
   "nbconvert_exporter": "python",
   "pygments_lexer": "ipython2",
   "version": "2.7.14"
  }
 },
 "nbformat": 4,
 "nbformat_minor": 0
}
