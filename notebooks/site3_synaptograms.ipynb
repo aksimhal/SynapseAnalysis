{
 "cells": [
  {
   "cell_type": "code",
   "execution_count": null,
   "metadata": {},
   "outputs": [],
   "source": [
    "# Create synaptograms from an input json file "
   ]
  },
  {
   "cell_type": "code",
   "execution_count": null,
   "metadata": {
    "scrolled": true
   },
   "outputs": [],
   "source": [
    "import numpy as np \n",
    "from at_synapse_detection import synaptogram\n",
    "from at_synapse_detection.render_module import RenderModule\n",
    "import renderapi\n",
    "import matplotlib.pyplot as plt\n",
    "from at_synapse_detection import dataAccess as da\n",
    "from at_synapse_detection import SynapseDetection as syn \n",
    "import os\n",
    "import json \n",
    "from at_synapse_detection import evaluate_synapse_detection as esd\n",
    "from at_synapse_detection.AnnotationJsonSchema import AnnotationFile, NumpyArray\n",
    "import importlib\n",
    "from at_synapse_detection import processDetections as pd\n"
   ]
  },
  {
   "cell_type": "code",
   "execution_count": null,
   "metadata": {},
   "outputs": [],
   "source": [
    "metadataFN = '../data/M247514_Rorb_1/Site3Align2/site3_metadata.json'\n",
    "metadata = syn.loadMetadata(metadataFN)\n",
    "\n",
    "datalocation = metadata['datalocation']\n",
    "queryFN = metadata['querylocation']\n",
    "\n",
    "# List of Queries\n",
    "listOfQueries = syn.loadQueriesJSON(queryFN)\n",
    "len(listOfQueries)"
   ]
  },
  {
   "cell_type": "code",
   "execution_count": null,
   "metadata": {},
   "outputs": [],
   "source": [
    "args = {\n",
    "    \"EM_annotation_json\":\"../data/M247514_Rorb_1/Site3Align2/json_annotations/m247514_Site3Annotation_MN_global_v2.json\",\n",
    "    \"LM_annotation_json\":\"../data/M247514_Rorb_1/Site3Align2/results/resultVol9.json\",\n",
    "    \"EM_metadata_csv\":\"../data/M247514_Rorb_1/Site3Align2/MNSite3Synaptograms_v2.csv\",\n",
    "    \"LM_metadata_file\":\"../data/M247514_Rorb_1/Site3Align2/site3_metadata.json\",\n",
    "    \"EM_inclass_column\":\"glutsynapse\",\n",
    "    \"EM_not_synapse_column\":\"ConsensusNotSynapse\",\n",
    "    \"output_json\":\"../data/M247514_Rorb_1/Site3Align2/results/Anish_evaluation_output.json\", \n",
    "    \"annotationToRemove\": \"../data/M247514_Rorb_1/Site3Align2/missedanno.json\"\n",
    "    }"
   ]
  },
  {
   "cell_type": "code",
   "execution_count": null,
   "metadata": {},
   "outputs": [],
   "source": [
    "print(listOfQueries[0])\n",
    "args['LM_annotation_json'] = \"../data/M247514_Rorb_1/Site3Align2/resultsDEV/resultVol0.json\"\n",
    "queryresult0 = pd.evalsyndetections(args)\n",
    "missedAnnoIds_q0 = pd.getMissedAnnoIds(queryresult0['missed_annotations'])\n",
    "len(missedAnnoIds_q0)"
   ]
  },
  {
   "cell_type": "code",
   "execution_count": null,
   "metadata": {
    "scrolled": true
   },
   "outputs": [],
   "source": [
    "print(listOfQueries[1])\n",
    "args['LM_annotation_json'] = \"../data/M247514_Rorb_1/Site3Align2/resultsDEV/resultVol1.json\"\n",
    "queryresult1 = pd.evalsyndetections(args)\n",
    "missedAnnoIds_q1 = pd.getMissedAnnoIds(queryresult1['missed_annotations'])\n",
    "len(missedAnnoIds_q1)"
   ]
  },
  {
   "cell_type": "code",
   "execution_count": null,
   "metadata": {},
   "outputs": [],
   "source": [
    "listOfQueryNumbers = [  0, 1]\n",
    "listOfThresholds   = [0.8, 0.8]"
   ]
  },
  {
   "cell_type": "code",
   "execution_count": null,
   "metadata": {},
   "outputs": [],
   "source": [
    "args"
   ]
  },
  {
   "cell_type": "code",
   "execution_count": null,
   "metadata": {
    "scrolled": true
   },
   "outputs": [],
   "source": [
    "queryresult = pd.combineResultVolumes(listOfQueryNumbers, listOfThresholds, metadata, args)"
   ]
  },
  {
   "cell_type": "code",
   "execution_count": null,
   "metadata": {},
   "outputs": [],
   "source": [
    "missed_annotations = queryresult['missed_annotations']"
   ]
  },
  {
   "cell_type": "code",
   "execution_count": null,
   "metadata": {},
   "outputs": [],
   "source": [
    "missedAnnoIds = pd.getMissedAnnoIds(queryresult['missed_annotations'])"
   ]
  },
  {
   "cell_type": "code",
   "execution_count": null,
   "metadata": {},
   "outputs": [],
   "source": [
    "len(missedAnnoIds)"
   ]
  },
  {
   "cell_type": "code",
   "execution_count": null,
   "metadata": {},
   "outputs": [],
   "source": [
    "misseddata = {'missedAnnoIds' : missedAnnoIds}"
   ]
  },
  {
   "cell_type": "code",
   "execution_count": null,
   "metadata": {},
   "outputs": [],
   "source": [
    "fn = 'missedanno.json'"
   ]
  },
  {
   "cell_type": "code",
   "execution_count": null,
   "metadata": {},
   "outputs": [],
   "source": [
    "with open(fn, 'w') as outfile:\n",
    "    json.dump(misseddata, outfile)"
   ]
  },
  {
   "cell_type": "code",
   "execution_count": null,
   "metadata": {},
   "outputs": [],
   "source": []
  },
  {
   "cell_type": "code",
   "execution_count": null,
   "metadata": {},
   "outputs": [],
   "source": []
  },
  {
   "cell_type": "code",
   "execution_count": null,
   "metadata": {},
   "outputs": [],
   "source": [
    "fn = 'missedanno.json'\n",
    "impossibleanno = syn.loadMetadata(fn)"
   ]
  },
  {
   "cell_type": "code",
   "execution_count": null,
   "metadata": {},
   "outputs": [],
   "source": [
    "impossibleanno = impossibleanno['missedAnnoIds']"
   ]
  },
  {
   "cell_type": "code",
   "execution_count": null,
   "metadata": {},
   "outputs": [],
   "source": [
    "len(impossibleanno)"
   ]
  },
  {
   "cell_type": "code",
   "execution_count": null,
   "metadata": {},
   "outputs": [],
   "source": [
    "listOfThresholds = [] \n",
    "\n",
    "for n, query in enumerate(listOfQueries):\n",
    "    listOfThresholds.append(query['thresh'])"
   ]
  },
  {
   "cell_type": "code",
   "execution_count": null,
   "metadata": {},
   "outputs": [],
   "source": []
  },
  {
   "cell_type": "code",
   "execution_count": null,
   "metadata": {},
   "outputs": [],
   "source": [
    "importlib.reload(pd)"
   ]
  },
  {
   "cell_type": "code",
   "execution_count": null,
   "metadata": {},
   "outputs": [],
   "source": [
    "listOfQueryNumbers = [  0,   1,   2,   3,   4,   5,   6,   7]\n",
    "listOfThresholds   = [0.8, 0.7, 0.7, 0.8, 0.7, 0.7, 0.8, 0.8]\n",
    "queryresult = pd.combineResultVolumes(listOfQueryNumbers, listOfThresholds, metadata, args)"
   ]
  },
  {
   "cell_type": "code",
   "execution_count": null,
   "metadata": {},
   "outputs": [],
   "source": [
    "foo = queryresult['good_annotations']"
   ]
  },
  {
   "cell_type": "code",
   "execution_count": null,
   "metadata": {},
   "outputs": [],
   "source": [
    "queryresult.keys()"
   ]
  },
  {
   "cell_type": "code",
   "execution_count": null,
   "metadata": {},
   "outputs": [],
   "source": [
    "len(queryresult['LM_edge']) - sum(queryresult['LM_edge']) "
   ]
  },
  {
   "cell_type": "code",
   "execution_count": null,
   "metadata": {},
   "outputs": [],
   "source": [
    "missed_annotations = queryresult['missed_annotations']"
   ]
  },
  {
   "cell_type": "code",
   "execution_count": null,
   "metadata": {},
   "outputs": [],
   "source": [
    "missedAnnoIds = pd.getMissedAnnoIds(queryresult['missed_annotations'])"
   ]
  },
  {
   "cell_type": "code",
   "execution_count": null,
   "metadata": {},
   "outputs": [],
   "source": [
    "# itr = 0 \n",
    "\n",
    "# old_missed_annotations =  queryresult['missed_annotations']\n",
    "# missed_annotations = []\n",
    "# for n, nID in enumerate(missedAnnoIds): \n",
    "#     if nID in missedAnnoIdsPSD: \n",
    "#         foo = 1 \n",
    "#     else: \n",
    "#         missed_annotations.append(old_missed_annotations[n])\n",
    "#         itr = 1 + itr\n",
    "        \n",
    "# print(itr)\n",
    "        "
   ]
  },
  {
   "cell_type": "code",
   "execution_count": null,
   "metadata": {},
   "outputs": [],
   "source": [
    "win_xy = 4\n",
    "win_z = 1\n",
    "filepath = '/Users/anish/Documents/Connectome/Synaptome-Duke/data/collman17/Site3Align2Stacks/';\n",
    "stackList = ['PSD95', 'synapsin', 'VGlut1', 'GluN1', 'GABA', 'Gephyrin']\n",
    "showProb = True\n",
    "textXOffset = 0\n",
    "textYOffset = 5\n",
    "\n"
   ]
  },
  {
   "cell_type": "code",
   "execution_count": null,
   "metadata": {},
   "outputs": [],
   "source": [
    "for counter, synapse in enumerate(good_annotations): \n",
    "    \n",
    "#     if (LM_per_EM[counter] > 0 and EM_edge[counter]==False): \n",
    "    bbox = synaptogram.getAnnotationBoundingBox2(synapse)\n",
    "    bbox = synaptogram.transformSynapseCoordinates(bbox)\n",
    "    expandedBox = synaptogram.expandBoundingBox(bbox, win_xy, win_z)\n",
    "\n",
    "    synapseOutlinesDict = synaptogram.getAnnotationOutlines(synapse)\n",
    "    synapseOutlinesDict = synaptogram.transformSynapseOutlinesDict(synapseOutlinesDict)\n",
    "\n",
    "    filename = os.path.join(filepath, 'synaptograms/good', '{}.png'.format(synapse['oid']))\n",
    "\n",
    "    img = synaptogram.getSynaptogramFromFile(bbox, win_xy, win_z, stackList, showProb, filepath);\n",
    "    synaptogram.plotOutlinesOnImg(img, synapseOutlinesDict, expandedBox, filename, stackList, textXOffset, textYOffset)\n",
    "    print(filename)"
   ]
  },
  {
   "cell_type": "code",
   "execution_count": null,
   "metadata": {},
   "outputs": [],
   "source": [
    "len(missed_annotations)"
   ]
  },
  {
   "cell_type": "code",
   "execution_count": null,
   "metadata": {},
   "outputs": [],
   "source": [
    "for counter, synapse in enumerate(missed_annotations): \n",
    "    \n",
    "    #if synapse['oid'] in missed_anno: \n",
    "    bbox = synaptogram.getAnnotationBoundingBox2(synapse)\n",
    "    bbox = synaptogram.transformSynapseCoordinates(bbox)\n",
    "    expandedBox = synaptogram.expandBoundingBox(bbox, win_xy, win_z)\n",
    "\n",
    "    synapseOutlinesDict = synaptogram.getAnnotationOutlines(synapse)\n",
    "    synapseOutlinesDict = synaptogram.transformSynapseOutlinesDict(synapseOutlinesDict)\n",
    "\n",
    "    filename = os.path.join(filepath, 'synaptograms/missed', '{}.png'.format(synapse['oid']))\n",
    "\n",
    "    img = synaptogram.getSynaptogramFromFile(bbox, win_xy, win_z, stackList, showProb, filepath);\n",
    "    synaptogram.plotOutlinesOnImg(img, synapseOutlinesDict, expandedBox, filename, stackList, textXOffset, textYOffset)\n",
    "    print(filename)"
   ]
  },
  {
   "cell_type": "code",
   "execution_count": null,
   "metadata": {},
   "outputs": [],
   "source": [
    "#false postives "
   ]
  },
  {
   "cell_type": "code",
   "execution_count": null,
   "metadata": {},
   "outputs": [],
   "source": [
    "false_positives = queryresult['false_positives']"
   ]
  },
  {
   "cell_type": "code",
   "execution_count": null,
   "metadata": {},
   "outputs": [],
   "source": [
    "false_positives[0]"
   ]
  },
  {
   "cell_type": "code",
   "execution_count": null,
   "metadata": {},
   "outputs": [],
   "source": [
    "for counter, synapse in enumerate(false_positives): \n",
    "\n",
    "    bbox = synaptogram.getAnnotationBoundingBox2(synapse)\n",
    "    bbox = synaptogram.transformSynapseCoordinates(bbox)\n",
    "    expandedBox = synaptogram.expandBoundingBox(bbox, win_xy, win_z)\n",
    "\n",
    "    synapseOutlinesDict = synaptogram.getAnnotationOutlines(synapse)\n",
    "    synapseOutlinesDict = synaptogram.transformSynapseOutlinesDict(synapseOutlinesDict)\n",
    "\n",
    "    filename = os.path.join(filepath, 'synaptograms/false_positives', '{}.png'.format(synapse['oid']))\n",
    "\n",
    "    img = synaptogram.getSynaptogramFromFile(bbox, win_xy, win_z, stackList, showProb, filepath);\n",
    "    synaptogram.plotOutlinesOnImg(img, synapseOutlinesDict, expandedBox, filename, stackList, textXOffset, textYOffset)\n",
    "    print(filename)"
   ]
  },
  {
   "cell_type": "code",
   "execution_count": null,
   "metadata": {},
   "outputs": [],
   "source": [
    "a = [True, True, False]\n",
    "sum(a)"
   ]
  },
  {
   "cell_type": "code",
   "execution_count": null,
   "metadata": {},
   "outputs": [],
   "source": []
  }
 ],
 "metadata": {
  "kernelspec": {
   "display_name": "Python [conda env:synapse_analysis]",
   "language": "python",
   "name": "conda-env-synapse_analysis-py"
  },
  "language_info": {
   "codemirror_mode": {
    "name": "ipython",
    "version": 3
   },
   "file_extension": ".py",
   "mimetype": "text/x-python",
   "name": "python",
   "nbconvert_exporter": "python",
   "pygments_lexer": "ipython3",
   "version": "3.5.4"
  }
 },
 "nbformat": 4,
 "nbformat_minor": 1
}
