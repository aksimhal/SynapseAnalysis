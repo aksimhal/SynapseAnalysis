{
 "cells": [
  {
   "cell_type": "code",
   "execution_count": 1,
   "metadata": {},
   "outputs": [
    {
     "data": {
      "text/plain": [
       "'\\nDevelopment queries \\n'"
      ]
     },
     "execution_count": 1,
     "metadata": {},
     "output_type": "execute_result"
    }
   ],
   "source": [
    "\"\"\"\n",
    "Development queries \n",
    "\"\"\""
   ]
  },
  {
   "cell_type": "code",
   "execution_count": 4,
   "metadata": {},
   "outputs": [],
   "source": [
    "import os\n",
    "import sys\n",
    "import json \n",
    "from at_synapse_detection import dataAccess as da\n",
    "from at_synapse_detection import SynapseDetection as syn"
   ]
  },
  {
   "cell_type": "code",
   "execution_count": 5,
   "metadata": {
    "collapsed": true
   },
   "outputs": [],
   "source": [
    "listOfQueries = []"
   ]
  },
  {
   "cell_type": "code",
   "execution_count": 6,
   "metadata": {
    "collapsed": true
   },
   "outputs": [],
   "source": [
    "# QUERY 1\n",
    "\n",
    "thresh = 0.7\n",
    "\n",
    "preIF = ['synapsin']\n",
    "preIF_z = [1]\n",
    "\n",
    "postIF = ['PSD95']\n",
    "postIF_z = [2]\n",
    "\n",
    "query = {'preIF': preIF, 'preIF_z': preIF_z, 'postIF': postIF, 'postIF_z': postIF_z, 'thresh': thresh}\n",
    "listOfQueries.append(query)"
   ]
  },
  {
   "cell_type": "code",
   "execution_count": 7,
   "metadata": {
    "collapsed": true
   },
   "outputs": [],
   "source": [
    "# QUERY 2\n",
    "\n",
    "thresh = 0.7\n",
    "\n",
    "preIF = ['synapsin', 'TdTomato']\n",
    "preIF_z = [1, 1]\n",
    "\n",
    "postIF = ['PSD95']\n",
    "postIF_z = [2]\n",
    "\n",
    "query = {'preIF': preIF, 'preIF_z': preIF_z, 'postIF': postIF, 'postIF_z': postIF_z, 'thresh': thresh}\n",
    "listOfQueries.append(query)"
   ]
  },
  {
   "cell_type": "code",
   "execution_count": 8,
   "metadata": {
    "collapsed": true
   },
   "outputs": [],
   "source": [
    "# QUERY 3\n",
    "\n",
    "thresh = 0.7\n",
    "\n",
    "preIF = ['synapsin']\n",
    "preIF_z = [1]\n",
    "\n",
    "postIF = ['PSD95', 'TdTomato']\n",
    "postIF_z = [2, 1]\n",
    "\n",
    "query = {'preIF': preIF, 'preIF_z': preIF_z, 'postIF': postIF, 'postIF_z': postIF_z, 'thresh': thresh}\n",
    "listOfQueries.append(query)"
   ]
  },
  {
   "cell_type": "code",
   "execution_count": 9,
   "metadata": {
    "collapsed": true
   },
   "outputs": [],
   "source": [
    "# QUERY 4\n",
    "\n",
    "thresh = 0.7\n",
    "\n",
    "preIF = ['synapsin', 'TdTomato']\n",
    "preIF_z = [1, 1]\n",
    "\n",
    "postIF = ['PSD95', 'TdTomato']\n",
    "postIF_z = [2, 1]\n",
    "\n",
    "query = {'preIF': preIF, 'preIF_z': preIF_z, 'postIF': postIF, 'postIF_z': postIF_z, 'thresh': thresh}\n",
    "listOfQueries.append(query)"
   ]
  },
  {
   "cell_type": "code",
   "execution_count": null,
   "metadata": {
    "collapsed": true
   },
   "outputs": [],
   "source": []
  },
  {
   "cell_type": "code",
   "execution_count": 10,
   "metadata": {
    "collapsed": true
   },
   "outputs": [],
   "source": [
    "data = {'listOfQueries': listOfQueries}"
   ]
  },
  {
   "cell_type": "code",
   "execution_count": 11,
   "metadata": {
    "collapsed": true
   },
   "outputs": [],
   "source": [
    "fn = '/Users/anish/Documents/Connectome/SynapseAnalysis/data/M247514_Rorb_1/Site3Align2/site3_queriesDEV.json'"
   ]
  },
  {
   "cell_type": "code",
   "execution_count": 12,
   "metadata": {
    "collapsed": true
   },
   "outputs": [],
   "source": [
    "da.writeJSONFile(fn, data)"
   ]
  },
  {
   "cell_type": "code",
   "execution_count": 13,
   "metadata": {
    "collapsed": true
   },
   "outputs": [],
   "source": [
    "querylist = syn.loadQueriesJSON(fn)"
   ]
  },
  {
   "cell_type": "code",
   "execution_count": 14,
   "metadata": {},
   "outputs": [
    {
     "data": {
      "text/plain": [
       "4"
      ]
     },
     "execution_count": 14,
     "metadata": {},
     "output_type": "execute_result"
    }
   ],
   "source": [
    "len(querylist)"
   ]
  },
  {
   "cell_type": "code",
   "execution_count": 15,
   "metadata": {},
   "outputs": [
    {
     "data": {
      "text/plain": [
       "[{'postIF': ['PSD95'],\n",
       "  'postIF_z': [2],\n",
       "  'preIF': ['synapsin'],\n",
       "  'preIF_z': [1],\n",
       "  'thresh': 0.7},\n",
       " {'postIF': ['PSD95'],\n",
       "  'postIF_z': [2],\n",
       "  'preIF': ['synapsin', 'TdTomato'],\n",
       "  'preIF_z': [1, 1],\n",
       "  'thresh': 0.7},\n",
       " {'postIF': ['PSD95', 'TdTomato'],\n",
       "  'postIF_z': [2, 1],\n",
       "  'preIF': ['synapsin'],\n",
       "  'preIF_z': [1],\n",
       "  'thresh': 0.7},\n",
       " {'postIF': ['PSD95', 'TdTomato'],\n",
       "  'postIF_z': [2, 1],\n",
       "  'preIF': ['synapsin', 'TdTomato'],\n",
       "  'preIF_z': [1, 1],\n",
       "  'thresh': 0.7}]"
      ]
     },
     "execution_count": 15,
     "metadata": {},
     "output_type": "execute_result"
    }
   ],
   "source": [
    "querylist"
   ]
  },
  {
   "cell_type": "code",
   "execution_count": null,
   "metadata": {
    "collapsed": true
   },
   "outputs": [],
   "source": []
  }
 ],
 "metadata": {
  "kernelspec": {
   "display_name": "Python [default]",
   "language": "python",
   "name": "python3"
  },
  "language_info": {
   "codemirror_mode": {
    "name": "ipython",
    "version": 3
   },
   "file_extension": ".py",
   "mimetype": "text/x-python",
   "name": "python",
   "nbconvert_exporter": "python",
   "pygments_lexer": "ipython3",
   "version": "3.6.3"
  }
 },
 "nbformat": 4,
 "nbformat_minor": 1
}
