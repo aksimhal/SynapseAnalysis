{
 "cells": [
  {
   "cell_type": "code",
   "execution_count": null,
   "metadata": {
    "collapsed": true
   },
   "outputs": [],
   "source": [
    "# Create synaptograms from an input json file "
   ]
  },
  {
   "cell_type": "code",
   "execution_count": 1,
   "metadata": {
    "collapsed": true,
    "scrolled": true
   },
   "outputs": [],
   "source": [
    "import numpy as np \n",
    "from at_synapse_detection import synaptogram\n",
    "from at_synapse_detection.render_module import RenderModule\n",
    "import renderapi\n",
    "import matplotlib.pyplot as plt\n",
    "from at_synapse_detection import dataAccess as da\n",
    "from at_synapse_detection import SynapseDetection as syn \n",
    "import os\n",
    "import json \n",
    "from at_synapse_detection import evaluate_synapse_detection as esd\n",
    "from at_synapse_detection.AnnotationJsonSchema import AnnotationFile, NumpyArray\n",
    "import importlib\n",
    "from at_synapse_detection import processDetections as pd\n"
   ]
  },
  {
   "cell_type": "code",
   "execution_count": null,
   "metadata": {
    "collapsed": true
   },
   "outputs": [],
   "source": [
    "data = json.load(open('../data/M247514_Rorb_1/Site3Align2/json_annotations/m247514_Site3Annotation_MN_global_v2.json'))"
   ]
  },
  {
   "cell_type": "code",
   "execution_count": null,
   "metadata": {
    "collapsed": true
   },
   "outputs": [],
   "source": [
    "listOfSynapses = data['area_lists']"
   ]
  },
  {
   "cell_type": "code",
   "execution_count": null,
   "metadata": {
    "collapsed": true
   },
   "outputs": [],
   "source": [
    "synapse = listOfSynapses[0]"
   ]
  },
  {
   "cell_type": "code",
   "execution_count": 222,
   "metadata": {},
   "outputs": [
    {
     "data": {
      "text/plain": [
       "'2840'"
      ]
     },
     "execution_count": 222,
     "metadata": {},
     "output_type": "execute_result"
    }
   ],
   "source": [
    "synapse['oid']"
   ]
  },
  {
   "cell_type": "code",
   "execution_count": null,
   "metadata": {
    "collapsed": true
   },
   "outputs": [],
   "source": [
    "win_xy = 4\n",
    "win_z = 1"
   ]
  },
  {
   "cell_type": "code",
   "execution_count": null,
   "metadata": {
    "collapsed": true
   },
   "outputs": [],
   "source": [
    "bbox = synaptogram.getAnnotationBoundingBox2(synapse)\n",
    "bbox = synaptogram.transformSynapseCoordinates(bbox)\n",
    "expandedBox = synaptogram.expandBoundingBox(bbox, win_xy, win_z)"
   ]
  },
  {
   "cell_type": "code",
   "execution_count": null,
   "metadata": {
    "collapsed": true
   },
   "outputs": [],
   "source": [
    "synapseOutlinesDict = synaptogram.getAnnotationOutlines(synapse)\n",
    "synapseOutlinesDict = synaptogram.transformSynapseOutlinesDict(synapseOutlinesDict)"
   ]
  },
  {
   "cell_type": "code",
   "execution_count": null,
   "metadata": {
    "collapsed": true
   },
   "outputs": [],
   "source": [
    "filepath = '/Users/anish/Documents/Connectome/Synaptome-Duke/data/collman17/Site3Align2Stacks/';\n",
    "stackList = ['results', 'PSD95', 'synapsin', 'VGlut1', 'GluN1', 'GABA', 'Gephyrin']"
   ]
  },
  {
   "cell_type": "code",
   "execution_count": null,
   "metadata": {
    "collapsed": true
   },
   "outputs": [],
   "source": [
    "showProb = True\n",
    "#filename = 'foo.png'\n",
    "filename = os.path.join(filepath, '{}.png'.format(synapse['oid']))"
   ]
  },
  {
   "cell_type": "code",
   "execution_count": null,
   "metadata": {
    "collapsed": true
   },
   "outputs": [],
   "source": [
    "img = synaptogram.getSynaptogramFromFile(bbox, win_xy, win_z, stackList, showProb, filepath);"
   ]
  },
  {
   "cell_type": "code",
   "execution_count": null,
   "metadata": {
    "collapsed": true
   },
   "outputs": [],
   "source": [
    "%matplotlib notebook\n",
    "\n",
    "plt.imshow(img, cmap='gray')\n",
    "plt.colorbar()"
   ]
  },
  {
   "cell_type": "code",
   "execution_count": null,
   "metadata": {
    "collapsed": true
   },
   "outputs": [],
   "source": [
    "textXOffset = 1\n",
    "textYOffset = 1"
   ]
  },
  {
   "cell_type": "code",
   "execution_count": null,
   "metadata": {
    "collapsed": true
   },
   "outputs": [],
   "source": [
    "synaptogram.plotOutlinesOnImg(img, synapseOutlinesDict, expandedBox, filename, stackList, 0, 5)\n",
    "#plotOutlinesOnImg(img, synapseOutlinesDict, expandedBox, filename, stackList, 0, 5)"
   ]
  },
  {
   "cell_type": "code",
   "execution_count": 140,
   "metadata": {
    "collapsed": true
   },
   "outputs": [],
   "source": [
    "metadataFN = '../data/M247514_Rorb_1/Site3Align2/site3_metadata.json'\n",
    "metadata = syn.loadMetadata(metadataFN)\n",
    "\n",
    "datalocation = metadata['datalocation']\n",
    "queryFN = metadata['querylocation']\n",
    "\n",
    "# List of Queries\n",
    "listOfQueries = syn.loadQueriesJSON(queryFN)\n"
   ]
  },
  {
   "cell_type": "code",
   "execution_count": null,
   "metadata": {
    "collapsed": true
   },
   "outputs": [],
   "source": [
    "## RUNME "
   ]
  },
  {
   "cell_type": "code",
   "execution_count": 7,
   "metadata": {
    "collapsed": true
   },
   "outputs": [],
   "source": [
    "args = {\n",
    "    \"EM_annotation_json\":\"../data/M247514_Rorb_1/Site3Align2/json_annotations/m247514_Site3Annotation_MN_global_v2.json\",\n",
    "    \"LM_annotation_json\":\"../data/M247514_Rorb_1/Site3Align2/results/resultVol9.json\",\n",
    "    \"EM_metadata_csv\":\"../data/M247514_Rorb_1/Site3Align2/MNSite3Synaptograms_v2.csv\",\n",
    "    \"LM_metadata_file\":\"../data/M247514_Rorb_1/Site3Align2/site3_metadata.json\",\n",
    "    \"EM_inclass_column\":\"glutsynapse\",\n",
    "    \"EM_not_synapse_column\":\"ConsensusNotSynapse\",\n",
    "    \"output_json\":\"../data/M247514_Rorb_1/Site3Align2/results/Anish_evaluation_output.json\"\n",
    "    }"
   ]
  },
  {
   "cell_type": "code",
   "execution_count": 8,
   "metadata": {
    "collapsed": true
   },
   "outputs": [],
   "source": [
    "# COMBINE QUERIES"
   ]
  },
  {
   "cell_type": "code",
   "execution_count": 14,
   "metadata": {},
   "outputs": [
    {
     "name": "stdout",
     "output_type": "stream",
     "text": [
      "{'postIF_z': [1], 'preIF_z': [3], 'postIF': ['PSD95'], 'preIF': ['synapsin']}\n",
      "EM_per_LM [ 0.27055703  0.57824934  0.15119363]\n",
      "LM_per_EM [ 0.32457496  0.66615147  0.00927357]\n",
      "lm edge detections: 3920\n",
      "em edge annotations 156\n",
      "LM detections: 4313\n"
     ]
    },
    {
     "data": {
      "text/plain": [
       "210"
      ]
     },
     "execution_count": 14,
     "metadata": {},
     "output_type": "execute_result"
    }
   ],
   "source": [
    "print(listOfQueries[5])\n",
    "args['LM_annotation_json'] = \"../data/M247514_Rorb_1/Site3Align2/results_07/resultVol5.json\"\n",
    "queryresult1 = pd.evalsyndetections(args)\n",
    "missedAnnoIds_q2 = pd.getMissedAnnoIds(queryresult1['missed_annotations'])\n",
    "len(missedAnnoIds_q2)"
   ]
  },
  {
   "cell_type": "code",
   "execution_count": 15,
   "metadata": {
    "scrolled": true
   },
   "outputs": [
    {
     "name": "stdout",
     "output_type": "stream",
     "text": [
      "{'postIF_z': [3], 'preIF_z': [1], 'postIF': ['PSD95'], 'preIF': ['synapsin']}\n",
      "EM_per_LM [ 0.02409639  0.81024096  0.16566265]\n",
      "LM_per_EM [ 0.37094281  0.62132921  0.00772798]\n",
      "lm edge detections: 3482\n",
      "em edge annotations 156\n",
      "LM detections: 3815\n"
     ]
    },
    {
     "data": {
      "text/plain": [
       "240"
      ]
     },
     "execution_count": 15,
     "metadata": {},
     "output_type": "execute_result"
    }
   ],
   "source": [
    "print(listOfQueries[6])\n",
    "args['LM_annotation_json'] = \"../data/M247514_Rorb_1/Site3Align2/results_07/resultVol6.json\"\n",
    "queryresult2 = pd.evalsyndetections(args)\n",
    "missedAnnoIds_q3 = pd.getMissedAnnoIds(queryresult2['missed_annotations'])\n",
    "len(missedAnnoIds_q3)"
   ]
  },
  {
   "cell_type": "code",
   "execution_count": 192,
   "metadata": {
    "collapsed": true
   },
   "outputs": [],
   "source": [
    "def combineResultVolumes(listOfQueryNumbers, listOfThresholds, args): \n",
    "\n",
    "    resultVolList = [] \n",
    "    for n, queryNum in enumerate(listOfQueryNumbers): \n",
    "    \n",
    "        fn = os.path.join(metadata['datalocation'], 'resultVol')\n",
    "        fn = fn + str(queryNum) + '.npy'\n",
    "        resultVol_n = np.load(fn)\n",
    "        print(fn)\n",
    "\n",
    "        resultVol_n = resultVol_n > listOfThresholds[n]\n",
    "        resultVolList.append(resultVol_n)\n",
    "\n",
    "    resultVol = resultVolList[0]\n",
    "    combinedQNum = str(listOfQueryNumbers[0]) \n",
    "    for volItr in range(1, len(resultVolList)): \n",
    "        resultVol = resultVol + resultVolList[volItr]\n",
    "        combinedQNum = combinedQNum + str(listOfQueryNumbers[volItr])\n",
    "        \n",
    "    combinedQNum = combinedQNum + str(0) + str(0) \n",
    "    \n",
    "    pd.probMapToJSON(resultVol, metadata, combinedQNum)\n",
    "    \n",
    "    fn = \"../data/M247514_Rorb_1/Site3Align2/results/resultVol\" + combinedQNum + \".json\"\n",
    "    \n",
    "    args['LM_annotation_json'] = fn\n",
    "    queryresult = pd.evalsyndetections(args)\n",
    "    missedAnnoIds = pd.getMissedAnnoIds(queryresult['missed_annotations'])\n",
    "    len(missedAnnoIds)\n",
    "\n",
    "    return queryresult\n",
    "    "
   ]
  },
  {
   "cell_type": "code",
   "execution_count": 143,
   "metadata": {},
   "outputs": [
    {
     "data": {
      "text/plain": [
       "{'postIF': ['PSD95', 'GluN1'], 'postIF_z': [3, 1], 'preIF': [], 'preIF_z': []}"
      ]
     },
     "execution_count": 143,
     "metadata": {},
     "output_type": "execute_result"
    }
   ],
   "source": [
    "listOfQueries[22]"
   ]
  },
  {
   "cell_type": "code",
   "execution_count": 258,
   "metadata": {
    "collapsed": true
   },
   "outputs": [],
   "source": [
    "listOfQueryNumbers = [  3,   4,   6,  11,   15,  19,  20,  21]\n",
    "listOfThresholds   = [0.8, 0.7, 0.7, 0.8,  0.7, 0.8, 0.9, 0.9]"
   ]
  },
  {
   "cell_type": "code",
   "execution_count": 259,
   "metadata": {},
   "outputs": [
    {
     "name": "stdout",
     "output_type": "stream",
     "text": [
      "/Users/anish/Documents/Connectome/Synaptome-Duke/data/collman17/Site3Align2Stacks/resultVol3.npy\n",
      "/Users/anish/Documents/Connectome/Synaptome-Duke/data/collman17/Site3Align2Stacks/resultVol4.npy\n",
      "/Users/anish/Documents/Connectome/Synaptome-Duke/data/collman17/Site3Align2Stacks/resultVol6.npy\n",
      "/Users/anish/Documents/Connectome/Synaptome-Duke/data/collman17/Site3Align2Stacks/resultVol11.npy\n",
      "/Users/anish/Documents/Connectome/Synaptome-Duke/data/collman17/Site3Align2Stacks/resultVol15.npy\n",
      "/Users/anish/Documents/Connectome/Synaptome-Duke/data/collman17/Site3Align2Stacks/resultVol19.npy\n",
      "/Users/anish/Documents/Connectome/Synaptome-Duke/data/collman17/Site3Align2Stacks/resultVol20.npy\n",
      "/Users/anish/Documents/Connectome/Synaptome-Duke/data/collman17/Site3Align2Stacks/resultVol21.npy\n",
      "EM_per_LM [ 0.18811881  0.62871287  0.18316832]\n",
      "LM_per_EM [ 0.20710974  0.78979907  0.00309119]\n",
      "lm edge detections: 4554\n",
      "em edge annotations 156\n",
      "LM detections: 4971\n"
     ]
    }
   ],
   "source": [
    "queryresult = combineResultVolumes(listOfQueryNumbers, listOfThresholds, args)"
   ]
  },
  {
   "cell_type": "code",
   "execution_count": null,
   "metadata": {
    "collapsed": true
   },
   "outputs": [],
   "source": []
  },
  {
   "cell_type": "code",
   "execution_count": 245,
   "metadata": {},
   "outputs": [
    {
     "name": "stdout",
     "output_type": "stream",
     "text": [
      "/Users/anish/Documents/Connectome/Synaptome-Duke/data/collman17/Site3Align2Stacks/resultVol0.npy\n",
      "EM_per_LM [ 0.64797136  0.26252983  0.08949881]\n",
      "LM_per_EM [ 0.07418856  0.91499227  0.01081917]\n",
      "lm edge detections: 10116\n",
      "em edge annotations 156\n",
      "LM detections: 10975\n"
     ]
    }
   ],
   "source": [
    "listOfQueryNumbersPSD = [0]\n",
    "listOfThresholdsPSD   = [0.9]\n",
    "queryresultPSD = combineResultVolumes(listOfQueryNumbersPSD, listOfThresholdsPSD, args)"
   ]
  },
  {
   "cell_type": "code",
   "execution_count": 246,
   "metadata": {
    "collapsed": true
   },
   "outputs": [],
   "source": [
    "missedAnnoIdsPSD = pd.getMissedAnnoIds(queryresultPSD['missed_annotations'])\n"
   ]
  },
  {
   "cell_type": "code",
   "execution_count": 247,
   "metadata": {
    "collapsed": true
   },
   "outputs": [],
   "source": [
    "missedAnnoIds = pd.getMissedAnnoIds(queryresult['missed_annotations'])"
   ]
  },
  {
   "cell_type": "code",
   "execution_count": 248,
   "metadata": {},
   "outputs": [
    {
     "data": {
      "text/plain": [
       "133"
      ]
     },
     "execution_count": 248,
     "metadata": {},
     "output_type": "execute_result"
    }
   ],
   "source": [
    "len(missedAnnoIds)"
   ]
  },
  {
   "cell_type": "code",
   "execution_count": 249,
   "metadata": {},
   "outputs": [
    {
     "name": "stdout",
     "output_type": "stream",
     "text": [
      "88\n"
     ]
    }
   ],
   "source": [
    "itr = 0 \n",
    "\n",
    "old_missed_annotations =  queryresult['missed_annotations']\n",
    "missed_annotations = []\n",
    "for n, nID in enumerate(missedAnnoIds): \n",
    "    if nID in missedAnnoIdsPSD: \n",
    "        foo = 1 \n",
    "    else: \n",
    "        missed_annotations.append(old_missed_annotations[n])\n",
    "        itr = 1 + itr\n",
    "        \n",
    "print(itr)\n",
    "        "
   ]
  },
  {
   "cell_type": "code",
   "execution_count": 217,
   "metadata": {},
   "outputs": [
    {
     "data": {
      "text/plain": [
       "87"
      ]
     },
     "execution_count": 217,
     "metadata": {},
     "output_type": "execute_result"
    }
   ],
   "source": [
    "len(missed_annotations)"
   ]
  },
  {
   "cell_type": "code",
   "execution_count": 172,
   "metadata": {},
   "outputs": [
    {
     "data": {
      "text/plain": [
       "156"
      ]
     },
     "execution_count": 172,
     "metadata": {},
     "output_type": "execute_result"
    }
   ],
   "source": [
    "em_edge = queryresult['EM_edge']\n",
    "np.sum(em_edge)"
   ]
  },
  {
   "cell_type": "code",
   "execution_count": null,
   "metadata": {
    "collapsed": true
   },
   "outputs": [],
   "source": []
  },
  {
   "cell_type": "code",
   "execution_count": null,
   "metadata": {
    "collapsed": true
   },
   "outputs": [],
   "source": []
  },
  {
   "cell_type": "code",
   "execution_count": 80,
   "metadata": {
    "collapsed": true
   },
   "outputs": [],
   "source": [
    "win_xy = 4\n",
    "win_z = 1\n",
    "filepath = '/Users/anish/Documents/Connectome/Synaptome-Duke/data/collman17/Site3Align2Stacks/';\n",
    "stackList = ['results', 'PSD95', 'synapsin', 'VGlut1', 'GluN1', 'GABA', 'Gephyrin']\n",
    "showProb = True\n",
    "textXOffset = 0\n",
    "textYOffset = 5\n",
    "\n"
   ]
  },
  {
   "cell_type": "code",
   "execution_count": null,
   "metadata": {
    "collapsed": true
   },
   "outputs": [],
   "source": [
    "# for counter, synapse in enumerate(good_annotations): \n",
    "    \n",
    "#     if (LM_per_EM[counter] > 0 and EM_edge[counter]==False): \n",
    "#         bbox = synaptogram.getAnnotationBoundingBox2(synapse)\n",
    "#         bbox = synaptogram.transformSynapseCoordinates(bbox)\n",
    "#         expandedBox = synaptogram.expandBoundingBox(bbox, win_xy, win_z)\n",
    "\n",
    "#         synapseOutlinesDict = synaptogram.getAnnotationOutlines(synapse)\n",
    "#         synapseOutlinesDict = synaptogram.transformSynapseOutlinesDict(synapseOutlinesDict)\n",
    "\n",
    "#         filename = os.path.join(filepath, 'synaptograms/good', '{}.png'.format(synapse['oid']))\n",
    "\n",
    "#         img = synaptogram.getSynaptogramFromFile(bbox, win_xy, win_z, stackList, showProb, filepath);\n",
    "#         synaptogram.plotOutlinesOnImg(img, synapseOutlinesDict, expandedBox, filename, stackList, textXOffset, textYOffset)\n",
    "#         print(filename)"
   ]
  },
  {
   "cell_type": "code",
   "execution_count": 173,
   "metadata": {
    "collapsed": true
   },
   "outputs": [],
   "source": []
  },
  {
   "cell_type": "code",
   "execution_count": 250,
   "metadata": {},
   "outputs": [
    {
     "name": "stdout",
     "output_type": "stream",
     "text": [
      "/Users/anish/Documents/Connectome/Synaptome-Duke/data/collman17/Site3Align2Stacks/synaptograms/missed/581.png\n",
      "/Users/anish/Documents/Connectome/Synaptome-Duke/data/collman17/Site3Align2Stacks/synaptograms/missed/623.png\n",
      "/Users/anish/Documents/Connectome/Synaptome-Duke/data/collman17/Site3Align2Stacks/synaptograms/missed/631.png\n",
      "/Users/anish/Documents/Connectome/Synaptome-Duke/data/collman17/Site3Align2Stacks/synaptograms/missed/635.png\n",
      "/Users/anish/Documents/Connectome/Synaptome-Duke/data/collman17/Site3Align2Stacks/synaptograms/missed/691.png\n",
      "/Users/anish/Documents/Connectome/Synaptome-Duke/data/collman17/Site3Align2Stacks/synaptograms/missed/781.png\n",
      "/Users/anish/Documents/Connectome/Synaptome-Duke/data/collman17/Site3Align2Stacks/synaptograms/missed/819.png\n",
      "/Users/anish/Documents/Connectome/Synaptome-Duke/data/collman17/Site3Align2Stacks/synaptograms/missed/821.png\n",
      "/Users/anish/Documents/Connectome/Synaptome-Duke/data/collman17/Site3Align2Stacks/synaptograms/missed/827.png\n",
      "/Users/anish/Documents/Connectome/Synaptome-Duke/data/collman17/Site3Align2Stacks/synaptograms/missed/849.png\n",
      "/Users/anish/Documents/Connectome/Synaptome-Duke/data/collman17/Site3Align2Stacks/synaptograms/missed/863.png\n",
      "/Users/anish/Documents/Connectome/Synaptome-Duke/data/collman17/Site3Align2Stacks/synaptograms/missed/883.png\n",
      "/Users/anish/Documents/Connectome/Synaptome-Duke/data/collman17/Site3Align2Stacks/synaptograms/missed/897.png\n",
      "/Users/anish/Documents/Connectome/Synaptome-Duke/data/collman17/Site3Align2Stacks/synaptograms/missed/901.png\n",
      "/Users/anish/Documents/Connectome/Synaptome-Duke/data/collman17/Site3Align2Stacks/synaptograms/missed/931.png\n",
      "/Users/anish/Documents/Connectome/Synaptome-Duke/data/collman17/Site3Align2Stacks/synaptograms/missed/945.png\n",
      "/Users/anish/Documents/Connectome/Synaptome-Duke/data/collman17/Site3Align2Stacks/synaptograms/missed/949.png\n",
      "/Users/anish/Documents/Connectome/Synaptome-Duke/data/collman17/Site3Align2Stacks/synaptograms/missed/963.png\n",
      "/Users/anish/Documents/Connectome/Synaptome-Duke/data/collman17/Site3Align2Stacks/synaptograms/missed/971.png\n",
      "/Users/anish/Documents/Connectome/Synaptome-Duke/data/collman17/Site3Align2Stacks/synaptograms/missed/995.png\n",
      "/Users/anish/Documents/Connectome/Synaptome-Duke/data/collman17/Site3Align2Stacks/synaptograms/missed/1001.png\n",
      "/Users/anish/Documents/Connectome/Synaptome-Duke/data/collman17/Site3Align2Stacks/synaptograms/missed/1029.png\n",
      "/Users/anish/Documents/Connectome/Synaptome-Duke/data/collman17/Site3Align2Stacks/synaptograms/missed/1085.png\n",
      "/Users/anish/Documents/Connectome/Synaptome-Duke/data/collman17/Site3Align2Stacks/synaptograms/missed/1129.png\n",
      "/Users/anish/Documents/Connectome/Synaptome-Duke/data/collman17/Site3Align2Stacks/synaptograms/missed/1139.png\n",
      "/Users/anish/Documents/Connectome/Synaptome-Duke/data/collman17/Site3Align2Stacks/synaptograms/missed/1189.png\n",
      "/Users/anish/Documents/Connectome/Synaptome-Duke/data/collman17/Site3Align2Stacks/synaptograms/missed/1227.png\n",
      "/Users/anish/Documents/Connectome/Synaptome-Duke/data/collman17/Site3Align2Stacks/synaptograms/missed/1299.png\n",
      "/Users/anish/Documents/Connectome/Synaptome-Duke/data/collman17/Site3Align2Stacks/synaptograms/missed/1393.png\n",
      "/Users/anish/Documents/Connectome/Synaptome-Duke/data/collman17/Site3Align2Stacks/synaptograms/missed/1395.png\n",
      "/Users/anish/Documents/Connectome/Synaptome-Duke/data/collman17/Site3Align2Stacks/synaptograms/missed/1409.png\n",
      "/Users/anish/Documents/Connectome/Synaptome-Duke/data/collman17/Site3Align2Stacks/synaptograms/missed/1415.png\n",
      "/Users/anish/Documents/Connectome/Synaptome-Duke/data/collman17/Site3Align2Stacks/synaptograms/missed/1443.png\n",
      "/Users/anish/Documents/Connectome/Synaptome-Duke/data/collman17/Site3Align2Stacks/synaptograms/missed/1453.png\n",
      "/Users/anish/Documents/Connectome/Synaptome-Duke/data/collman17/Site3Align2Stacks/synaptograms/missed/1457.png\n",
      "/Users/anish/Documents/Connectome/Synaptome-Duke/data/collman17/Site3Align2Stacks/synaptograms/missed/1463.png\n",
      "/Users/anish/Documents/Connectome/Synaptome-Duke/data/collman17/Site3Align2Stacks/synaptograms/missed/1471.png\n",
      "/Users/anish/Documents/Connectome/Synaptome-Duke/data/collman17/Site3Align2Stacks/synaptograms/missed/1491.png\n",
      "/Users/anish/Documents/Connectome/Synaptome-Duke/data/collman17/Site3Align2Stacks/synaptograms/missed/1513.png\n",
      "/Users/anish/Documents/Connectome/Synaptome-Duke/data/collman17/Site3Align2Stacks/synaptograms/missed/1519.png\n",
      "/Users/anish/Documents/Connectome/Synaptome-Duke/data/collman17/Site3Align2Stacks/synaptograms/missed/1569.png\n",
      "/Users/anish/Documents/Connectome/Synaptome-Duke/data/collman17/Site3Align2Stacks/synaptograms/missed/1577.png\n",
      "/Users/anish/Documents/Connectome/Synaptome-Duke/data/collman17/Site3Align2Stacks/synaptograms/missed/1587.png\n",
      "/Users/anish/Documents/Connectome/Synaptome-Duke/data/collman17/Site3Align2Stacks/synaptograms/missed/1631.png\n",
      "/Users/anish/Documents/Connectome/Synaptome-Duke/data/collman17/Site3Align2Stacks/synaptograms/missed/1679.png\n",
      "/Users/anish/Documents/Connectome/Synaptome-Duke/data/collman17/Site3Align2Stacks/synaptograms/missed/1743.png\n",
      "/Users/anish/Documents/Connectome/Synaptome-Duke/data/collman17/Site3Align2Stacks/synaptograms/missed/1747.png\n",
      "/Users/anish/Documents/Connectome/Synaptome-Duke/data/collman17/Site3Align2Stacks/synaptograms/missed/1755.png\n",
      "/Users/anish/Documents/Connectome/Synaptome-Duke/data/collman17/Site3Align2Stacks/synaptograms/missed/1761.png\n",
      "/Users/anish/Documents/Connectome/Synaptome-Duke/data/collman17/Site3Align2Stacks/synaptograms/missed/1763.png\n",
      "/Users/anish/Documents/Connectome/Synaptome-Duke/data/collman17/Site3Align2Stacks/synaptograms/missed/1799.png\n",
      "/Users/anish/Documents/Connectome/Synaptome-Duke/data/collman17/Site3Align2Stacks/synaptograms/missed/1801.png\n",
      "/Users/anish/Documents/Connectome/Synaptome-Duke/data/collman17/Site3Align2Stacks/synaptograms/missed/1835.png\n",
      "/Users/anish/Documents/Connectome/Synaptome-Duke/data/collman17/Site3Align2Stacks/synaptograms/missed/1847.png\n",
      "/Users/anish/Documents/Connectome/Synaptome-Duke/data/collman17/Site3Align2Stacks/synaptograms/missed/1885.png\n",
      "/Users/anish/Documents/Connectome/Synaptome-Duke/data/collman17/Site3Align2Stacks/synaptograms/missed/1891.png\n",
      "/Users/anish/Documents/Connectome/Synaptome-Duke/data/collman17/Site3Align2Stacks/synaptograms/missed/1903.png\n",
      "/Users/anish/Documents/Connectome/Synaptome-Duke/data/collman17/Site3Align2Stacks/synaptograms/missed/1909.png\n",
      "/Users/anish/Documents/Connectome/Synaptome-Duke/data/collman17/Site3Align2Stacks/synaptograms/missed/1921.png\n",
      "/Users/anish/Documents/Connectome/Synaptome-Duke/data/collman17/Site3Align2Stacks/synaptograms/missed/1941.png\n",
      "/Users/anish/Documents/Connectome/Synaptome-Duke/data/collman17/Site3Align2Stacks/synaptograms/missed/1949.png\n",
      "/Users/anish/Documents/Connectome/Synaptome-Duke/data/collman17/Site3Align2Stacks/synaptograms/missed/1953.png\n",
      "/Users/anish/Documents/Connectome/Synaptome-Duke/data/collman17/Site3Align2Stacks/synaptograms/missed/1963.png\n",
      "/Users/anish/Documents/Connectome/Synaptome-Duke/data/collman17/Site3Align2Stacks/synaptograms/missed/1969.png\n",
      "/Users/anish/Documents/Connectome/Synaptome-Duke/data/collman17/Site3Align2Stacks/synaptograms/missed/2005.png\n",
      "/Users/anish/Documents/Connectome/Synaptome-Duke/data/collman17/Site3Align2Stacks/synaptograms/missed/2047.png\n",
      "/Users/anish/Documents/Connectome/Synaptome-Duke/data/collman17/Site3Align2Stacks/synaptograms/missed/2139.png\n",
      "/Users/anish/Documents/Connectome/Synaptome-Duke/data/collman17/Site3Align2Stacks/synaptograms/missed/2182.png\n",
      "/Users/anish/Documents/Connectome/Synaptome-Duke/data/collman17/Site3Align2Stacks/synaptograms/missed/2190.png\n",
      "/Users/anish/Documents/Connectome/Synaptome-Duke/data/collman17/Site3Align2Stacks/synaptograms/missed/2226.png\n",
      "/Users/anish/Documents/Connectome/Synaptome-Duke/data/collman17/Site3Align2Stacks/synaptograms/missed/2262.png\n",
      "/Users/anish/Documents/Connectome/Synaptome-Duke/data/collman17/Site3Align2Stacks/synaptograms/missed/2282.png\n",
      "/Users/anish/Documents/Connectome/Synaptome-Duke/data/collman17/Site3Align2Stacks/synaptograms/missed/2284.png\n",
      "/Users/anish/Documents/Connectome/Synaptome-Duke/data/collman17/Site3Align2Stacks/synaptograms/missed/2326.png\n"
     ]
    },
    {
     "name": "stdout",
     "output_type": "stream",
     "text": [
      "/Users/anish/Documents/Connectome/Synaptome-Duke/data/collman17/Site3Align2Stacks/synaptograms/missed/2434.png\n",
      "/Users/anish/Documents/Connectome/Synaptome-Duke/data/collman17/Site3Align2Stacks/synaptograms/missed/2442.png\n",
      "/Users/anish/Documents/Connectome/Synaptome-Duke/data/collman17/Site3Align2Stacks/synaptograms/missed/2474.png\n",
      "/Users/anish/Documents/Connectome/Synaptome-Duke/data/collman17/Site3Align2Stacks/synaptograms/missed/2478.png\n",
      "/Users/anish/Documents/Connectome/Synaptome-Duke/data/collman17/Site3Align2Stacks/synaptograms/missed/2516.png\n",
      "/Users/anish/Documents/Connectome/Synaptome-Duke/data/collman17/Site3Align2Stacks/synaptograms/missed/2532.png\n",
      "/Users/anish/Documents/Connectome/Synaptome-Duke/data/collman17/Site3Align2Stacks/synaptograms/missed/2534.png\n",
      "/Users/anish/Documents/Connectome/Synaptome-Duke/data/collman17/Site3Align2Stacks/synaptograms/missed/2582.png\n",
      "/Users/anish/Documents/Connectome/Synaptome-Duke/data/collman17/Site3Align2Stacks/synaptograms/missed/2586.png\n",
      "/Users/anish/Documents/Connectome/Synaptome-Duke/data/collman17/Site3Align2Stacks/synaptograms/missed/2720.png\n",
      "/Users/anish/Documents/Connectome/Synaptome-Duke/data/collman17/Site3Align2Stacks/synaptograms/missed/2802.png\n",
      "/Users/anish/Documents/Connectome/Synaptome-Duke/data/collman17/Site3Align2Stacks/synaptograms/missed/2820.png\n",
      "/Users/anish/Documents/Connectome/Synaptome-Duke/data/collman17/Site3Align2Stacks/synaptograms/missed/2830.png\n",
      "/Users/anish/Documents/Connectome/Synaptome-Duke/data/collman17/Site3Align2Stacks/synaptograms/missed/2840.png\n"
     ]
    }
   ],
   "source": [
    "for counter, synapse in enumerate(missed_annotations): \n",
    "    \n",
    "    #if synapse['oid'] in missed_anno: \n",
    "    bbox = synaptogram.getAnnotationBoundingBox2(synapse)\n",
    "    bbox = synaptogram.transformSynapseCoordinates(bbox)\n",
    "    expandedBox = synaptogram.expandBoundingBox(bbox, win_xy, win_z)\n",
    "\n",
    "    synapseOutlinesDict = synaptogram.getAnnotationOutlines(synapse)\n",
    "    synapseOutlinesDict = synaptogram.transformSynapseOutlinesDict(synapseOutlinesDict)\n",
    "\n",
    "    filename = os.path.join(filepath, 'synaptograms/missed', '{}.png'.format(synapse['oid']))\n",
    "\n",
    "    img = synaptogram.getSynaptogramFromFile(bbox, win_xy, win_z, stackList, showProb, filepath);\n",
    "    synaptogram.plotOutlinesOnImg(img, synapseOutlinesDict, expandedBox, filename, stackList, textXOffset, textYOffset)\n",
    "    print(filename)"
   ]
  },
  {
   "cell_type": "code",
   "execution_count": null,
   "metadata": {
    "collapsed": true
   },
   "outputs": [],
   "source": [
    "#false postives "
   ]
  },
  {
   "cell_type": "code",
   "execution_count": 251,
   "metadata": {
    "collapsed": true
   },
   "outputs": [],
   "source": [
    "false_positives = queryresult['false_positives']"
   ]
  },
  {
   "cell_type": "code",
   "execution_count": 252,
   "metadata": {},
   "outputs": [
    {
     "data": {
      "text/plain": [
       "{'areas': [{'global_path': array([[ 8958.33333333,  5091.66666667],\n",
       "          [ 8958.33333333,  5175.        ],\n",
       "          [ 9008.33333333,  5175.        ],\n",
       "          [ 9008.33333333,  5091.66666667],\n",
       "          [ 8958.33333333,  5091.66666667]]), 'z': 39.0},\n",
       "  {'global_path': array([[ 8958.33333333,  5091.66666667],\n",
       "          [ 8958.33333333,  5175.        ],\n",
       "          [ 9008.33333333,  5175.        ],\n",
       "          [ 9008.33333333,  5091.66666667],\n",
       "          [ 8958.33333333,  5091.66666667]]), 'z': 40.0}],\n",
       " 'id': 1823,\n",
       " 'oid': '1823'}"
      ]
     },
     "execution_count": 252,
     "metadata": {},
     "output_type": "execute_result"
    }
   ],
   "source": [
    "false_positives[0]"
   ]
  },
  {
   "cell_type": "code",
   "execution_count": 253,
   "metadata": {},
   "outputs": [
    {
     "name": "stdout",
     "output_type": "stream",
     "text": [
      "/Users/anish/Documents/Connectome/Synaptome-Duke/data/collman17/Site3Align2Stacks/synaptograms/false_positives/1823.png\n",
      "/Users/anish/Documents/Connectome/Synaptome-Duke/data/collman17/Site3Align2Stacks/synaptograms/false_positives/1825.png\n",
      "/Users/anish/Documents/Connectome/Synaptome-Duke/data/collman17/Site3Align2Stacks/synaptograms/false_positives/1841.png\n",
      "/Users/anish/Documents/Connectome/Synaptome-Duke/data/collman17/Site3Align2Stacks/synaptograms/false_positives/1867.png\n",
      "/Users/anish/Documents/Connectome/Synaptome-Duke/data/collman17/Site3Align2Stacks/synaptograms/false_positives/1868.png\n",
      "/Users/anish/Documents/Connectome/Synaptome-Duke/data/collman17/Site3Align2Stacks/synaptograms/false_positives/1884.png\n",
      "/Users/anish/Documents/Connectome/Synaptome-Duke/data/collman17/Site3Align2Stacks/synaptograms/false_positives/1885.png\n",
      "/Users/anish/Documents/Connectome/Synaptome-Duke/data/collman17/Site3Align2Stacks/synaptograms/false_positives/1887.png\n",
      "/Users/anish/Documents/Connectome/Synaptome-Duke/data/collman17/Site3Align2Stacks/synaptograms/false_positives/1889.png\n",
      "/Users/anish/Documents/Connectome/Synaptome-Duke/data/collman17/Site3Align2Stacks/synaptograms/false_positives/1899.png\n",
      "/Users/anish/Documents/Connectome/Synaptome-Duke/data/collman17/Site3Align2Stacks/synaptograms/false_positives/1939.png\n",
      "/Users/anish/Documents/Connectome/Synaptome-Duke/data/collman17/Site3Align2Stacks/synaptograms/false_positives/1959.png\n",
      "/Users/anish/Documents/Connectome/Synaptome-Duke/data/collman17/Site3Align2Stacks/synaptograms/false_positives/1962.png\n",
      "/Users/anish/Documents/Connectome/Synaptome-Duke/data/collman17/Site3Align2Stacks/synaptograms/false_positives/1976.png\n",
      "/Users/anish/Documents/Connectome/Synaptome-Duke/data/collman17/Site3Align2Stacks/synaptograms/false_positives/1996.png\n",
      "/Users/anish/Documents/Connectome/Synaptome-Duke/data/collman17/Site3Align2Stacks/synaptograms/false_positives/2005.png\n",
      "/Users/anish/Documents/Connectome/Synaptome-Duke/data/collman17/Site3Align2Stacks/synaptograms/false_positives/2007.png\n",
      "/Users/anish/Documents/Connectome/Synaptome-Duke/data/collman17/Site3Align2Stacks/synaptograms/false_positives/2039.png\n",
      "/Users/anish/Documents/Connectome/Synaptome-Duke/data/collman17/Site3Align2Stacks/synaptograms/false_positives/2049.png\n",
      "/Users/anish/Documents/Connectome/Synaptome-Duke/data/collman17/Site3Align2Stacks/synaptograms/false_positives/2085.png\n",
      "/Users/anish/Documents/Connectome/Synaptome-Duke/data/collman17/Site3Align2Stacks/synaptograms/false_positives/2089.png\n",
      "/Users/anish/Documents/Connectome/Synaptome-Duke/data/collman17/Site3Align2Stacks/synaptograms/false_positives/2113.png\n",
      "/Users/anish/Documents/Connectome/Synaptome-Duke/data/collman17/Site3Align2Stacks/synaptograms/false_positives/2119.png\n",
      "/Users/anish/Documents/Connectome/Synaptome-Duke/data/collman17/Site3Align2Stacks/synaptograms/false_positives/2131.png\n",
      "/Users/anish/Documents/Connectome/Synaptome-Duke/data/collman17/Site3Align2Stacks/synaptograms/false_positives/2140.png\n",
      "/Users/anish/Documents/Connectome/Synaptome-Duke/data/collman17/Site3Align2Stacks/synaptograms/false_positives/2142.png\n",
      "/Users/anish/Documents/Connectome/Synaptome-Duke/data/collman17/Site3Align2Stacks/synaptograms/false_positives/2165.png\n",
      "/Users/anish/Documents/Connectome/Synaptome-Duke/data/collman17/Site3Align2Stacks/synaptograms/false_positives/2170.png\n",
      "/Users/anish/Documents/Connectome/Synaptome-Duke/data/collman17/Site3Align2Stacks/synaptograms/false_positives/2183.png\n",
      "/Users/anish/Documents/Connectome/Synaptome-Duke/data/collman17/Site3Align2Stacks/synaptograms/false_positives/2221.png\n",
      "/Users/anish/Documents/Connectome/Synaptome-Duke/data/collman17/Site3Align2Stacks/synaptograms/false_positives/2234.png\n",
      "/Users/anish/Documents/Connectome/Synaptome-Duke/data/collman17/Site3Align2Stacks/synaptograms/false_positives/2240.png\n",
      "/Users/anish/Documents/Connectome/Synaptome-Duke/data/collman17/Site3Align2Stacks/synaptograms/false_positives/2241.png\n",
      "/Users/anish/Documents/Connectome/Synaptome-Duke/data/collman17/Site3Align2Stacks/synaptograms/false_positives/2247.png\n",
      "/Users/anish/Documents/Connectome/Synaptome-Duke/data/collman17/Site3Align2Stacks/synaptograms/false_positives/2252.png\n",
      "/Users/anish/Documents/Connectome/Synaptome-Duke/data/collman17/Site3Align2Stacks/synaptograms/false_positives/2292.png\n",
      "/Users/anish/Documents/Connectome/Synaptome-Duke/data/collman17/Site3Align2Stacks/synaptograms/false_positives/2293.png\n",
      "/Users/anish/Documents/Connectome/Synaptome-Duke/data/collman17/Site3Align2Stacks/synaptograms/false_positives/2302.png\n",
      "/Users/anish/Documents/Connectome/Synaptome-Duke/data/collman17/Site3Align2Stacks/synaptograms/false_positives/2323.png\n",
      "/Users/anish/Documents/Connectome/Synaptome-Duke/data/collman17/Site3Align2Stacks/synaptograms/false_positives/2335.png\n",
      "/Users/anish/Documents/Connectome/Synaptome-Duke/data/collman17/Site3Align2Stacks/synaptograms/false_positives/2354.png\n",
      "/Users/anish/Documents/Connectome/Synaptome-Duke/data/collman17/Site3Align2Stacks/synaptograms/false_positives/2365.png\n",
      "/Users/anish/Documents/Connectome/Synaptome-Duke/data/collman17/Site3Align2Stacks/synaptograms/false_positives/2400.png\n",
      "/Users/anish/Documents/Connectome/Synaptome-Duke/data/collman17/Site3Align2Stacks/synaptograms/false_positives/2437.png\n",
      "/Users/anish/Documents/Connectome/Synaptome-Duke/data/collman17/Site3Align2Stacks/synaptograms/false_positives/2449.png\n",
      "/Users/anish/Documents/Connectome/Synaptome-Duke/data/collman17/Site3Align2Stacks/synaptograms/false_positives/2470.png\n",
      "/Users/anish/Documents/Connectome/Synaptome-Duke/data/collman17/Site3Align2Stacks/synaptograms/false_positives/2473.png\n",
      "/Users/anish/Documents/Connectome/Synaptome-Duke/data/collman17/Site3Align2Stacks/synaptograms/false_positives/2483.png\n",
      "/Users/anish/Documents/Connectome/Synaptome-Duke/data/collman17/Site3Align2Stacks/synaptograms/false_positives/2499.png\n",
      "/Users/anish/Documents/Connectome/Synaptome-Duke/data/collman17/Site3Align2Stacks/synaptograms/false_positives/2548.png\n",
      "/Users/anish/Documents/Connectome/Synaptome-Duke/data/collman17/Site3Align2Stacks/synaptograms/false_positives/2594.png\n",
      "/Users/anish/Documents/Connectome/Synaptome-Duke/data/collman17/Site3Align2Stacks/synaptograms/false_positives/2603.png\n",
      "/Users/anish/Documents/Connectome/Synaptome-Duke/data/collman17/Site3Align2Stacks/synaptograms/false_positives/2616.png\n",
      "/Users/anish/Documents/Connectome/Synaptome-Duke/data/collman17/Site3Align2Stacks/synaptograms/false_positives/2631.png\n",
      "/Users/anish/Documents/Connectome/Synaptome-Duke/data/collman17/Site3Align2Stacks/synaptograms/false_positives/2633.png\n",
      "/Users/anish/Documents/Connectome/Synaptome-Duke/data/collman17/Site3Align2Stacks/synaptograms/false_positives/2679.png\n",
      "/Users/anish/Documents/Connectome/Synaptome-Duke/data/collman17/Site3Align2Stacks/synaptograms/false_positives/2697.png\n",
      "/Users/anish/Documents/Connectome/Synaptome-Duke/data/collman17/Site3Align2Stacks/synaptograms/false_positives/2753.png\n",
      "/Users/anish/Documents/Connectome/Synaptome-Duke/data/collman17/Site3Align2Stacks/synaptograms/false_positives/2763.png\n",
      "/Users/anish/Documents/Connectome/Synaptome-Duke/data/collman17/Site3Align2Stacks/synaptograms/false_positives/2811.png\n",
      "/Users/anish/Documents/Connectome/Synaptome-Duke/data/collman17/Site3Align2Stacks/synaptograms/false_positives/2812.png\n",
      "/Users/anish/Documents/Connectome/Synaptome-Duke/data/collman17/Site3Align2Stacks/synaptograms/false_positives/2845.png\n",
      "/Users/anish/Documents/Connectome/Synaptome-Duke/data/collman17/Site3Align2Stacks/synaptograms/false_positives/2890.png\n",
      "/Users/anish/Documents/Connectome/Synaptome-Duke/data/collman17/Site3Align2Stacks/synaptograms/false_positives/2891.png\n",
      "/Users/anish/Documents/Connectome/Synaptome-Duke/data/collman17/Site3Align2Stacks/synaptograms/false_positives/2892.png\n",
      "/Users/anish/Documents/Connectome/Synaptome-Duke/data/collman17/Site3Align2Stacks/synaptograms/false_positives/2909.png\n",
      "/Users/anish/Documents/Connectome/Synaptome-Duke/data/collman17/Site3Align2Stacks/synaptograms/false_positives/2911.png\n",
      "/Users/anish/Documents/Connectome/Synaptome-Duke/data/collman17/Site3Align2Stacks/synaptograms/false_positives/2974.png\n",
      "/Users/anish/Documents/Connectome/Synaptome-Duke/data/collman17/Site3Align2Stacks/synaptograms/false_positives/3001.png\n"
     ]
    },
    {
     "name": "stdout",
     "output_type": "stream",
     "text": [
      "/Users/anish/Documents/Connectome/Synaptome-Duke/data/collman17/Site3Align2Stacks/synaptograms/false_positives/3025.png\n",
      "/Users/anish/Documents/Connectome/Synaptome-Duke/data/collman17/Site3Align2Stacks/synaptograms/false_positives/3053.png\n",
      "/Users/anish/Documents/Connectome/Synaptome-Duke/data/collman17/Site3Align2Stacks/synaptograms/false_positives/3054.png\n",
      "/Users/anish/Documents/Connectome/Synaptome-Duke/data/collman17/Site3Align2Stacks/synaptograms/false_positives/3067.png\n",
      "/Users/anish/Documents/Connectome/Synaptome-Duke/data/collman17/Site3Align2Stacks/synaptograms/false_positives/3098.png\n",
      "/Users/anish/Documents/Connectome/Synaptome-Duke/data/collman17/Site3Align2Stacks/synaptograms/false_positives/3121.png\n",
      "/Users/anish/Documents/Connectome/Synaptome-Duke/data/collman17/Site3Align2Stacks/synaptograms/false_positives/3123.png\n",
      "/Users/anish/Documents/Connectome/Synaptome-Duke/data/collman17/Site3Align2Stacks/synaptograms/false_positives/3135.png\n",
      "/Users/anish/Documents/Connectome/Synaptome-Duke/data/collman17/Site3Align2Stacks/synaptograms/false_positives/3144.png\n",
      "/Users/anish/Documents/Connectome/Synaptome-Duke/data/collman17/Site3Align2Stacks/synaptograms/false_positives/3162.png\n",
      "/Users/anish/Documents/Connectome/Synaptome-Duke/data/collman17/Site3Align2Stacks/synaptograms/false_positives/3164.png\n",
      "/Users/anish/Documents/Connectome/Synaptome-Duke/data/collman17/Site3Align2Stacks/synaptograms/false_positives/3182.png\n",
      "/Users/anish/Documents/Connectome/Synaptome-Duke/data/collman17/Site3Align2Stacks/synaptograms/false_positives/3184.png\n",
      "/Users/anish/Documents/Connectome/Synaptome-Duke/data/collman17/Site3Align2Stacks/synaptograms/false_positives/3185.png\n",
      "/Users/anish/Documents/Connectome/Synaptome-Duke/data/collman17/Site3Align2Stacks/synaptograms/false_positives/3200.png\n"
     ]
    }
   ],
   "source": [
    "for counter, synapse in enumerate(false_positives): \n",
    "\n",
    "    bbox = synaptogram.getAnnotationBoundingBox2(synapse)\n",
    "    bbox = synaptogram.transformSynapseCoordinates(bbox)\n",
    "    expandedBox = synaptogram.expandBoundingBox(bbox, win_xy, win_z)\n",
    "\n",
    "    synapseOutlinesDict = synaptogram.getAnnotationOutlines(synapse)\n",
    "    synapseOutlinesDict = synaptogram.transformSynapseOutlinesDict(synapseOutlinesDict)\n",
    "\n",
    "    filename = os.path.join(filepath, 'synaptograms/false_positives', '{}.png'.format(synapse['oid']))\n",
    "\n",
    "    img = synaptogram.getSynaptogramFromFile(bbox, win_xy, win_z, stackList, showProb, filepath);\n",
    "    synaptogram.plotOutlinesOnImg(img, synapseOutlinesDict, expandedBox, filename, stackList, textXOffset, textYOffset)\n",
    "    print(filename)"
   ]
  },
  {
   "cell_type": "code",
   "execution_count": 84,
   "metadata": {},
   "outputs": [
    {
     "name": "stdout",
     "output_type": "stream",
     "text": [
      "1\n"
     ]
    }
   ],
   "source": [
    "for n in range(1, 2): \n",
    "    print(n) "
   ]
  },
  {
   "cell_type": "code",
   "execution_count": null,
   "metadata": {
    "collapsed": true
   },
   "outputs": [],
   "source": [
    "603"
   ]
  }
 ],
 "metadata": {
  "kernelspec": {
   "display_name": "Python [conda env:synapse_analysis]",
   "language": "python",
   "name": "conda-env-synapse_analysis-py"
  },
  "language_info": {
   "codemirror_mode": {
    "name": "ipython",
    "version": 3
   },
   "file_extension": ".py",
   "mimetype": "text/x-python",
   "name": "python",
   "nbconvert_exporter": "python",
   "pygments_lexer": "ipython3",
   "version": "3.5.4"
  }
 },
 "nbformat": 4,
 "nbformat_minor": 1
}
