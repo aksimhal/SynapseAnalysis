{
 "cells": [
  {
   "cell_type": "code",
   "execution_count": 1,
   "metadata": {},
   "outputs": [],
   "source": [
    "# Create synaptograms from an input json file "
   ]
  },
  {
   "cell_type": "code",
   "execution_count": 2,
   "metadata": {
    "scrolled": true
   },
   "outputs": [],
   "source": [
    "import numpy as np \n",
    "from at_synapse_detection import synaptogram\n",
    "from at_synapse_detection.render_module import RenderModule\n",
    "import renderapi\n",
    "import matplotlib.pyplot as plt\n",
    "from at_synapse_detection import dataAccess as da\n",
    "from at_synapse_detection import SynapseDetection as syn \n",
    "import os\n",
    "import json \n",
    "import pandas as pd \n",
    "from at_synapse_detection import evaluate_synapse_detection as esd\n",
    "from at_synapse_detection.AnnotationJsonSchema import AnnotationFile, NumpyArray\n",
    "import importlib\n"
   ]
  },
  {
   "cell_type": "code",
   "execution_count": 3,
   "metadata": {},
   "outputs": [],
   "source": [
    "data = json.load(open('../data/M247514_Rorb_1/Site3Align2/json_annotations/m247514_Site3Annotation_MN_global_v2.json'))"
   ]
  },
  {
   "cell_type": "code",
   "execution_count": 4,
   "metadata": {},
   "outputs": [],
   "source": [
    "listOfSynapses = data['area_lists']"
   ]
  },
  {
   "cell_type": "code",
   "execution_count": 5,
   "metadata": {},
   "outputs": [],
   "source": [
    "synapse = listOfSynapses[0]"
   ]
  },
  {
   "cell_type": "code",
   "execution_count": 6,
   "metadata": {},
   "outputs": [
    {
     "data": {
      "text/plain": [
       "'559'"
      ]
     },
     "execution_count": 6,
     "metadata": {},
     "output_type": "execute_result"
    }
   ],
   "source": [
    "synapse['oid']"
   ]
  },
  {
   "cell_type": "code",
   "execution_count": 7,
   "metadata": {},
   "outputs": [],
   "source": [
    "win_xy = 4\n",
    "win_z = 1"
   ]
  },
  {
   "cell_type": "code",
   "execution_count": 8,
   "metadata": {},
   "outputs": [],
   "source": [
    "bbox = synaptogram.getAnnotationBoundingBox2(synapse)\n",
    "bbox = synaptogram.transformSynapseCoordinates(bbox)\n",
    "expandedBox = synaptogram.expandBoundingBox(bbox, win_xy, win_z)"
   ]
  },
  {
   "cell_type": "code",
   "execution_count": 74,
   "metadata": {},
   "outputs": [
    {
     "name": "stderr",
     "output_type": "stream",
     "text": [
      "/Users/anish/Documents/Connectome/SynapseAnalysis/at_synapse_detection/synaptogram.py:11: UserWarning: \n",
      "This call to matplotlib.use() has no effect because the backend has already\n",
      "been chosen; matplotlib.use() must be called *before* pylab, matplotlib.pyplot,\n",
      "or matplotlib.backends is imported for the first time.\n",
      "\n",
      "The backend was *originally* set to 'nbAgg' by the following code:\n",
      "  File \"/Users/anish/anaconda3/envs/synapse_analysis/lib/python3.5/runpy.py\", line 193, in _run_module_as_main\n",
      "    \"__main__\", mod_spec)\n",
      "  File \"/Users/anish/anaconda3/envs/synapse_analysis/lib/python3.5/runpy.py\", line 85, in _run_code\n",
      "    exec(code, run_globals)\n",
      "  File \"/Users/anish/anaconda3/envs/synapse_analysis/lib/python3.5/site-packages/ipykernel/__main__.py\", line 3, in <module>\n",
      "    app.launch_new_instance()\n",
      "  File \"/Users/anish/anaconda3/envs/synapse_analysis/lib/python3.5/site-packages/traitlets/config/application.py\", line 658, in launch_instance\n",
      "    app.start()\n",
      "  File \"/Users/anish/anaconda3/envs/synapse_analysis/lib/python3.5/site-packages/ipykernel/kernelapp.py\", line 477, in start\n",
      "    ioloop.IOLoop.instance().start()\n",
      "  File \"/Users/anish/anaconda3/envs/synapse_analysis/lib/python3.5/site-packages/zmq/eventloop/ioloop.py\", line 177, in start\n",
      "    super(ZMQIOLoop, self).start()\n",
      "  File \"/Users/anish/anaconda3/envs/synapse_analysis/lib/python3.5/site-packages/tornado/ioloop.py\", line 888, in start\n",
      "    handler_func(fd_obj, events)\n",
      "  File \"/Users/anish/anaconda3/envs/synapse_analysis/lib/python3.5/site-packages/tornado/stack_context.py\", line 277, in null_wrapper\n",
      "    return fn(*args, **kwargs)\n",
      "  File \"/Users/anish/anaconda3/envs/synapse_analysis/lib/python3.5/site-packages/zmq/eventloop/zmqstream.py\", line 440, in _handle_events\n",
      "    self._handle_recv()\n",
      "  File \"/Users/anish/anaconda3/envs/synapse_analysis/lib/python3.5/site-packages/zmq/eventloop/zmqstream.py\", line 472, in _handle_recv\n",
      "    self._run_callback(callback, msg)\n",
      "  File \"/Users/anish/anaconda3/envs/synapse_analysis/lib/python3.5/site-packages/zmq/eventloop/zmqstream.py\", line 414, in _run_callback\n",
      "    callback(*args, **kwargs)\n",
      "  File \"/Users/anish/anaconda3/envs/synapse_analysis/lib/python3.5/site-packages/tornado/stack_context.py\", line 277, in null_wrapper\n",
      "    return fn(*args, **kwargs)\n",
      "  File \"/Users/anish/anaconda3/envs/synapse_analysis/lib/python3.5/site-packages/ipykernel/kernelbase.py\", line 283, in dispatcher\n",
      "    return self.dispatch_shell(stream, msg)\n",
      "  File \"/Users/anish/anaconda3/envs/synapse_analysis/lib/python3.5/site-packages/ipykernel/kernelbase.py\", line 235, in dispatch_shell\n",
      "    handler(stream, idents, msg)\n",
      "  File \"/Users/anish/anaconda3/envs/synapse_analysis/lib/python3.5/site-packages/ipykernel/kernelbase.py\", line 399, in execute_request\n",
      "    user_expressions, allow_stdin)\n",
      "  File \"/Users/anish/anaconda3/envs/synapse_analysis/lib/python3.5/site-packages/ipykernel/ipkernel.py\", line 196, in do_execute\n",
      "    res = shell.run_cell(code, store_history=store_history, silent=silent)\n",
      "  File \"/Users/anish/anaconda3/envs/synapse_analysis/lib/python3.5/site-packages/ipykernel/zmqshell.py\", line 533, in run_cell\n",
      "    return super(ZMQInteractiveShell, self).run_cell(*args, **kwargs)\n",
      "  File \"/Users/anish/anaconda3/envs/synapse_analysis/lib/python3.5/site-packages/IPython/core/interactiveshell.py\", line 2728, in run_cell\n",
      "    interactivity=interactivity, compiler=compiler, result=result)\n",
      "  File \"/Users/anish/anaconda3/envs/synapse_analysis/lib/python3.5/site-packages/IPython/core/interactiveshell.py\", line 2850, in run_ast_nodes\n",
      "    if self.run_code(code, result):\n",
      "  File \"/Users/anish/anaconda3/envs/synapse_analysis/lib/python3.5/site-packages/IPython/core/interactiveshell.py\", line 2910, in run_code\n",
      "    exec(code_obj, self.user_global_ns, self.user_ns)\n",
      "  File \"<ipython-input-14-6069077053d4>\", line 1, in <module>\n",
      "    get_ipython().run_line_magic('matplotlib', 'notebook')\n",
      "  File \"/Users/anish/anaconda3/envs/synapse_analysis/lib/python3.5/site-packages/IPython/core/interactiveshell.py\", line 2095, in run_line_magic\n",
      "    result = fn(*args,**kwargs)\n",
      "  File \"<decorator-gen-107>\", line 2, in matplotlib\n",
      "  File \"/Users/anish/anaconda3/envs/synapse_analysis/lib/python3.5/site-packages/IPython/core/magic.py\", line 187, in <lambda>\n",
      "    call = lambda f, *a, **k: f(*a, **k)\n",
      "  File \"/Users/anish/anaconda3/envs/synapse_analysis/lib/python3.5/site-packages/IPython/core/magics/pylab.py\", line 99, in matplotlib\n",
      "    gui, backend = self.shell.enable_matplotlib(args.gui)\n",
      "  File \"/Users/anish/anaconda3/envs/synapse_analysis/lib/python3.5/site-packages/IPython/core/interactiveshell.py\", line 2978, in enable_matplotlib\n",
      "    pt.activate_matplotlib(backend)\n",
      "  File \"/Users/anish/anaconda3/envs/synapse_analysis/lib/python3.5/site-packages/IPython/core/pylabtools.py\", line 308, in activate_matplotlib\n",
      "    matplotlib.pyplot.switch_backend(backend)\n",
      "  File \"/Users/anish/anaconda3/envs/synapse_analysis/lib/python3.5/site-packages/matplotlib/pyplot.py\", line 229, in switch_backend\n",
      "    matplotlib.use(newbackend, warn=False, force=True)\n",
      "  File \"/Users/anish/anaconda3/envs/synapse_analysis/lib/python3.5/site-packages/matplotlib/__init__.py\", line 1305, in use\n",
      "    reload(sys.modules['matplotlib.backends'])\n",
      "  File \"/Users/anish/anaconda3/envs/synapse_analysis/lib/python3.5/importlib/__init__.py\", line 166, in reload\n",
      "    _bootstrap._exec(spec, module)\n",
      "  File \"/Users/anish/anaconda3/envs/synapse_analysis/lib/python3.5/site-packages/matplotlib/backends/__init__.py\", line 14, in <module>\n",
      "    line for line in traceback.format_stack()\n",
      "\n",
      "\n",
      "  matplotlib.use('Agg')\n"
     ]
    },
    {
     "data": {
      "text/plain": [
       "<module 'at_synapse_detection.synaptogram' from '/Users/anish/Documents/Connectome/SynapseAnalysis/at_synapse_detection/synaptogram.py'>"
      ]
     },
     "execution_count": 74,
     "metadata": {},
     "output_type": "execute_result"
    }
   ],
   "source": [
    "import importlib\n",
    "importlib.reload(synaptogram)"
   ]
  },
  {
   "cell_type": "code",
   "execution_count": 10,
   "metadata": {},
   "outputs": [],
   "source": [
    "synapseOutlinesDict = synaptogram.getAnnotationOutlines(synapse)\n",
    "synapseOutlinesDict = synaptogram.transformSynapseOutlinesDict(synapseOutlinesDict)"
   ]
  },
  {
   "cell_type": "code",
   "execution_count": 11,
   "metadata": {},
   "outputs": [],
   "source": [
    "filepath = '/Users/anish/Documents/Connectome/Synaptome-Duke/data/collman17/Site3Align2Stacks/';\n",
    "stackList = ['results', 'PSD95', 'synapsin', 'VGlut1', 'GluN1', 'GABA', 'Gephyrin']"
   ]
  },
  {
   "cell_type": "code",
   "execution_count": 12,
   "metadata": {},
   "outputs": [],
   "source": [
    "showProb = True\n",
    "#filename = 'foo.png'\n",
    "filename = os.path.join(filepath, '{}.png'.format(synapse['oid']))"
   ]
  },
  {
   "cell_type": "code",
   "execution_count": 13,
   "metadata": {},
   "outputs": [],
   "source": [
    "img = synaptogram.getSynaptogramFromFile(bbox, win_xy, win_z, stackList, showProb, filepath);"
   ]
  },
  {
   "cell_type": "code",
   "execution_count": 14,
   "metadata": {},
   "outputs": [
    {
     "data": {
      "application/javascript": [
       "/* Put everything inside the global mpl namespace */\n",
       "window.mpl = {};\n",
       "\n",
       "\n",
       "mpl.get_websocket_type = function() {\n",
       "    if (typeof(WebSocket) !== 'undefined') {\n",
       "        return WebSocket;\n",
       "    } else if (typeof(MozWebSocket) !== 'undefined') {\n",
       "        return MozWebSocket;\n",
       "    } else {\n",
       "        alert('Your browser does not have WebSocket support.' +\n",
       "              'Please try Chrome, Safari or Firefox ≥ 6. ' +\n",
       "              'Firefox 4 and 5 are also supported but you ' +\n",
       "              'have to enable WebSockets in about:config.');\n",
       "    };\n",
       "}\n",
       "\n",
       "mpl.figure = function(figure_id, websocket, ondownload, parent_element) {\n",
       "    this.id = figure_id;\n",
       "\n",
       "    this.ws = websocket;\n",
       "\n",
       "    this.supports_binary = (this.ws.binaryType != undefined);\n",
       "\n",
       "    if (!this.supports_binary) {\n",
       "        var warnings = document.getElementById(\"mpl-warnings\");\n",
       "        if (warnings) {\n",
       "            warnings.style.display = 'block';\n",
       "            warnings.textContent = (\n",
       "                \"This browser does not support binary websocket messages. \" +\n",
       "                    \"Performance may be slow.\");\n",
       "        }\n",
       "    }\n",
       "\n",
       "    this.imageObj = new Image();\n",
       "\n",
       "    this.context = undefined;\n",
       "    this.message = undefined;\n",
       "    this.canvas = undefined;\n",
       "    this.rubberband_canvas = undefined;\n",
       "    this.rubberband_context = undefined;\n",
       "    this.format_dropdown = undefined;\n",
       "\n",
       "    this.image_mode = 'full';\n",
       "\n",
       "    this.root = $('<div/>');\n",
       "    this._root_extra_style(this.root)\n",
       "    this.root.attr('style', 'display: inline-block');\n",
       "\n",
       "    $(parent_element).append(this.root);\n",
       "\n",
       "    this._init_header(this);\n",
       "    this._init_canvas(this);\n",
       "    this._init_toolbar(this);\n",
       "\n",
       "    var fig = this;\n",
       "\n",
       "    this.waiting = false;\n",
       "\n",
       "    this.ws.onopen =  function () {\n",
       "            fig.send_message(\"supports_binary\", {value: fig.supports_binary});\n",
       "            fig.send_message(\"send_image_mode\", {});\n",
       "            if (mpl.ratio != 1) {\n",
       "                fig.send_message(\"set_dpi_ratio\", {'dpi_ratio': mpl.ratio});\n",
       "            }\n",
       "            fig.send_message(\"refresh\", {});\n",
       "        }\n",
       "\n",
       "    this.imageObj.onload = function() {\n",
       "            if (fig.image_mode == 'full') {\n",
       "                // Full images could contain transparency (where diff images\n",
       "                // almost always do), so we need to clear the canvas so that\n",
       "                // there is no ghosting.\n",
       "                fig.context.clearRect(0, 0, fig.canvas.width, fig.canvas.height);\n",
       "            }\n",
       "            fig.context.drawImage(fig.imageObj, 0, 0);\n",
       "        };\n",
       "\n",
       "    this.imageObj.onunload = function() {\n",
       "        fig.ws.close();\n",
       "    }\n",
       "\n",
       "    this.ws.onmessage = this._make_on_message_function(this);\n",
       "\n",
       "    this.ondownload = ondownload;\n",
       "}\n",
       "\n",
       "mpl.figure.prototype._init_header = function() {\n",
       "    var titlebar = $(\n",
       "        '<div class=\"ui-dialog-titlebar ui-widget-header ui-corner-all ' +\n",
       "        'ui-helper-clearfix\"/>');\n",
       "    var titletext = $(\n",
       "        '<div class=\"ui-dialog-title\" style=\"width: 100%; ' +\n",
       "        'text-align: center; padding: 3px;\"/>');\n",
       "    titlebar.append(titletext)\n",
       "    this.root.append(titlebar);\n",
       "    this.header = titletext[0];\n",
       "}\n",
       "\n",
       "\n",
       "\n",
       "mpl.figure.prototype._canvas_extra_style = function(canvas_div) {\n",
       "\n",
       "}\n",
       "\n",
       "\n",
       "mpl.figure.prototype._root_extra_style = function(canvas_div) {\n",
       "\n",
       "}\n",
       "\n",
       "mpl.figure.prototype._init_canvas = function() {\n",
       "    var fig = this;\n",
       "\n",
       "    var canvas_div = $('<div/>');\n",
       "\n",
       "    canvas_div.attr('style', 'position: relative; clear: both; outline: 0');\n",
       "\n",
       "    function canvas_keyboard_event(event) {\n",
       "        return fig.key_event(event, event['data']);\n",
       "    }\n",
       "\n",
       "    canvas_div.keydown('key_press', canvas_keyboard_event);\n",
       "    canvas_div.keyup('key_release', canvas_keyboard_event);\n",
       "    this.canvas_div = canvas_div\n",
       "    this._canvas_extra_style(canvas_div)\n",
       "    this.root.append(canvas_div);\n",
       "\n",
       "    var canvas = $('<canvas/>');\n",
       "    canvas.addClass('mpl-canvas');\n",
       "    canvas.attr('style', \"left: 0; top: 0; z-index: 0; outline: 0\")\n",
       "\n",
       "    this.canvas = canvas[0];\n",
       "    this.context = canvas[0].getContext(\"2d\");\n",
       "\n",
       "    var backingStore = this.context.backingStorePixelRatio ||\n",
       "\tthis.context.webkitBackingStorePixelRatio ||\n",
       "\tthis.context.mozBackingStorePixelRatio ||\n",
       "\tthis.context.msBackingStorePixelRatio ||\n",
       "\tthis.context.oBackingStorePixelRatio ||\n",
       "\tthis.context.backingStorePixelRatio || 1;\n",
       "\n",
       "    mpl.ratio = (window.devicePixelRatio || 1) / backingStore;\n",
       "\n",
       "    var rubberband = $('<canvas/>');\n",
       "    rubberband.attr('style', \"position: absolute; left: 0; top: 0; z-index: 1;\")\n",
       "\n",
       "    var pass_mouse_events = true;\n",
       "\n",
       "    canvas_div.resizable({\n",
       "        start: function(event, ui) {\n",
       "            pass_mouse_events = false;\n",
       "        },\n",
       "        resize: function(event, ui) {\n",
       "            fig.request_resize(ui.size.width, ui.size.height);\n",
       "        },\n",
       "        stop: function(event, ui) {\n",
       "            pass_mouse_events = true;\n",
       "            fig.request_resize(ui.size.width, ui.size.height);\n",
       "        },\n",
       "    });\n",
       "\n",
       "    function mouse_event_fn(event) {\n",
       "        if (pass_mouse_events)\n",
       "            return fig.mouse_event(event, event['data']);\n",
       "    }\n",
       "\n",
       "    rubberband.mousedown('button_press', mouse_event_fn);\n",
       "    rubberband.mouseup('button_release', mouse_event_fn);\n",
       "    // Throttle sequential mouse events to 1 every 20ms.\n",
       "    rubberband.mousemove('motion_notify', mouse_event_fn);\n",
       "\n",
       "    rubberband.mouseenter('figure_enter', mouse_event_fn);\n",
       "    rubberband.mouseleave('figure_leave', mouse_event_fn);\n",
       "\n",
       "    canvas_div.on(\"wheel\", function (event) {\n",
       "        event = event.originalEvent;\n",
       "        event['data'] = 'scroll'\n",
       "        if (event.deltaY < 0) {\n",
       "            event.step = 1;\n",
       "        } else {\n",
       "            event.step = -1;\n",
       "        }\n",
       "        mouse_event_fn(event);\n",
       "    });\n",
       "\n",
       "    canvas_div.append(canvas);\n",
       "    canvas_div.append(rubberband);\n",
       "\n",
       "    this.rubberband = rubberband;\n",
       "    this.rubberband_canvas = rubberband[0];\n",
       "    this.rubberband_context = rubberband[0].getContext(\"2d\");\n",
       "    this.rubberband_context.strokeStyle = \"#000000\";\n",
       "\n",
       "    this._resize_canvas = function(width, height) {\n",
       "        // Keep the size of the canvas, canvas container, and rubber band\n",
       "        // canvas in synch.\n",
       "        canvas_div.css('width', width)\n",
       "        canvas_div.css('height', height)\n",
       "\n",
       "        canvas.attr('width', width * mpl.ratio);\n",
       "        canvas.attr('height', height * mpl.ratio);\n",
       "        canvas.attr('style', 'width: ' + width + 'px; height: ' + height + 'px;');\n",
       "\n",
       "        rubberband.attr('width', width);\n",
       "        rubberband.attr('height', height);\n",
       "    }\n",
       "\n",
       "    // Set the figure to an initial 600x600px, this will subsequently be updated\n",
       "    // upon first draw.\n",
       "    this._resize_canvas(600, 600);\n",
       "\n",
       "    // Disable right mouse context menu.\n",
       "    $(this.rubberband_canvas).bind(\"contextmenu\",function(e){\n",
       "        return false;\n",
       "    });\n",
       "\n",
       "    function set_focus () {\n",
       "        canvas.focus();\n",
       "        canvas_div.focus();\n",
       "    }\n",
       "\n",
       "    window.setTimeout(set_focus, 100);\n",
       "}\n",
       "\n",
       "mpl.figure.prototype._init_toolbar = function() {\n",
       "    var fig = this;\n",
       "\n",
       "    var nav_element = $('<div/>')\n",
       "    nav_element.attr('style', 'width: 100%');\n",
       "    this.root.append(nav_element);\n",
       "\n",
       "    // Define a callback function for later on.\n",
       "    function toolbar_event(event) {\n",
       "        return fig.toolbar_button_onclick(event['data']);\n",
       "    }\n",
       "    function toolbar_mouse_event(event) {\n",
       "        return fig.toolbar_button_onmouseover(event['data']);\n",
       "    }\n",
       "\n",
       "    for(var toolbar_ind in mpl.toolbar_items) {\n",
       "        var name = mpl.toolbar_items[toolbar_ind][0];\n",
       "        var tooltip = mpl.toolbar_items[toolbar_ind][1];\n",
       "        var image = mpl.toolbar_items[toolbar_ind][2];\n",
       "        var method_name = mpl.toolbar_items[toolbar_ind][3];\n",
       "\n",
       "        if (!name) {\n",
       "            // put a spacer in here.\n",
       "            continue;\n",
       "        }\n",
       "        var button = $('<button/>');\n",
       "        button.addClass('ui-button ui-widget ui-state-default ui-corner-all ' +\n",
       "                        'ui-button-icon-only');\n",
       "        button.attr('role', 'button');\n",
       "        button.attr('aria-disabled', 'false');\n",
       "        button.click(method_name, toolbar_event);\n",
       "        button.mouseover(tooltip, toolbar_mouse_event);\n",
       "\n",
       "        var icon_img = $('<span/>');\n",
       "        icon_img.addClass('ui-button-icon-primary ui-icon');\n",
       "        icon_img.addClass(image);\n",
       "        icon_img.addClass('ui-corner-all');\n",
       "\n",
       "        var tooltip_span = $('<span/>');\n",
       "        tooltip_span.addClass('ui-button-text');\n",
       "        tooltip_span.html(tooltip);\n",
       "\n",
       "        button.append(icon_img);\n",
       "        button.append(tooltip_span);\n",
       "\n",
       "        nav_element.append(button);\n",
       "    }\n",
       "\n",
       "    var fmt_picker_span = $('<span/>');\n",
       "\n",
       "    var fmt_picker = $('<select/>');\n",
       "    fmt_picker.addClass('mpl-toolbar-option ui-widget ui-widget-content');\n",
       "    fmt_picker_span.append(fmt_picker);\n",
       "    nav_element.append(fmt_picker_span);\n",
       "    this.format_dropdown = fmt_picker[0];\n",
       "\n",
       "    for (var ind in mpl.extensions) {\n",
       "        var fmt = mpl.extensions[ind];\n",
       "        var option = $(\n",
       "            '<option/>', {selected: fmt === mpl.default_extension}).html(fmt);\n",
       "        fmt_picker.append(option)\n",
       "    }\n",
       "\n",
       "    // Add hover states to the ui-buttons\n",
       "    $( \".ui-button\" ).hover(\n",
       "        function() { $(this).addClass(\"ui-state-hover\");},\n",
       "        function() { $(this).removeClass(\"ui-state-hover\");}\n",
       "    );\n",
       "\n",
       "    var status_bar = $('<span class=\"mpl-message\"/>');\n",
       "    nav_element.append(status_bar);\n",
       "    this.message = status_bar[0];\n",
       "}\n",
       "\n",
       "mpl.figure.prototype.request_resize = function(x_pixels, y_pixels) {\n",
       "    // Request matplotlib to resize the figure. Matplotlib will then trigger a resize in the client,\n",
       "    // which will in turn request a refresh of the image.\n",
       "    this.send_message('resize', {'width': x_pixels, 'height': y_pixels});\n",
       "}\n",
       "\n",
       "mpl.figure.prototype.send_message = function(type, properties) {\n",
       "    properties['type'] = type;\n",
       "    properties['figure_id'] = this.id;\n",
       "    this.ws.send(JSON.stringify(properties));\n",
       "}\n",
       "\n",
       "mpl.figure.prototype.send_draw_message = function() {\n",
       "    if (!this.waiting) {\n",
       "        this.waiting = true;\n",
       "        this.ws.send(JSON.stringify({type: \"draw\", figure_id: this.id}));\n",
       "    }\n",
       "}\n",
       "\n",
       "\n",
       "mpl.figure.prototype.handle_save = function(fig, msg) {\n",
       "    var format_dropdown = fig.format_dropdown;\n",
       "    var format = format_dropdown.options[format_dropdown.selectedIndex].value;\n",
       "    fig.ondownload(fig, format);\n",
       "}\n",
       "\n",
       "\n",
       "mpl.figure.prototype.handle_resize = function(fig, msg) {\n",
       "    var size = msg['size'];\n",
       "    if (size[0] != fig.canvas.width || size[1] != fig.canvas.height) {\n",
       "        fig._resize_canvas(size[0], size[1]);\n",
       "        fig.send_message(\"refresh\", {});\n",
       "    };\n",
       "}\n",
       "\n",
       "mpl.figure.prototype.handle_rubberband = function(fig, msg) {\n",
       "    var x0 = msg['x0'] / mpl.ratio;\n",
       "    var y0 = (fig.canvas.height - msg['y0']) / mpl.ratio;\n",
       "    var x1 = msg['x1'] / mpl.ratio;\n",
       "    var y1 = (fig.canvas.height - msg['y1']) / mpl.ratio;\n",
       "    x0 = Math.floor(x0) + 0.5;\n",
       "    y0 = Math.floor(y0) + 0.5;\n",
       "    x1 = Math.floor(x1) + 0.5;\n",
       "    y1 = Math.floor(y1) + 0.5;\n",
       "    var min_x = Math.min(x0, x1);\n",
       "    var min_y = Math.min(y0, y1);\n",
       "    var width = Math.abs(x1 - x0);\n",
       "    var height = Math.abs(y1 - y0);\n",
       "\n",
       "    fig.rubberband_context.clearRect(\n",
       "        0, 0, fig.canvas.width, fig.canvas.height);\n",
       "\n",
       "    fig.rubberband_context.strokeRect(min_x, min_y, width, height);\n",
       "}\n",
       "\n",
       "mpl.figure.prototype.handle_figure_label = function(fig, msg) {\n",
       "    // Updates the figure title.\n",
       "    fig.header.textContent = msg['label'];\n",
       "}\n",
       "\n",
       "mpl.figure.prototype.handle_cursor = function(fig, msg) {\n",
       "    var cursor = msg['cursor'];\n",
       "    switch(cursor)\n",
       "    {\n",
       "    case 0:\n",
       "        cursor = 'pointer';\n",
       "        break;\n",
       "    case 1:\n",
       "        cursor = 'default';\n",
       "        break;\n",
       "    case 2:\n",
       "        cursor = 'crosshair';\n",
       "        break;\n",
       "    case 3:\n",
       "        cursor = 'move';\n",
       "        break;\n",
       "    }\n",
       "    fig.rubberband_canvas.style.cursor = cursor;\n",
       "}\n",
       "\n",
       "mpl.figure.prototype.handle_message = function(fig, msg) {\n",
       "    fig.message.textContent = msg['message'];\n",
       "}\n",
       "\n",
       "mpl.figure.prototype.handle_draw = function(fig, msg) {\n",
       "    // Request the server to send over a new figure.\n",
       "    fig.send_draw_message();\n",
       "}\n",
       "\n",
       "mpl.figure.prototype.handle_image_mode = function(fig, msg) {\n",
       "    fig.image_mode = msg['mode'];\n",
       "}\n",
       "\n",
       "mpl.figure.prototype.updated_canvas_event = function() {\n",
       "    // Called whenever the canvas gets updated.\n",
       "    this.send_message(\"ack\", {});\n",
       "}\n",
       "\n",
       "// A function to construct a web socket function for onmessage handling.\n",
       "// Called in the figure constructor.\n",
       "mpl.figure.prototype._make_on_message_function = function(fig) {\n",
       "    return function socket_on_message(evt) {\n",
       "        if (evt.data instanceof Blob) {\n",
       "            /* FIXME: We get \"Resource interpreted as Image but\n",
       "             * transferred with MIME type text/plain:\" errors on\n",
       "             * Chrome.  But how to set the MIME type?  It doesn't seem\n",
       "             * to be part of the websocket stream */\n",
       "            evt.data.type = \"image/png\";\n",
       "\n",
       "            /* Free the memory for the previous frames */\n",
       "            if (fig.imageObj.src) {\n",
       "                (window.URL || window.webkitURL).revokeObjectURL(\n",
       "                    fig.imageObj.src);\n",
       "            }\n",
       "\n",
       "            fig.imageObj.src = (window.URL || window.webkitURL).createObjectURL(\n",
       "                evt.data);\n",
       "            fig.updated_canvas_event();\n",
       "            fig.waiting = false;\n",
       "            return;\n",
       "        }\n",
       "        else if (typeof evt.data === 'string' && evt.data.slice(0, 21) == \"data:image/png;base64\") {\n",
       "            fig.imageObj.src = evt.data;\n",
       "            fig.updated_canvas_event();\n",
       "            fig.waiting = false;\n",
       "            return;\n",
       "        }\n",
       "\n",
       "        var msg = JSON.parse(evt.data);\n",
       "        var msg_type = msg['type'];\n",
       "\n",
       "        // Call the  \"handle_{type}\" callback, which takes\n",
       "        // the figure and JSON message as its only arguments.\n",
       "        try {\n",
       "            var callback = fig[\"handle_\" + msg_type];\n",
       "        } catch (e) {\n",
       "            console.log(\"No handler for the '\" + msg_type + \"' message type: \", msg);\n",
       "            return;\n",
       "        }\n",
       "\n",
       "        if (callback) {\n",
       "            try {\n",
       "                // console.log(\"Handling '\" + msg_type + \"' message: \", msg);\n",
       "                callback(fig, msg);\n",
       "            } catch (e) {\n",
       "                console.log(\"Exception inside the 'handler_\" + msg_type + \"' callback:\", e, e.stack, msg);\n",
       "            }\n",
       "        }\n",
       "    };\n",
       "}\n",
       "\n",
       "// from http://stackoverflow.com/questions/1114465/getting-mouse-location-in-canvas\n",
       "mpl.findpos = function(e) {\n",
       "    //this section is from http://www.quirksmode.org/js/events_properties.html\n",
       "    var targ;\n",
       "    if (!e)\n",
       "        e = window.event;\n",
       "    if (e.target)\n",
       "        targ = e.target;\n",
       "    else if (e.srcElement)\n",
       "        targ = e.srcElement;\n",
       "    if (targ.nodeType == 3) // defeat Safari bug\n",
       "        targ = targ.parentNode;\n",
       "\n",
       "    // jQuery normalizes the pageX and pageY\n",
       "    // pageX,Y are the mouse positions relative to the document\n",
       "    // offset() returns the position of the element relative to the document\n",
       "    var x = e.pageX - $(targ).offset().left;\n",
       "    var y = e.pageY - $(targ).offset().top;\n",
       "\n",
       "    return {\"x\": x, \"y\": y};\n",
       "};\n",
       "\n",
       "/*\n",
       " * return a copy of an object with only non-object keys\n",
       " * we need this to avoid circular references\n",
       " * http://stackoverflow.com/a/24161582/3208463\n",
       " */\n",
       "function simpleKeys (original) {\n",
       "  return Object.keys(original).reduce(function (obj, key) {\n",
       "    if (typeof original[key] !== 'object')\n",
       "        obj[key] = original[key]\n",
       "    return obj;\n",
       "  }, {});\n",
       "}\n",
       "\n",
       "mpl.figure.prototype.mouse_event = function(event, name) {\n",
       "    var canvas_pos = mpl.findpos(event)\n",
       "\n",
       "    if (name === 'button_press')\n",
       "    {\n",
       "        this.canvas.focus();\n",
       "        this.canvas_div.focus();\n",
       "    }\n",
       "\n",
       "    var x = canvas_pos.x * mpl.ratio;\n",
       "    var y = canvas_pos.y * mpl.ratio;\n",
       "\n",
       "    this.send_message(name, {x: x, y: y, button: event.button,\n",
       "                             step: event.step,\n",
       "                             guiEvent: simpleKeys(event)});\n",
       "\n",
       "    /* This prevents the web browser from automatically changing to\n",
       "     * the text insertion cursor when the button is pressed.  We want\n",
       "     * to control all of the cursor setting manually through the\n",
       "     * 'cursor' event from matplotlib */\n",
       "    event.preventDefault();\n",
       "    return false;\n",
       "}\n",
       "\n",
       "mpl.figure.prototype._key_event_extra = function(event, name) {\n",
       "    // Handle any extra behaviour associated with a key event\n",
       "}\n",
       "\n",
       "mpl.figure.prototype.key_event = function(event, name) {\n",
       "\n",
       "    // Prevent repeat events\n",
       "    if (name == 'key_press')\n",
       "    {\n",
       "        if (event.which === this._key)\n",
       "            return;\n",
       "        else\n",
       "            this._key = event.which;\n",
       "    }\n",
       "    if (name == 'key_release')\n",
       "        this._key = null;\n",
       "\n",
       "    var value = '';\n",
       "    if (event.ctrlKey && event.which != 17)\n",
       "        value += \"ctrl+\";\n",
       "    if (event.altKey && event.which != 18)\n",
       "        value += \"alt+\";\n",
       "    if (event.shiftKey && event.which != 16)\n",
       "        value += \"shift+\";\n",
       "\n",
       "    value += 'k';\n",
       "    value += event.which.toString();\n",
       "\n",
       "    this._key_event_extra(event, name);\n",
       "\n",
       "    this.send_message(name, {key: value,\n",
       "                             guiEvent: simpleKeys(event)});\n",
       "    return false;\n",
       "}\n",
       "\n",
       "mpl.figure.prototype.toolbar_button_onclick = function(name) {\n",
       "    if (name == 'download') {\n",
       "        this.handle_save(this, null);\n",
       "    } else {\n",
       "        this.send_message(\"toolbar_button\", {name: name});\n",
       "    }\n",
       "};\n",
       "\n",
       "mpl.figure.prototype.toolbar_button_onmouseover = function(tooltip) {\n",
       "    this.message.textContent = tooltip;\n",
       "};\n",
       "mpl.toolbar_items = [[\"Home\", \"Reset original view\", \"fa fa-home icon-home\", \"home\"], [\"Back\", \"Back to  previous view\", \"fa fa-arrow-left icon-arrow-left\", \"back\"], [\"Forward\", \"Forward to next view\", \"fa fa-arrow-right icon-arrow-right\", \"forward\"], [\"\", \"\", \"\", \"\"], [\"Pan\", \"Pan axes with left mouse, zoom with right\", \"fa fa-arrows icon-move\", \"pan\"], [\"Zoom\", \"Zoom to rectangle\", \"fa fa-square-o icon-check-empty\", \"zoom\"], [\"\", \"\", \"\", \"\"], [\"Download\", \"Download plot\", \"fa fa-floppy-o icon-save\", \"download\"]];\n",
       "\n",
       "mpl.extensions = [\"eps\", \"jpeg\", \"pdf\", \"png\", \"ps\", \"raw\", \"svg\", \"tif\"];\n",
       "\n",
       "mpl.default_extension = \"png\";var comm_websocket_adapter = function(comm) {\n",
       "    // Create a \"websocket\"-like object which calls the given IPython comm\n",
       "    // object with the appropriate methods. Currently this is a non binary\n",
       "    // socket, so there is still some room for performance tuning.\n",
       "    var ws = {};\n",
       "\n",
       "    ws.close = function() {\n",
       "        comm.close()\n",
       "    };\n",
       "    ws.send = function(m) {\n",
       "        //console.log('sending', m);\n",
       "        comm.send(m);\n",
       "    };\n",
       "    // Register the callback with on_msg.\n",
       "    comm.on_msg(function(msg) {\n",
       "        //console.log('receiving', msg['content']['data'], msg);\n",
       "        // Pass the mpl event to the overriden (by mpl) onmessage function.\n",
       "        ws.onmessage(msg['content']['data'])\n",
       "    });\n",
       "    return ws;\n",
       "}\n",
       "\n",
       "mpl.mpl_figure_comm = function(comm, msg) {\n",
       "    // This is the function which gets called when the mpl process\n",
       "    // starts-up an IPython Comm through the \"matplotlib\" channel.\n",
       "\n",
       "    var id = msg.content.data.id;\n",
       "    // Get hold of the div created by the display call when the Comm\n",
       "    // socket was opened in Python.\n",
       "    var element = $(\"#\" + id);\n",
       "    var ws_proxy = comm_websocket_adapter(comm)\n",
       "\n",
       "    function ondownload(figure, format) {\n",
       "        window.open(figure.imageObj.src);\n",
       "    }\n",
       "\n",
       "    var fig = new mpl.figure(id, ws_proxy,\n",
       "                           ondownload,\n",
       "                           element.get(0));\n",
       "\n",
       "    // Call onopen now - mpl needs it, as it is assuming we've passed it a real\n",
       "    // web socket which is closed, not our websocket->open comm proxy.\n",
       "    ws_proxy.onopen();\n",
       "\n",
       "    fig.parent_element = element.get(0);\n",
       "    fig.cell_info = mpl.find_output_cell(\"<div id='\" + id + \"'></div>\");\n",
       "    if (!fig.cell_info) {\n",
       "        console.error(\"Failed to find cell for figure\", id, fig);\n",
       "        return;\n",
       "    }\n",
       "\n",
       "    var output_index = fig.cell_info[2]\n",
       "    var cell = fig.cell_info[0];\n",
       "\n",
       "};\n",
       "\n",
       "mpl.figure.prototype.handle_close = function(fig, msg) {\n",
       "    var width = fig.canvas.width/mpl.ratio\n",
       "    fig.root.unbind('remove')\n",
       "\n",
       "    // Update the output cell to use the data from the current canvas.\n",
       "    fig.push_to_output();\n",
       "    var dataURL = fig.canvas.toDataURL();\n",
       "    // Re-enable the keyboard manager in IPython - without this line, in FF,\n",
       "    // the notebook keyboard shortcuts fail.\n",
       "    IPython.keyboard_manager.enable()\n",
       "    $(fig.parent_element).html('<img src=\"' + dataURL + '\" width=\"' + width + '\">');\n",
       "    fig.close_ws(fig, msg);\n",
       "}\n",
       "\n",
       "mpl.figure.prototype.close_ws = function(fig, msg){\n",
       "    fig.send_message('closing', msg);\n",
       "    // fig.ws.close()\n",
       "}\n",
       "\n",
       "mpl.figure.prototype.push_to_output = function(remove_interactive) {\n",
       "    // Turn the data on the canvas into data in the output cell.\n",
       "    var width = this.canvas.width/mpl.ratio\n",
       "    var dataURL = this.canvas.toDataURL();\n",
       "    this.cell_info[1]['text/html'] = '<img src=\"' + dataURL + '\" width=\"' + width + '\">';\n",
       "}\n",
       "\n",
       "mpl.figure.prototype.updated_canvas_event = function() {\n",
       "    // Tell IPython that the notebook contents must change.\n",
       "    IPython.notebook.set_dirty(true);\n",
       "    this.send_message(\"ack\", {});\n",
       "    var fig = this;\n",
       "    // Wait a second, then push the new image to the DOM so\n",
       "    // that it is saved nicely (might be nice to debounce this).\n",
       "    setTimeout(function () { fig.push_to_output() }, 1000);\n",
       "}\n",
       "\n",
       "mpl.figure.prototype._init_toolbar = function() {\n",
       "    var fig = this;\n",
       "\n",
       "    var nav_element = $('<div/>')\n",
       "    nav_element.attr('style', 'width: 100%');\n",
       "    this.root.append(nav_element);\n",
       "\n",
       "    // Define a callback function for later on.\n",
       "    function toolbar_event(event) {\n",
       "        return fig.toolbar_button_onclick(event['data']);\n",
       "    }\n",
       "    function toolbar_mouse_event(event) {\n",
       "        return fig.toolbar_button_onmouseover(event['data']);\n",
       "    }\n",
       "\n",
       "    for(var toolbar_ind in mpl.toolbar_items){\n",
       "        var name = mpl.toolbar_items[toolbar_ind][0];\n",
       "        var tooltip = mpl.toolbar_items[toolbar_ind][1];\n",
       "        var image = mpl.toolbar_items[toolbar_ind][2];\n",
       "        var method_name = mpl.toolbar_items[toolbar_ind][3];\n",
       "\n",
       "        if (!name) { continue; };\n",
       "\n",
       "        var button = $('<button class=\"btn btn-default\" href=\"#\" title=\"' + name + '\"><i class=\"fa ' + image + ' fa-lg\"></i></button>');\n",
       "        button.click(method_name, toolbar_event);\n",
       "        button.mouseover(tooltip, toolbar_mouse_event);\n",
       "        nav_element.append(button);\n",
       "    }\n",
       "\n",
       "    // Add the status bar.\n",
       "    var status_bar = $('<span class=\"mpl-message\" style=\"text-align:right; float: right;\"/>');\n",
       "    nav_element.append(status_bar);\n",
       "    this.message = status_bar[0];\n",
       "\n",
       "    // Add the close button to the window.\n",
       "    var buttongrp = $('<div class=\"btn-group inline pull-right\"></div>');\n",
       "    var button = $('<button class=\"btn btn-mini btn-primary\" href=\"#\" title=\"Stop Interaction\"><i class=\"fa fa-power-off icon-remove icon-large\"></i></button>');\n",
       "    button.click(function (evt) { fig.handle_close(fig, {}); } );\n",
       "    button.mouseover('Stop Interaction', toolbar_mouse_event);\n",
       "    buttongrp.append(button);\n",
       "    var titlebar = this.root.find($('.ui-dialog-titlebar'));\n",
       "    titlebar.prepend(buttongrp);\n",
       "}\n",
       "\n",
       "mpl.figure.prototype._root_extra_style = function(el){\n",
       "    var fig = this\n",
       "    el.on(\"remove\", function(){\n",
       "\tfig.close_ws(fig, {});\n",
       "    });\n",
       "}\n",
       "\n",
       "mpl.figure.prototype._canvas_extra_style = function(el){\n",
       "    // this is important to make the div 'focusable\n",
       "    el.attr('tabindex', 0)\n",
       "    // reach out to IPython and tell the keyboard manager to turn it's self\n",
       "    // off when our div gets focus\n",
       "\n",
       "    // location in version 3\n",
       "    if (IPython.notebook.keyboard_manager) {\n",
       "        IPython.notebook.keyboard_manager.register_events(el);\n",
       "    }\n",
       "    else {\n",
       "        // location in version 2\n",
       "        IPython.keyboard_manager.register_events(el);\n",
       "    }\n",
       "\n",
       "}\n",
       "\n",
       "mpl.figure.prototype._key_event_extra = function(event, name) {\n",
       "    var manager = IPython.notebook.keyboard_manager;\n",
       "    if (!manager)\n",
       "        manager = IPython.keyboard_manager;\n",
       "\n",
       "    // Check for shift+enter\n",
       "    if (event.shiftKey && event.which == 13) {\n",
       "        this.canvas_div.blur();\n",
       "        event.shiftKey = false;\n",
       "        // Send a \"J\" for go to next cell\n",
       "        event.which = 74;\n",
       "        event.keyCode = 74;\n",
       "        manager.command_mode();\n",
       "        manager.handle_keydown(event);\n",
       "    }\n",
       "}\n",
       "\n",
       "mpl.figure.prototype.handle_save = function(fig, msg) {\n",
       "    fig.ondownload(fig, null);\n",
       "}\n",
       "\n",
       "\n",
       "mpl.find_output_cell = function(html_output) {\n",
       "    // Return the cell and output element which can be found *uniquely* in the notebook.\n",
       "    // Note - this is a bit hacky, but it is done because the \"notebook_saving.Notebook\"\n",
       "    // IPython event is triggered only after the cells have been serialised, which for\n",
       "    // our purposes (turning an active figure into a static one), is too late.\n",
       "    var cells = IPython.notebook.get_cells();\n",
       "    var ncells = cells.length;\n",
       "    for (var i=0; i<ncells; i++) {\n",
       "        var cell = cells[i];\n",
       "        if (cell.cell_type === 'code'){\n",
       "            for (var j=0; j<cell.output_area.outputs.length; j++) {\n",
       "                var data = cell.output_area.outputs[j];\n",
       "                if (data.data) {\n",
       "                    // IPython >= 3 moved mimebundle to data attribute of output\n",
       "                    data = data.data;\n",
       "                }\n",
       "                if (data['text/html'] == html_output) {\n",
       "                    return [cell, data, j];\n",
       "                }\n",
       "            }\n",
       "        }\n",
       "    }\n",
       "}\n",
       "\n",
       "// Register the function which deals with the matplotlib target/channel.\n",
       "// The kernel may be null if the page has been refreshed.\n",
       "if (IPython.notebook.kernel != null) {\n",
       "    IPython.notebook.kernel.comm_manager.register_target('matplotlib', mpl.mpl_figure_comm);\n",
       "}\n"
      ],
      "text/plain": [
       "<IPython.core.display.Javascript object>"
      ]
     },
     "metadata": {},
     "output_type": "display_data"
    },
    {
     "data": {
      "text/html": [
       "<img src=\"data:image/png;base64,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\" width=\"640\">"
      ],
      "text/plain": [
       "<IPython.core.display.HTML object>"
      ]
     },
     "metadata": {},
     "output_type": "display_data"
    },
    {
     "data": {
      "text/plain": [
       "<matplotlib.colorbar.Colorbar at 0x1c23d60978>"
      ]
     },
     "execution_count": 14,
     "metadata": {},
     "output_type": "execute_result"
    }
   ],
   "source": [
    "%matplotlib notebook\n",
    "\n",
    "plt.imshow(img, cmap='gray')\n",
    "plt.colorbar()"
   ]
  },
  {
   "cell_type": "code",
   "execution_count": 15,
   "metadata": {},
   "outputs": [],
   "source": [
    "textXOffset = 1\n",
    "textYOffset = 1"
   ]
  },
  {
   "cell_type": "code",
   "execution_count": 16,
   "metadata": {},
   "outputs": [],
   "source": [
    "synaptogram.plotOutlinesOnImg(img, synapseOutlinesDict, expandedBox, filename, stackList, 0, 5)\n",
    "#plotOutlinesOnImg(img, synapseOutlinesDict, expandedBox, filename, stackList, 0, 5)"
   ]
  },
  {
   "cell_type": "code",
   "execution_count": 36,
   "metadata": {},
   "outputs": [],
   "source": [
    "metadataFN = '../data/M247514_Rorb_1/Site3Align2/site3_metadata.json'\n",
    "metadata = syn.loadMetadata(metadataFN)\n",
    "\n",
    "datalocation = metadata['datalocation']\n",
    "queryFN = metadata['querylocation']\n",
    "\n",
    "# List of Queries\n",
    "listOfQueries = syn.loadQueriesJSON(queryFN)\n"
   ]
  },
  {
   "cell_type": "code",
   "execution_count": 17,
   "metadata": {},
   "outputs": [],
   "source": [
    "## RUNME "
   ]
  },
  {
   "cell_type": "code",
   "execution_count": 18,
   "metadata": {},
   "outputs": [],
   "source": [
    "args = {\n",
    "    \"EM_annotation_json\":\"../data/M247514_Rorb_1/Site3Align2/json_annotations/m247514_Site3Annotation_MN_global_v2.json\",\n",
    "    \"LM_annotation_json\":\"../data/M247514_Rorb_1/Site3Align2/results/resultVol9.json\",\n",
    "    \"EM_metadata_csv\":\"../data/M247514_Rorb_1/Site3Align2/MNSite3Synaptograms_v2.csv\",\n",
    "    \"LM_metadata_file\":\"../data/M247514_Rorb_1/Site3Align2/site3_metadata.json\",\n",
    "    \"EM_inclass_column\":\"glutsynapse\",\n",
    "    \"EM_not_synapse_column\":\"ConsensusNotSynapse\",\n",
    "    \"output_json\":\"../data/M247514_Rorb_1/Site3Align2/results/Anish_evaluation_output.json\"\n",
    "    }"
   ]
  },
  {
   "cell_type": "code",
   "execution_count": 57,
   "metadata": {
    "scrolled": false
   },
   "outputs": [
    {
     "name": "stdout",
     "output_type": "stream",
     "text": [
      "EM_per_LM [ 0.84810127  0.12658228  0.02531646]\n",
      "LM_per_EM [ 0.02009274  0.97217929  0.00772798]\n",
      "lm edge detections: 5022\n",
      "em edge annotations 156\n",
      "LM detections: 5343\n"
     ]
    },
    {
     "data": {
      "text/plain": [
       "13"
      ]
     },
     "execution_count": 57,
     "metadata": {},
     "output_type": "execute_result"
    }
   ],
   "source": [
    "args['LM_annotation_json'] = \"../data/M247514_Rorb_1/Site3Align2/results/resultVol0.json\"\n",
    "missed_annotations, false_positive = evalsyndetections(args)\n",
    "missedAnnoIds_psd = getMissedAnnoIds(missed_annotations)\n",
    "len(missedAnnoIds_psd)\n",
    "\n"
   ]
  },
  {
   "cell_type": "code",
   "execution_count": 59,
   "metadata": {},
   "outputs": [
    {
     "data": {
      "text/plain": [
       "0.8348909657320872"
      ]
     },
     "execution_count": 59,
     "metadata": {},
     "output_type": "execute_result"
    }
   ],
   "source": [
    "len(false_positive)/(5343-5022)"
   ]
  },
  {
   "cell_type": "code",
   "execution_count": 38,
   "metadata": {},
   "outputs": [
    {
     "name": "stdout",
     "output_type": "stream",
     "text": [
      "{'preIF': ['synapsin'], 'postIF_z': [1], 'preIF_z': [2], 'postIF': ['PSD95']}\n"
     ]
    }
   ],
   "source": []
  },
  {
   "cell_type": "code",
   "execution_count": 76,
   "metadata": {},
   "outputs": [
    {
     "name": "stdout",
     "output_type": "stream",
     "text": [
      "{'preIF': ['VGlut1'], 'postIF_z': [], 'preIF_z': [1], 'postIF': []}\n",
      "EM_per_LM [ 0.21052632  0.59398496  0.19548872]\n",
      "LM_per_EM [ 0.22411128  0.76970634  0.00618238]\n",
      "lm edge detections: 4392\n",
      "em edge annotations 156\n",
      "LM detections: 4802\n"
     ]
    },
    {
     "data": {
      "text/plain": [
       "145"
      ]
     },
     "execution_count": 76,
     "metadata": {},
     "output_type": "execute_result"
    }
   ],
   "source": [
    "print(listOfQueries[3])\n",
    "args['LM_annotation_json'] = \"../data/M247514_Rorb_1/Site3Align2/results/resultVol3.json\"\n",
    "false_negatives, false_positive = evalsyndetections(args)\n",
    "missedAnnoIds_q7 = getMissedAnnoIds(false_negatives)\n",
    "len(missedAnnoIds_q7)"
   ]
  },
  {
   "cell_type": "code",
   "execution_count": 77,
   "metadata": {},
   "outputs": [
    {
     "data": {
      "text/plain": [
       "84"
      ]
     },
     "execution_count": 77,
     "metadata": {},
     "output_type": "execute_result"
    }
   ],
   "source": [
    "len(false_positive)"
   ]
  },
  {
   "cell_type": "code",
   "execution_count": 40,
   "metadata": {
    "scrolled": true
   },
   "outputs": [
    {
     "name": "stdout",
     "output_type": "stream",
     "text": [
      "{'preIF': ['synapsin'], 'postIF_z': [2], 'preIF_z': [1], 'postIF': ['PSD95']}\n",
      "EM_per_LM [ 0.27410208  0.62003781  0.10586011]\n",
      "LM_per_EM [ 0.25347759  0.73879444  0.00772798]\n",
      "lm edge detections: 5513\n",
      "em edge annotations 156\n",
      "LM detections: 6045\n"
     ]
    },
    {
     "data": {
      "text/plain": [
       "164"
      ]
     },
     "execution_count": 40,
     "metadata": {},
     "output_type": "execute_result"
    }
   ],
   "source": [
    "print(listOfQueries[8])\n",
    "args['LM_annotation_json'] = \"../data/M247514_Rorb_1/Site3Align2/results/resultVol8.json\"\n",
    "missed_annotations = evalsyndetections(args)\n",
    "missedAnnoIds_q8 = getMissedAnnoIds(missed_annotations)\n",
    "len(missedAnnoIds_q8)"
   ]
  },
  {
   "cell_type": "code",
   "execution_count": 47,
   "metadata": {},
   "outputs": [
    {
     "data": {
      "text/plain": [
       "121"
      ]
     },
     "execution_count": 47,
     "metadata": {},
     "output_type": "execute_result"
    }
   ],
   "source": [
    "missed_anno_combined1 = list(set(missedAnnoIds_q7).intersection(missedAnnoIds_q8))\n",
    "len(missed_anno_combined1)"
   ]
  },
  {
   "cell_type": "code",
   "execution_count": 41,
   "metadata": {},
   "outputs": [
    {
     "name": "stdout",
     "output_type": "stream",
     "text": [
      "{'preIF': ['VGlut1'], 'postIF_z': [2], 'preIF_z': [1], 'postIF': ['PSD95']}\n",
      "EM_per_LM [ 0.3609375  0.5578125  0.08125  ]\n",
      "LM_per_EM [ 0.22102009  0.76661515  0.01236476]\n",
      "lm edge detections: 7063\n",
      "em edge annotations 156\n",
      "LM detections: 7709\n"
     ]
    },
    {
     "data": {
      "text/plain": [
       "143"
      ]
     },
     "execution_count": 41,
     "metadata": {},
     "output_type": "execute_result"
    }
   ],
   "source": [
    "print(listOfQueries[9])\n",
    "args['LM_annotation_json'] = \"../data/M247514_Rorb_1/Site3Align2/results/resultVol9.json\"\n",
    "missed_annotations = evalsyndetections(args)\n",
    "missedAnnoIds_q9 = getMissedAnnoIds(missed_annotations)\n",
    "len(missedAnnoIds_q9)"
   ]
  },
  {
   "cell_type": "code",
   "execution_count": 42,
   "metadata": {},
   "outputs": [
    {
     "name": "stdout",
     "output_type": "stream",
     "text": [
      "{'preIF': ['VGlut1'], 'postIF_z': [1], 'preIF_z': [2], 'postIF': ['PSD95']}\n",
      "EM_per_LM [ 0.45468278  0.45619335  0.08912387]\n",
      "LM_per_EM [ 0.27202473  0.7202473   0.00772798]\n",
      "lm edge detections: 7166\n",
      "em edge annotations 156\n",
      "LM detections: 7836\n"
     ]
    },
    {
     "data": {
      "text/plain": [
       "176"
      ]
     },
     "execution_count": 42,
     "metadata": {},
     "output_type": "execute_result"
    }
   ],
   "source": [
    "print(listOfQueries[10])\n",
    "args['LM_annotation_json'] = \"../data/M247514_Rorb_1/Site3Align2/results/resultVol10.json\"\n",
    "missed_annotations = evalsyndetections(args)\n",
    "missedAnnoIds_q10 = getMissedAnnoIds(missed_annotations)\n",
    "len(missedAnnoIds_q10)"
   ]
  },
  {
   "cell_type": "code",
   "execution_count": 48,
   "metadata": {},
   "outputs": [
    {
     "data": {
      "text/plain": [
       "103"
      ]
     },
     "execution_count": 48,
     "metadata": {},
     "output_type": "execute_result"
    }
   ],
   "source": [
    "missed_anno_combined2 = list(set(missedAnnoIds_q9).intersection(missedAnnoIds_q10))\n",
    "len(missed_anno_combined2)"
   ]
  },
  {
   "cell_type": "code",
   "execution_count": 49,
   "metadata": {},
   "outputs": [
    {
     "data": {
      "text/plain": [
       "78"
      ]
     },
     "execution_count": 49,
     "metadata": {},
     "output_type": "execute_result"
    }
   ],
   "source": [
    "missed_anno_combined = list(set(missed_anno_combined1).intersection(missed_anno_combined2))\n",
    "len(missed_anno_combined)"
   ]
  },
  {
   "cell_type": "code",
   "execution_count": 43,
   "metadata": {},
   "outputs": [
    {
     "name": "stdout",
     "output_type": "stream",
     "text": [
      "{'preIF': ['VGlut1'], 'postIF_z': [1], 'preIF_z': [2], 'postIF': ['GluN1']}\n",
      "EM_per_LM [ 0.7195122   0.23292683  0.04756098]\n",
      "LM_per_EM [ 0.45131376  0.5316847   0.01700155]\n",
      "lm edge detections: 9855\n",
      "em edge annotations 156\n",
      "LM detections: 10684\n"
     ]
    },
    {
     "data": {
      "text/plain": [
       "292"
      ]
     },
     "execution_count": 43,
     "metadata": {},
     "output_type": "execute_result"
    }
   ],
   "source": [
    "print(listOfQueries[11])\n",
    "args['LM_annotation_json'] = \"../data/M247514_Rorb_1/Site3Align2/results/resultVol11.json\"\n",
    "missed_annotations = evalsyndetections(args)\n",
    "missedAnnoIds_q11 = getMissedAnnoIds(missed_annotations)\n",
    "len(missedAnnoIds_q11)"
   ]
  },
  {
   "cell_type": "code",
   "execution_count": 51,
   "metadata": {},
   "outputs": [
    {
     "data": {
      "text/plain": [
       "62"
      ]
     },
     "execution_count": 51,
     "metadata": {},
     "output_type": "execute_result"
    }
   ],
   "source": [
    "missed_anno_combined3 = list(set(missed_anno_combined).intersection(missedAnnoIds_q11))\n",
    "len(missed_anno_combined3)"
   ]
  },
  {
   "cell_type": "code",
   "execution_count": 44,
   "metadata": {},
   "outputs": [
    {
     "name": "stdout",
     "output_type": "stream",
     "text": [
      "{'preIF': ['synapsin', 'VGlut1'], 'postIF_z': [1], 'preIF_z': [1, 1], 'postIF': ['PSD95']}\n",
      "EM_per_LM [ 0.17777778  0.71111111  0.11111111]\n",
      "LM_per_EM [ 0.45904173  0.52395672  0.01700155]\n",
      "lm edge detections: 3526\n",
      "em edge annotations 156\n",
      "LM detections: 3890\n"
     ]
    },
    {
     "data": {
      "text/plain": [
       "297"
      ]
     },
     "execution_count": 44,
     "metadata": {},
     "output_type": "execute_result"
    }
   ],
   "source": [
    "print(listOfQueries[12])\n",
    "args['LM_annotation_json'] = \"../data/M247514_Rorb_1/Site3Align2/results/resultVol12.json\"\n",
    "missed_annotations = evalsyndetections(args)\n",
    "missedAnnoIds_q12 = getMissedAnnoIds(missed_annotations)\n",
    "len(missedAnnoIds_q12)"
   ]
  },
  {
   "cell_type": "code",
   "execution_count": 53,
   "metadata": {},
   "outputs": [
    {
     "data": {
      "text/plain": [
       "74"
      ]
     },
     "execution_count": 53,
     "metadata": {},
     "output_type": "execute_result"
    }
   ],
   "source": [
    "missed_anno_combined4 = list(set(missed_anno_combined).intersection(missedAnnoIds_q12))\n",
    "len(missed_anno_combined4)"
   ]
  },
  {
   "cell_type": "code",
   "execution_count": null,
   "metadata": {},
   "outputs": [],
   "source": [
    "missed_anno_combined = list(set(missedAnnoIds_q7).intersection(missedAnnoIds_q8))"
   ]
  },
  {
   "cell_type": "code",
   "execution_count": null,
   "metadata": {},
   "outputs": [],
   "source": [
    "missed_anno_combined = list(set(missed_anno_combined).intersection(missedAnnoIds_q9))\n",
    "\n",
    "missed_anno_combined = list(set(missed_anno_combined).intersection(missedAnnoIds_q10))\n",
    "\n",
    "missed_anno_combined = list(set(missed_anno_combined).intersection(missedAnnoIds_q11))\n",
    "\n",
    "missed_anno_combined = list(set(missed_anno_combined).intersection(missedAnnoIds_q12))"
   ]
  },
  {
   "cell_type": "code",
   "execution_count": null,
   "metadata": {},
   "outputs": [],
   "source": [
    "missed_anno = list(set(missed_anno_combined)^set(missedAnnoIds_psd))"
   ]
  },
  {
   "cell_type": "code",
   "execution_count": null,
   "metadata": {},
   "outputs": [],
   "source": [
    "len(missed_anno)"
   ]
  },
  {
   "cell_type": "code",
   "execution_count": null,
   "metadata": {},
   "outputs": [],
   "source": []
  },
  {
   "cell_type": "code",
   "execution_count": 20,
   "metadata": {},
   "outputs": [],
   "source": [
    "def getMissedAnnoIds(missed_annotations): \n",
    "    missedAnnoIds = []\n",
    "    for anno in missed_annotations: \n",
    "        missedAnnoIds.append(anno['oid'])\n",
    "    \n",
    "    return missedAnnoIds"
   ]
  },
  {
   "cell_type": "code",
   "execution_count": null,
   "metadata": {},
   "outputs": [],
   "source": []
  },
  {
   "cell_type": "code",
   "execution_count": 56,
   "metadata": {},
   "outputs": [],
   "source": [
    "def evalsyndetections(args): \n",
    "    EM_annotations = esd.load_annotation_file(args['EM_annotation_json'])\n",
    "    LM_annotations = esd.load_annotation_file(args['LM_annotation_json'])\n",
    "\n",
    "    df = pd.read_csv(args['EM_metadata_csv'])\n",
    "\n",
    "    good_rows = (df[args['EM_not_synapse_column']]==False) & (df[args['EM_inclass_column']]==True)        \n",
    "    good_df=df[good_rows]\n",
    "\n",
    "    ann_minX=good_df.min().minX\n",
    "    ann_minY=good_df.min().minY\n",
    "    ann_maxX=good_df.max().maxX\n",
    "    ann_maxY=good_df.max().maxY\n",
    "    ann_minZ=good_df.min().minZ\n",
    "    ann_maxZ=good_df.max().maxZ\n",
    "    good_annotations = [al for al in EM_annotations if al['id'] in good_df.index]\n",
    "\n",
    "    (ann_minX,ann_minY,ann_minZ,ann_maxX,ann_maxY,ann_maxZ) = esd.get_bounding_box_of_annotations(good_annotations)\n",
    "\n",
    "    LM_edge=esd.get_edge_annotations(LM_annotations,ann_minX,ann_maxX,ann_minY,ann_maxY,ann_minZ,ann_maxZ)\n",
    "\n",
    "    EM_edge=esd.get_edge_annotations(good_annotations,ann_minX,ann_maxX,ann_minY,ann_maxY,ann_minZ,ann_maxZ)\n",
    "\n",
    "\n",
    "\n",
    "\n",
    "    LM_index=esd.get_index('LM_index')\n",
    "    LM_bounds=esd.insert_annotations_into_index(LM_index,LM_annotations)\n",
    "    EM_index = esd.get_index('EM_index')\n",
    "    EM_bounds=esd.insert_annotations_into_index(EM_index,good_annotations)\n",
    "\n",
    "    overlap_matrix = np.zeros((len(good_annotations),len(LM_annotations)),np.bool)\n",
    "    j=0\n",
    "    for i,alLM in enumerate(LM_annotations):\n",
    "        res=EM_index.intersection(LM_bounds[i])\n",
    "        for k in res:\n",
    "            alEM=good_annotations[k]\n",
    "            overlaps,zsection = esd.do_annotations_overlap(alLM,alEM)\n",
    "            if overlaps:\n",
    "                overlap_matrix[k,i]=True\n",
    "    bins = np.arange(0,4)\n",
    "    LM_per_EM = np.sum(overlap_matrix,axis=1)\n",
    "    EM_per_LM = np.sum(overlap_matrix,axis=0)\n",
    "    LM_per_EM_counts,edges = np.histogram(LM_per_EM[EM_edge==False],bins=bins,normed=True)\n",
    "    EM_per_LM_counts,edges = np.histogram(EM_per_LM[LM_edge==False],bins=bins,normed=True)\n",
    "    print(\"EM_per_LM\",EM_per_LM_counts)\n",
    "    print(\"LM_per_EM\",LM_per_EM_counts)\n",
    "    print('lm edge detections:',np.sum(LM_edge))\n",
    "    print('em edge annotations',np.sum(EM_edge))\n",
    "    print('LM detections:',len(LM_edge))\n",
    "    \n",
    "    \n",
    "    missed_annotations = [] \n",
    "    for counter, synapse in enumerate(good_annotations): \n",
    "        if (LM_per_EM[counter] == 0 and EM_edge[counter]==False): \n",
    "            missed_annotations.append(synapse)\n",
    "            \n",
    "    false_positives = [] \n",
    "    for counter, anno in enumerate(LM_annotations): \n",
    "        if (EM_per_LM[counter] == 0 and LM_edge[counter]==False): \n",
    "            false_positives.append(anno)\n",
    "        \n",
    "    return missed_annotations, false_positives\n",
    "\n"
   ]
  },
  {
   "cell_type": "code",
   "execution_count": null,
   "metadata": {},
   "outputs": [],
   "source": []
  },
  {
   "cell_type": "code",
   "execution_count": 22,
   "metadata": {},
   "outputs": [],
   "source": [
    "win_xy = 4\n",
    "win_z = 1\n",
    "filepath = '/Users/anish/Documents/Connectome/Synaptome-Duke/data/collman17/Site3Align2Stacks/';\n",
    "stackList = ['results', 'PSD95', 'synapsin', 'VGlut1', 'GluN1', 'GABA', 'Gephyrin']\n",
    "showProb = True\n",
    "textXOffset = 0\n",
    "textYOffset = 5\n",
    "\n"
   ]
  },
  {
   "cell_type": "code",
   "execution_count": null,
   "metadata": {},
   "outputs": [],
   "source": [
    "# for counter, synapse in enumerate(good_annotations): \n",
    "    \n",
    "#     if (LM_per_EM[counter] > 0 and EM_edge[counter]==False): \n",
    "#         bbox = synaptogram.getAnnotationBoundingBox2(synapse)\n",
    "#         bbox = synaptogram.transformSynapseCoordinates(bbox)\n",
    "#         expandedBox = synaptogram.expandBoundingBox(bbox, win_xy, win_z)\n",
    "\n",
    "#         synapseOutlinesDict = synaptogram.getAnnotationOutlines(synapse)\n",
    "#         synapseOutlinesDict = synaptogram.transformSynapseOutlinesDict(synapseOutlinesDict)\n",
    "\n",
    "#         filename = os.path.join(filepath, 'synaptograms/good', '{}.png'.format(synapse['oid']))\n",
    "\n",
    "#         img = synaptogram.getSynaptogramFromFile(bbox, win_xy, win_z, stackList, showProb, filepath);\n",
    "#         synaptogram.plotOutlinesOnImg(img, synapseOutlinesDict, expandedBox, filename, stackList, textXOffset, textYOffset)\n",
    "#         print(filename)"
   ]
  },
  {
   "cell_type": "code",
   "execution_count": null,
   "metadata": {},
   "outputs": [],
   "source": [
    "20/(len(good_annotations) - sum(EM_edge))"
   ]
  },
  {
   "cell_type": "code",
   "execution_count": null,
   "metadata": {},
   "outputs": [],
   "source": [
    "for counter, synapse in enumerate(good_annotations): \n",
    "    \n",
    "    if synapse['oid'] in missed_anno: \n",
    "        bbox = synaptogram.getAnnotationBoundingBox2(synapse)\n",
    "        bbox = synaptogram.transformSynapseCoordinates(bbox)\n",
    "        expandedBox = synaptogram.expandBoundingBox(bbox, win_xy, win_z)\n",
    "\n",
    "        synapseOutlinesDict = synaptogram.getAnnotationOutlines(synapse)\n",
    "        synapseOutlinesDict = synaptogram.transformSynapseOutlinesDict(synapseOutlinesDict)\n",
    "\n",
    "        filename = os.path.join(filepath, 'synaptograms/missed', '{}.png'.format(synapse['oid']))\n",
    "\n",
    "        img = synaptogram.getSynaptogramFromFile(bbox, win_xy, win_z, stackList, showProb, filepath);\n",
    "        synaptogram.plotOutlinesOnImg(img, synapseOutlinesDict, expandedBox, filename, stackList, textXOffset, textYOffset)\n",
    "        print(filename)"
   ]
  },
  {
   "cell_type": "code",
   "execution_count": 54,
   "metadata": {},
   "outputs": [],
   "source": [
    "#false postives "
   ]
  },
  {
   "cell_type": "code",
   "execution_count": 67,
   "metadata": {},
   "outputs": [
    {
     "data": {
      "text/plain": [
       "{'areas': [{'global_path': array([[ 9591.66666667,  5225.        ],\n",
       "          [ 9591.66666667,  5275.        ],\n",
       "          [ 9641.66666667,  5275.        ],\n",
       "          [ 9641.66666667,  5225.        ],\n",
       "          [ 9591.66666667,  5225.        ]]), 'z': 30.0},\n",
       "  {'global_path': array([[ 9591.66666667,  5225.        ],\n",
       "          [ 9591.66666667,  5275.        ],\n",
       "          [ 9641.66666667,  5275.        ],\n",
       "          [ 9641.66666667,  5225.        ],\n",
       "          [ 9591.66666667,  5225.        ]]), 'z': 31.0}],\n",
       " 'id': 1449,\n",
       " 'oid': '1449'}"
      ]
     },
     "execution_count": 67,
     "metadata": {},
     "output_type": "execute_result"
    }
   ],
   "source": [
    "false_positive[0]"
   ]
  },
  {
   "cell_type": "code",
   "execution_count": 78,
   "metadata": {},
   "outputs": [
    {
     "name": "stdout",
     "output_type": "stream",
     "text": [
      "/Users/anish/Documents/Connectome/Synaptome-Duke/data/collman17/Site3Align2Stacks/synaptograms/false_positives/1763.png\n",
      "/Users/anish/Documents/Connectome/Synaptome-Duke/data/collman17/Site3Align2Stacks/synaptograms/false_positives/1765.png\n",
      "/Users/anish/Documents/Connectome/Synaptome-Duke/data/collman17/Site3Align2Stacks/synaptograms/false_positives/1777.png\n",
      "/Users/anish/Documents/Connectome/Synaptome-Duke/data/collman17/Site3Align2Stacks/synaptograms/false_positives/1779.png\n",
      "/Users/anish/Documents/Connectome/Synaptome-Duke/data/collman17/Site3Align2Stacks/synaptograms/false_positives/1812.png\n",
      "/Users/anish/Documents/Connectome/Synaptome-Duke/data/collman17/Site3Align2Stacks/synaptograms/false_positives/1824.png\n",
      "/Users/anish/Documents/Connectome/Synaptome-Duke/data/collman17/Site3Align2Stacks/synaptograms/false_positives/1834.png\n",
      "/Users/anish/Documents/Connectome/Synaptome-Duke/data/collman17/Site3Align2Stacks/synaptograms/false_positives/1868.png\n",
      "/Users/anish/Documents/Connectome/Synaptome-Duke/data/collman17/Site3Align2Stacks/synaptograms/false_positives/1889.png\n",
      "/Users/anish/Documents/Connectome/Synaptome-Duke/data/collman17/Site3Align2Stacks/synaptograms/false_positives/1899.png\n",
      "/Users/anish/Documents/Connectome/Synaptome-Duke/data/collman17/Site3Align2Stacks/synaptograms/false_positives/1900.png\n",
      "/Users/anish/Documents/Connectome/Synaptome-Duke/data/collman17/Site3Align2Stacks/synaptograms/false_positives/1904.png\n",
      "/Users/anish/Documents/Connectome/Synaptome-Duke/data/collman17/Site3Align2Stacks/synaptograms/false_positives/1909.png\n",
      "/Users/anish/Documents/Connectome/Synaptome-Duke/data/collman17/Site3Align2Stacks/synaptograms/false_positives/1923.png\n",
      "/Users/anish/Documents/Connectome/Synaptome-Duke/data/collman17/Site3Align2Stacks/synaptograms/false_positives/1954.png\n",
      "/Users/anish/Documents/Connectome/Synaptome-Duke/data/collman17/Site3Align2Stacks/synaptograms/false_positives/1964.png\n",
      "/Users/anish/Documents/Connectome/Synaptome-Duke/data/collman17/Site3Align2Stacks/synaptograms/false_positives/2009.png\n",
      "/Users/anish/Documents/Connectome/Synaptome-Duke/data/collman17/Site3Align2Stacks/synaptograms/false_positives/2029.png\n",
      "/Users/anish/Documents/Connectome/Synaptome-Duke/data/collman17/Site3Align2Stacks/synaptograms/false_positives/2037.png\n",
      "/Users/anish/Documents/Connectome/Synaptome-Duke/data/collman17/Site3Align2Stacks/synaptograms/false_positives/2046.png\n",
      "/Users/anish/Documents/Connectome/Synaptome-Duke/data/collman17/Site3Align2Stacks/synaptograms/false_positives/2059.png\n",
      "/Users/anish/Documents/Connectome/Synaptome-Duke/data/collman17/Site3Align2Stacks/synaptograms/false_positives/2083.png\n",
      "/Users/anish/Documents/Connectome/Synaptome-Duke/data/collman17/Site3Align2Stacks/synaptograms/false_positives/2093.png\n",
      "/Users/anish/Documents/Connectome/Synaptome-Duke/data/collman17/Site3Align2Stacks/synaptograms/false_positives/2095.png\n",
      "/Users/anish/Documents/Connectome/Synaptome-Duke/data/collman17/Site3Align2Stacks/synaptograms/false_positives/2097.png\n",
      "/Users/anish/Documents/Connectome/Synaptome-Duke/data/collman17/Site3Align2Stacks/synaptograms/false_positives/2138.png\n",
      "/Users/anish/Documents/Connectome/Synaptome-Duke/data/collman17/Site3Align2Stacks/synaptograms/false_positives/2142.png\n",
      "/Users/anish/Documents/Connectome/Synaptome-Duke/data/collman17/Site3Align2Stacks/synaptograms/false_positives/2143.png\n",
      "/Users/anish/Documents/Connectome/Synaptome-Duke/data/collman17/Site3Align2Stacks/synaptograms/false_positives/2152.png\n",
      "/Users/anish/Documents/Connectome/Synaptome-Duke/data/collman17/Site3Align2Stacks/synaptograms/false_positives/2154.png\n",
      "/Users/anish/Documents/Connectome/Synaptome-Duke/data/collman17/Site3Align2Stacks/synaptograms/false_positives/2159.png\n",
      "/Users/anish/Documents/Connectome/Synaptome-Duke/data/collman17/Site3Align2Stacks/synaptograms/false_positives/2178.png\n",
      "/Users/anish/Documents/Connectome/Synaptome-Duke/data/collman17/Site3Align2Stacks/synaptograms/false_positives/2211.png\n",
      "/Users/anish/Documents/Connectome/Synaptome-Duke/data/collman17/Site3Align2Stacks/synaptograms/false_positives/2220.png\n",
      "/Users/anish/Documents/Connectome/Synaptome-Duke/data/collman17/Site3Align2Stacks/synaptograms/false_positives/2221.png\n",
      "/Users/anish/Documents/Connectome/Synaptome-Duke/data/collman17/Site3Align2Stacks/synaptograms/false_positives/2249.png\n",
      "/Users/anish/Documents/Connectome/Synaptome-Duke/data/collman17/Site3Align2Stacks/synaptograms/false_positives/2265.png\n",
      "/Users/anish/Documents/Connectome/Synaptome-Duke/data/collman17/Site3Align2Stacks/synaptograms/false_positives/2266.png\n",
      "/Users/anish/Documents/Connectome/Synaptome-Duke/data/collman17/Site3Align2Stacks/synaptograms/false_positives/2290.png\n",
      "/Users/anish/Documents/Connectome/Synaptome-Duke/data/collman17/Site3Align2Stacks/synaptograms/false_positives/2292.png\n",
      "/Users/anish/Documents/Connectome/Synaptome-Duke/data/collman17/Site3Align2Stacks/synaptograms/false_positives/2327.png\n",
      "/Users/anish/Documents/Connectome/Synaptome-Duke/data/collman17/Site3Align2Stacks/synaptograms/false_positives/2330.png\n",
      "/Users/anish/Documents/Connectome/Synaptome-Duke/data/collman17/Site3Align2Stacks/synaptograms/false_positives/2347.png\n",
      "/Users/anish/Documents/Connectome/Synaptome-Duke/data/collman17/Site3Align2Stacks/synaptograms/false_positives/2358.png\n",
      "/Users/anish/Documents/Connectome/Synaptome-Duke/data/collman17/Site3Align2Stacks/synaptograms/false_positives/2378.png\n",
      "/Users/anish/Documents/Connectome/Synaptome-Duke/data/collman17/Site3Align2Stacks/synaptograms/false_positives/2404.png\n",
      "/Users/anish/Documents/Connectome/Synaptome-Duke/data/collman17/Site3Align2Stacks/synaptograms/false_positives/2413.png\n",
      "/Users/anish/Documents/Connectome/Synaptome-Duke/data/collman17/Site3Align2Stacks/synaptograms/false_positives/2420.png\n",
      "/Users/anish/Documents/Connectome/Synaptome-Duke/data/collman17/Site3Align2Stacks/synaptograms/false_positives/2434.png\n",
      "/Users/anish/Documents/Connectome/Synaptome-Duke/data/collman17/Site3Align2Stacks/synaptograms/false_positives/2443.png\n",
      "/Users/anish/Documents/Connectome/Synaptome-Duke/data/collman17/Site3Align2Stacks/synaptograms/false_positives/2444.png\n",
      "/Users/anish/Documents/Connectome/Synaptome-Duke/data/collman17/Site3Align2Stacks/synaptograms/false_positives/2462.png\n",
      "/Users/anish/Documents/Connectome/Synaptome-Duke/data/collman17/Site3Align2Stacks/synaptograms/false_positives/2464.png\n",
      "/Users/anish/Documents/Connectome/Synaptome-Duke/data/collman17/Site3Align2Stacks/synaptograms/false_positives/2473.png\n",
      "/Users/anish/Documents/Connectome/Synaptome-Duke/data/collman17/Site3Align2Stacks/synaptograms/false_positives/2485.png\n",
      "/Users/anish/Documents/Connectome/Synaptome-Duke/data/collman17/Site3Align2Stacks/synaptograms/false_positives/2494.png\n",
      "/Users/anish/Documents/Connectome/Synaptome-Duke/data/collman17/Site3Align2Stacks/synaptograms/false_positives/2508.png\n",
      "/Users/anish/Documents/Connectome/Synaptome-Duke/data/collman17/Site3Align2Stacks/synaptograms/false_positives/2535.png\n",
      "/Users/anish/Documents/Connectome/Synaptome-Duke/data/collman17/Site3Align2Stacks/synaptograms/false_positives/2577.png\n",
      "/Users/anish/Documents/Connectome/Synaptome-Duke/data/collman17/Site3Align2Stacks/synaptograms/false_positives/2619.png\n",
      "/Users/anish/Documents/Connectome/Synaptome-Duke/data/collman17/Site3Align2Stacks/synaptograms/false_positives/2634.png\n",
      "/Users/anish/Documents/Connectome/Synaptome-Duke/data/collman17/Site3Align2Stacks/synaptograms/false_positives/2684.png\n",
      "/Users/anish/Documents/Connectome/Synaptome-Duke/data/collman17/Site3Align2Stacks/synaptograms/false_positives/2697.png\n",
      "/Users/anish/Documents/Connectome/Synaptome-Duke/data/collman17/Site3Align2Stacks/synaptograms/false_positives/2714.png\n",
      "/Users/anish/Documents/Connectome/Synaptome-Duke/data/collman17/Site3Align2Stacks/synaptograms/false_positives/2749.png\n",
      "/Users/anish/Documents/Connectome/Synaptome-Duke/data/collman17/Site3Align2Stacks/synaptograms/false_positives/2766.png\n",
      "/Users/anish/Documents/Connectome/Synaptome-Duke/data/collman17/Site3Align2Stacks/synaptograms/false_positives/2776.png\n",
      "/Users/anish/Documents/Connectome/Synaptome-Duke/data/collman17/Site3Align2Stacks/synaptograms/false_positives/2793.png\n",
      "/Users/anish/Documents/Connectome/Synaptome-Duke/data/collman17/Site3Align2Stacks/synaptograms/false_positives/2796.png\n"
     ]
    },
    {
     "name": "stdout",
     "output_type": "stream",
     "text": [
      "/Users/anish/Documents/Connectome/Synaptome-Duke/data/collman17/Site3Align2Stacks/synaptograms/false_positives/2805.png\n",
      "/Users/anish/Documents/Connectome/Synaptome-Duke/data/collman17/Site3Align2Stacks/synaptograms/false_positives/2830.png\n",
      "/Users/anish/Documents/Connectome/Synaptome-Duke/data/collman17/Site3Align2Stacks/synaptograms/false_positives/2844.png\n",
      "/Users/anish/Documents/Connectome/Synaptome-Duke/data/collman17/Site3Align2Stacks/synaptograms/false_positives/2873.png\n",
      "/Users/anish/Documents/Connectome/Synaptome-Duke/data/collman17/Site3Align2Stacks/synaptograms/false_positives/2923.png\n",
      "/Users/anish/Documents/Connectome/Synaptome-Duke/data/collman17/Site3Align2Stacks/synaptograms/false_positives/2924.png\n",
      "/Users/anish/Documents/Connectome/Synaptome-Duke/data/collman17/Site3Align2Stacks/synaptograms/false_positives/2925.png\n",
      "/Users/anish/Documents/Connectome/Synaptome-Duke/data/collman17/Site3Align2Stacks/synaptograms/false_positives/2936.png\n",
      "/Users/anish/Documents/Connectome/Synaptome-Duke/data/collman17/Site3Align2Stacks/synaptograms/false_positives/2970.png\n",
      "/Users/anish/Documents/Connectome/Synaptome-Duke/data/collman17/Site3Align2Stacks/synaptograms/false_positives/2971.png\n",
      "/Users/anish/Documents/Connectome/Synaptome-Duke/data/collman17/Site3Align2Stacks/synaptograms/false_positives/2991.png\n",
      "/Users/anish/Documents/Connectome/Synaptome-Duke/data/collman17/Site3Align2Stacks/synaptograms/false_positives/2993.png\n",
      "/Users/anish/Documents/Connectome/Synaptome-Duke/data/collman17/Site3Align2Stacks/synaptograms/false_positives/3011.png\n",
      "/Users/anish/Documents/Connectome/Synaptome-Duke/data/collman17/Site3Align2Stacks/synaptograms/false_positives/3015.png\n",
      "/Users/anish/Documents/Connectome/Synaptome-Duke/data/collman17/Site3Align2Stacks/synaptograms/false_positives/3077.png\n"
     ]
    }
   ],
   "source": [
    "for counter, synapse in enumerate(false_positive): \n",
    "\n",
    "    bbox = synaptogram.getAnnotationBoundingBox2(synapse)\n",
    "    bbox = synaptogram.transformSynapseCoordinates(bbox)\n",
    "    expandedBox = synaptogram.expandBoundingBox(bbox, win_xy, win_z)\n",
    "\n",
    "    synapseOutlinesDict = synaptogram.getAnnotationOutlines(synapse)\n",
    "    synapseOutlinesDict = synaptogram.transformSynapseOutlinesDict(synapseOutlinesDict)\n",
    "\n",
    "    filename = os.path.join(filepath, 'synaptograms/false_positives', '{}.png'.format(synapse['oid']))\n",
    "\n",
    "    img = synaptogram.getSynaptogramFromFile(bbox, win_xy, win_z, stackList, showProb, filepath);\n",
    "    synaptogram.plotOutlinesOnImg(img, synapseOutlinesDict, expandedBox, filename, stackList, textXOffset, textYOffset)\n",
    "    print(filename)"
   ]
  },
  {
   "cell_type": "code",
   "execution_count": null,
   "metadata": {},
   "outputs": [],
   "source": []
  }
 ],
 "metadata": {
  "kernelspec": {
   "display_name": "Python [conda env:synapse_analysis]",
   "language": "python",
   "name": "conda-env-synapse_analysis-py"
  },
  "language_info": {
   "codemirror_mode": {
    "name": "ipython",
    "version": 3
   },
   "file_extension": ".py",
   "mimetype": "text/x-python",
   "name": "python",
   "nbconvert_exporter": "python",
   "pygments_lexer": "ipython3",
   "version": "3.5.4"
  }
 },
 "nbformat": 4,
 "nbformat_minor": 1
}
