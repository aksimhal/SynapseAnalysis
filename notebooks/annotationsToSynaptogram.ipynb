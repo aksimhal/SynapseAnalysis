{
 "cells": [
  {
   "cell_type": "code",
   "execution_count": null,
   "metadata": {},
   "outputs": [],
   "source": [
    "# Create synaptograms from an input json file "
   ]
  },
  {
   "cell_type": "code",
   "execution_count": null,
   "metadata": {
    "scrolled": true
   },
   "outputs": [],
   "source": [
    "import numpy as np \n",
    "from at_synapse_detection import synaptogram\n",
    "from at_synapse_detection.render_module import RenderModule\n",
    "import renderapi\n",
    "import matplotlib.pyplot as plt\n",
    "from at_synapse_detection import dataAccess as da\n",
    "from at_synapse_detection import SynapseDetection as syn \n",
    "import os\n",
    "import json \n",
    "from at_synapse_detection import evaluate_synapse_detection as esd\n",
    "from at_synapse_detection.AnnotationJsonSchema import AnnotationFile, NumpyArray\n",
    "import importlib\n",
    "from at_synapse_detection import processDetections as pd\n"
   ]
  },
  {
   "cell_type": "code",
   "execution_count": null,
   "metadata": {},
   "outputs": [],
   "source": [
    "data = json.load(open('../data/M247514_Rorb_1/Site3Align2/json_annotations/m247514_Site3Annotation_MN_global_v2.json'))"
   ]
  },
  {
   "cell_type": "code",
   "execution_count": null,
   "metadata": {},
   "outputs": [],
   "source": [
    "listOfSynapses = data['area_lists']"
   ]
  },
  {
   "cell_type": "code",
   "execution_count": null,
   "metadata": {},
   "outputs": [],
   "source": [
    "synapse = listOfSynapses[0]"
   ]
  },
  {
   "cell_type": "code",
   "execution_count": null,
   "metadata": {},
   "outputs": [],
   "source": [
    "synapse['oid']"
   ]
  },
  {
   "cell_type": "code",
   "execution_count": null,
   "metadata": {},
   "outputs": [],
   "source": [
    "win_xy = 4\n",
    "win_z = 1"
   ]
  },
  {
   "cell_type": "code",
   "execution_count": null,
   "metadata": {},
   "outputs": [],
   "source": [
    "bbox = synaptogram.getAnnotationBoundingBox2(synapse)\n",
    "bbox = synaptogram.transformSynapseCoordinates(bbox)\n",
    "expandedBox = synaptogram.expandBoundingBox(bbox, win_xy, win_z)"
   ]
  },
  {
   "cell_type": "code",
   "execution_count": null,
   "metadata": {},
   "outputs": [],
   "source": [
    "synapseOutlinesDict = synaptogram.getAnnotationOutlines(synapse)\n",
    "synapseOutlinesDict = synaptogram.transformSynapseOutlinesDict(synapseOutlinesDict)"
   ]
  },
  {
   "cell_type": "code",
   "execution_count": null,
   "metadata": {},
   "outputs": [],
   "source": [
    "filepath = '/Users/anish/Documents/Connectome/Synaptome-Duke/data/collman17/Site3Align2Stacks/';\n",
    "stackList = ['results', 'PSD95', 'synapsin', 'VGlut1', 'GluN1', 'GABA', 'Gephyrin']"
   ]
  },
  {
   "cell_type": "code",
   "execution_count": null,
   "metadata": {},
   "outputs": [],
   "source": [
    "showProb = True\n",
    "#filename = 'foo.png'\n",
    "filename = os.path.join(filepath, '{}.png'.format(synapse['oid']))"
   ]
  },
  {
   "cell_type": "code",
   "execution_count": null,
   "metadata": {},
   "outputs": [],
   "source": [
    "img = synaptogram.getSynaptogramFromFile(bbox, win_xy, win_z, stackList, showProb, filepath);"
   ]
  },
  {
   "cell_type": "code",
   "execution_count": null,
   "metadata": {},
   "outputs": [],
   "source": [
    "%matplotlib notebook\n",
    "\n",
    "plt.imshow(img, cmap='gray')\n",
    "plt.colorbar()"
   ]
  },
  {
   "cell_type": "code",
   "execution_count": null,
   "metadata": {},
   "outputs": [],
   "source": [
    "textXOffset = 1\n",
    "textYOffset = 1"
   ]
  },
  {
   "cell_type": "code",
   "execution_count": null,
   "metadata": {},
   "outputs": [],
   "source": [
    "synaptogram.plotOutlinesOnImg(img, synapseOutlinesDict, expandedBox, filename, stackList, 0, 5)\n",
    "#plotOutlinesOnImg(img, synapseOutlinesDict, expandedBox, filename, stackList, 0, 5)"
   ]
  },
  {
   "cell_type": "code",
   "execution_count": null,
   "metadata": {},
   "outputs": [],
   "source": [
    "metadataFN = '../data/M247514_Rorb_1/Site3Align2/site3_metadata.json'\n",
    "metadata = syn.loadMetadata(metadataFN)\n",
    "\n",
    "datalocation = metadata['datalocation']\n",
    "queryFN = metadata['querylocation']\n",
    "\n",
    "# List of Queries\n",
    "listOfQueries = syn.loadQueriesJSON(queryFN)\n"
   ]
  },
  {
   "cell_type": "code",
   "execution_count": null,
   "metadata": {},
   "outputs": [],
   "source": [
    "## RUNME "
   ]
  },
  {
   "cell_type": "code",
   "execution_count": null,
   "metadata": {},
   "outputs": [],
   "source": [
    "args = {\n",
    "    \"EM_annotation_json\":\"../data/M247514_Rorb_1/Site3Align2/json_annotations/m247514_Site3Annotation_MN_global_v2.json\",\n",
    "    \"LM_annotation_json\":\"../data/M247514_Rorb_1/Site3Align2/results/resultVol9.json\",\n",
    "    \"EM_metadata_csv\":\"../data/M247514_Rorb_1/Site3Align2/MNSite3Synaptograms_v2.csv\",\n",
    "    \"LM_metadata_file\":\"../data/M247514_Rorb_1/Site3Align2/site3_metadata.json\",\n",
    "    \"EM_inclass_column\":\"glutsynapse\",\n",
    "    \"EM_not_synapse_column\":\"ConsensusNotSynapse\",\n",
    "    \"output_json\":\"../data/M247514_Rorb_1/Site3Align2/results/Anish_evaluation_output.json\"\n",
    "    }"
   ]
  },
  {
   "cell_type": "code",
   "execution_count": null,
   "metadata": {},
   "outputs": [],
   "source": [
    "# COMBINE QUERIES"
   ]
  },
  {
   "cell_type": "code",
   "execution_count": null,
   "metadata": {},
   "outputs": [],
   "source": []
  },
  {
   "cell_type": "code",
   "execution_count": null,
   "metadata": {},
   "outputs": [],
   "source": [
    "print(listOfQueries[5])\n",
    "args['LM_annotation_json'] = \"../data/M247514_Rorb_1/Site3Align2/results_07/resultVol5.json\"\n",
    "queryresult1 = pd.evalsyndetections(args)\n",
    "missedAnnoIds_q2 = pd.getMissedAnnoIds(queryresult1['missed_annotations'])\n",
    "len(missedAnnoIds_q2)"
   ]
  },
  {
   "cell_type": "code",
   "execution_count": null,
   "metadata": {
    "scrolled": true
   },
   "outputs": [],
   "source": [
    "print(listOfQueries[6])\n",
    "args['LM_annotation_json'] = \"../data/M247514_Rorb_1/Site3Align2/results_07/resultVol6.json\"\n",
    "queryresult2 = pd.evalsyndetections(args)\n",
    "missedAnnoIds_q3 = pd.getMissedAnnoIds(queryresult2['missed_annotations'])\n",
    "len(missedAnnoIds_q3)"
   ]
  },
  {
   "cell_type": "code",
   "execution_count": null,
   "metadata": {},
   "outputs": [],
   "source": [
    "def combineResultVolumes(listOfQueryNumbers, listOfThresholds, args): \n",
    "\n",
    "    resultVolList = [] \n",
    "    for n, queryNum in enumerate(listOfQueryNumbers): \n",
    "    \n",
    "        fn = os.path.join(metadata['datalocation'], 'resultVol')\n",
    "        fn = fn + str(queryNum) + '.npy'\n",
    "        resultVol_n = np.load(fn)\n",
    "        print(fn)\n",
    "\n",
    "        resultVol_n = resultVol_n > listOfThresholds[n]\n",
    "        resultVolList.append(resultVol_n)\n",
    "\n",
    "    resultVol = resultVolList[0]\n",
    "    combinedQNum = str(listOfQueryNumbers[0]) \n",
    "    for volItr in range(1, len(resultVolList)): \n",
    "        resultVol = resultVol + resultVolList[volItr]\n",
    "        combinedQNum = combinedQNum + str(listOfQueryNumbers[volItr])\n",
    "        \n",
    "    combinedQNum = combinedQNum + str(0) + str(0) \n",
    "    \n",
    "    pd.probMapToJSON(resultVol, metadata, combinedQNum)\n",
    "    \n",
    "    fn = \"../data/M247514_Rorb_1/Site3Align2/results/resultVol\" + combinedQNum + \".json\"\n",
    "    \n",
    "    args['LM_annotation_json'] = fn\n",
    "    queryresult = pd.evalsyndetections(args)\n",
    "    missedAnnoIds = pd.getMissedAnnoIds(queryresult['missed_annotations'])\n",
    "    len(missedAnnoIds)\n",
    "\n",
    "    return queryresult\n",
    "    "
   ]
  },
  {
   "cell_type": "code",
   "execution_count": null,
   "metadata": {},
   "outputs": [],
   "source": [
    "listOfQueries[4]"
   ]
  },
  {
   "cell_type": "code",
   "execution_count": null,
   "metadata": {},
   "outputs": [],
   "source": [
    "listOfQueryNumbers = [  3,   4,   6,  11,   15,  19,  20,  21]\n",
    "listOfThresholds   = [0.7, 0.7, 0.7, 0.7,  0.7, 0.7, 0.7, 0.7]"
   ]
  },
  {
   "cell_type": "code",
   "execution_count": null,
   "metadata": {},
   "outputs": [],
   "source": [
    "queryresult = combineResultVolumes(listOfQueryNumbers, listOfThresholds, args)"
   ]
  },
  {
   "cell_type": "code",
   "execution_count": null,
   "metadata": {},
   "outputs": [],
   "source": [
    "listOfQueryNumbers = [0]\n",
    "listOfThresholds   = [0.7]\n",
    "queryresult = combineResultVolumes(listOfQueryNumbers, listOfThresholds, args)"
   ]
  },
  {
   "cell_type": "code",
   "execution_count": null,
   "metadata": {},
   "outputs": [],
   "source": [
    "listOfQueryNumbersPSD = [0]\n",
    "listOfThresholdsPSD   = [0.9]\n",
    "queryresultPSD = combineResultVolumes(listOfQueryNumbersPSD, listOfThresholdsPSD, args)"
   ]
  },
  {
   "cell_type": "code",
   "execution_count": null,
   "metadata": {},
   "outputs": [],
   "source": [
    "missedAnnoIdsPSD = pd.getMissedAnnoIds(queryresultPSD['missed_annotations'])\n"
   ]
  },
  {
   "cell_type": "code",
   "execution_count": null,
   "metadata": {},
   "outputs": [],
   "source": [
    "missedAnnoIds = pd.getMissedAnnoIds(queryresult['missed_annotations'])"
   ]
  },
  {
   "cell_type": "code",
   "execution_count": null,
   "metadata": {},
   "outputs": [],
   "source": [
    "len(missedAnnoIds)"
   ]
  },
  {
   "cell_type": "code",
   "execution_count": null,
   "metadata": {},
   "outputs": [],
   "source": [
    "itr = 0 \n",
    "\n",
    "old_missed_annotations =  queryresult['missed_annotations']\n",
    "missed_annotations = []\n",
    "for n, nID in enumerate(missedAnnoIds): \n",
    "    if nID in missedAnnoIdsPSD: \n",
    "        foo = 1 \n",
    "    else: \n",
    "        missed_annotations.append(old_missed_annotations[n])\n",
    "        itr = 1 + itr\n",
    "        \n",
    "print(itr)\n",
    "        "
   ]
  },
  {
   "cell_type": "code",
   "execution_count": null,
   "metadata": {},
   "outputs": [],
   "source": [
    "len(missed_annotations)"
   ]
  },
  {
   "cell_type": "code",
   "execution_count": null,
   "metadata": {},
   "outputs": [],
   "source": [
    "em_edge = queryresult['EM_edge']\n",
    "np.sum(em_edge)"
   ]
  },
  {
   "cell_type": "code",
   "execution_count": null,
   "metadata": {},
   "outputs": [],
   "source": [
    "# GABA SYNAPSES "
   ]
  },
  {
   "cell_type": "code",
   "execution_count": null,
   "metadata": {},
   "outputs": [],
   "source": [
    "print(listOfQueries[23])\n",
    "args['LM_annotation_json'] = \"../data/M247514_Rorb_1/Site3Align2/results/resultVol5.json\"\n",
    "queryresult1 = pd.evalGABAsyndetections(args)\n",
    "missedAnnoIds_q2 = pd.getMissedAnnoIds(queryresult1['missed_annotations'])\n",
    "len(missedAnnoIds_q2)"
   ]
  },
  {
   "cell_type": "code",
   "execution_count": null,
   "metadata": {},
   "outputs": [],
   "source": [
    "queryresult1.keys()"
   ]
  },
  {
   "cell_type": "code",
   "execution_count": null,
   "metadata": {},
   "outputs": [],
   "source": [
    "good_annotations = (queryresult1['good_annotations'])\n"
   ]
  },
  {
   "cell_type": "code",
   "execution_count": null,
   "metadata": {},
   "outputs": [],
   "source": [
    "ganno[1:10]"
   ]
  },
  {
   "cell_type": "code",
   "execution_count": null,
   "metadata": {},
   "outputs": [],
   "source": [
    "missedAnnoIds_q2"
   ]
  },
  {
   "cell_type": "code",
   "execution_count": null,
   "metadata": {},
   "outputs": [],
   "source": [
    "win_xy = 4\n",
    "win_z = 1\n",
    "filepath = '/Users/anish/Documents/Connectome/Synaptome-Duke/data/collman17/Site3Align2Stacks/';\n",
    "stackList = ['results', 'PSD95', 'synapsin', 'VGlut1', 'GluN1', 'GABA', 'Gephyrin']\n",
    "showProb = True\n",
    "textXOffset = 0\n",
    "textYOffset = 5\n",
    "\n"
   ]
  },
  {
   "cell_type": "code",
   "execution_count": null,
   "metadata": {},
   "outputs": [],
   "source": [
    "for counter, synapse in enumerate(good_annotations): \n",
    "    \n",
    "#     if (LM_per_EM[counter] > 0 and EM_edge[counter]==False): \n",
    "    bbox = synaptogram.getAnnotationBoundingBox2(synapse)\n",
    "    bbox = synaptogram.transformSynapseCoordinates(bbox)\n",
    "    expandedBox = synaptogram.expandBoundingBox(bbox, win_xy, win_z)\n",
    "\n",
    "    synapseOutlinesDict = synaptogram.getAnnotationOutlines(synapse)\n",
    "    synapseOutlinesDict = synaptogram.transformSynapseOutlinesDict(synapseOutlinesDict)\n",
    "\n",
    "    filename = os.path.join(filepath, 'synaptograms/good', '{}.png'.format(synapse['oid']))\n",
    "\n",
    "    img = synaptogram.getSynaptogramFromFile(bbox, win_xy, win_z, stackList, showProb, filepath);\n",
    "    synaptogram.plotOutlinesOnImg(img, synapseOutlinesDict, expandedBox, filename, stackList, textXOffset, textYOffset)\n",
    "    print(filename)"
   ]
  },
  {
   "cell_type": "code",
   "execution_count": null,
   "metadata": {},
   "outputs": [],
   "source": []
  },
  {
   "cell_type": "code",
   "execution_count": null,
   "metadata": {},
   "outputs": [],
   "source": [
    "for counter, synapse in enumerate(missed_annotations): \n",
    "    \n",
    "    #if synapse['oid'] in missed_anno: \n",
    "    bbox = synaptogram.getAnnotationBoundingBox2(synapse)\n",
    "    bbox = synaptogram.transformSynapseCoordinates(bbox)\n",
    "    expandedBox = synaptogram.expandBoundingBox(bbox, win_xy, win_z)\n",
    "\n",
    "    synapseOutlinesDict = synaptogram.getAnnotationOutlines(synapse)\n",
    "    synapseOutlinesDict = synaptogram.transformSynapseOutlinesDict(synapseOutlinesDict)\n",
    "\n",
    "    filename = os.path.join(filepath, 'synaptograms/missed', '{}.png'.format(synapse['oid']))\n",
    "\n",
    "    img = synaptogram.getSynaptogramFromFile(bbox, win_xy, win_z, stackList, showProb, filepath);\n",
    "    synaptogram.plotOutlinesOnImg(img, synapseOutlinesDict, expandedBox, filename, stackList, textXOffset, textYOffset)\n",
    "    print(filename)"
   ]
  },
  {
   "cell_type": "code",
   "execution_count": null,
   "metadata": {},
   "outputs": [],
   "source": [
    "#false postives "
   ]
  },
  {
   "cell_type": "code",
   "execution_count": null,
   "metadata": {},
   "outputs": [],
   "source": [
    "false_positives = queryresult['false_positives']"
   ]
  },
  {
   "cell_type": "code",
   "execution_count": null,
   "metadata": {},
   "outputs": [],
   "source": [
    "false_positives[0]"
   ]
  },
  {
   "cell_type": "code",
   "execution_count": null,
   "metadata": {},
   "outputs": [],
   "source": [
    "for counter, synapse in enumerate(false_positives): \n",
    "\n",
    "    bbox = synaptogram.getAnnotationBoundingBox2(synapse)\n",
    "    bbox = synaptogram.transformSynapseCoordinates(bbox)\n",
    "    expandedBox = synaptogram.expandBoundingBox(bbox, win_xy, win_z)\n",
    "\n",
    "    synapseOutlinesDict = synaptogram.getAnnotationOutlines(synapse)\n",
    "    synapseOutlinesDict = synaptogram.transformSynapseOutlinesDict(synapseOutlinesDict)\n",
    "\n",
    "    filename = os.path.join(filepath, 'synaptograms/false_positives', '{}.png'.format(synapse['oid']))\n",
    "\n",
    "    img = synaptogram.getSynaptogramFromFile(bbox, win_xy, win_z, stackList, showProb, filepath);\n",
    "    synaptogram.plotOutlinesOnImg(img, synapseOutlinesDict, expandedBox, filename, stackList, textXOffset, textYOffset)\n",
    "    print(filename)"
   ]
  },
  {
   "cell_type": "code",
   "execution_count": null,
   "metadata": {},
   "outputs": [],
   "source": [
    "for n in range(1, 2): \n",
    "    print(n) "
   ]
  },
  {
   "cell_type": "code",
   "execution_count": null,
   "metadata": {},
   "outputs": [],
   "source": [
    "vol = da.imreadtiffseries('/Users/anish/Documents/Connectome/Synaptome-Duke/data/collman17/Site3Align2Stacks/GABA')\n",
    "img = vol[:, :, 0]"
   ]
  },
  {
   "cell_type": "code",
   "execution_count": null,
   "metadata": {},
   "outputs": [],
   "source": [
    "scale_param = np.sqrt(0.5 * np.mean(np.power(img.flatten(), 2)));"
   ]
  },
  {
   "cell_type": "code",
   "execution_count": null,
   "metadata": {},
   "outputs": [],
   "source": [
    "x = img"
   ]
  },
  {
   "cell_type": "code",
   "execution_count": null,
   "metadata": {},
   "outputs": [],
   "source": [
    "probimg = 1-np.exp((-np.power(x, 2))/(2*np.power(scale_param, 2)));"
   ]
  },
  {
   "cell_type": "code",
   "execution_count": null,
   "metadata": {},
   "outputs": [],
   "source": [
    "probimg"
   ]
  },
  {
   "cell_type": "code",
   "execution_count": null,
   "metadata": {},
   "outputs": [],
   "source": [
    "from scipy.stats import norm,rayleigh\n",
    "from skimage import measure\n",
    "import scipy"
   ]
  },
  {
   "cell_type": "code",
   "execution_count": null,
   "metadata": {},
   "outputs": [],
   "source": [
    "aLOC, bSCALE = scipy.stats.rayleigh.fit(img.flatten(), floc=0)"
   ]
  },
  {
   "cell_type": "code",
   "execution_count": null,
   "metadata": {},
   "outputs": [],
   "source": [
    "aLOC, bSCALE"
   ]
  },
  {
   "cell_type": "code",
   "execution_count": null,
   "metadata": {},
   "outputs": [],
   "source": [
    "probimg = rayleigh.cdf(img, loc=aLOC, scale=bSCALE)"
   ]
  },
  {
   "cell_type": "code",
   "execution_count": null,
   "metadata": {},
   "outputs": [],
   "source": []
  },
  {
   "cell_type": "code",
   "execution_count": null,
   "metadata": {},
   "outputs": [],
   "source": [
    "labelVol = measure.label(probimg > 0.9, 8)\n",
    "stats = measure.regionprops(labelVol)\n",
    "print(len(stats)) "
   ]
  },
  {
   "cell_type": "code",
   "execution_count": null,
   "metadata": {},
   "outputs": [],
   "source": [
    "%matplotlib notebook\n",
    "\n",
    "plt.imshow(probimg, cmap='gray')"
   ]
  },
  {
   "cell_type": "code",
   "execution_count": null,
   "metadata": {},
   "outputs": [],
   "source": []
  },
  {
   "cell_type": "code",
   "execution_count": null,
   "metadata": {},
   "outputs": [],
   "source": [
    "args"
   ]
  },
  {
   "cell_type": "code",
   "execution_count": null,
   "metadata": {},
   "outputs": [],
   "source": []
  }
 ],
 "metadata": {
  "kernelspec": {
   "display_name": "Python [conda env:synapse_analysis]",
   "language": "python",
   "name": "conda-env-synapse_analysis-py"
  },
  "language_info": {
   "codemirror_mode": {
    "name": "ipython",
    "version": 3
   },
   "file_extension": ".py",
   "mimetype": "text/x-python",
   "name": "python",
   "nbconvert_exporter": "python",
   "pygments_lexer": "ipython3",
   "version": "3.5.4"
  }
 },
 "nbformat": 4,
 "nbformat_minor": 1
}
