{
 "cells": [
  {
   "cell_type": "code",
   "execution_count": null,
   "metadata": {
    "collapsed": true
   },
   "outputs": [],
   "source": [
    "# Create synaptograms from an input json file "
   ]
  },
  {
   "cell_type": "code",
   "execution_count": null,
   "metadata": {
    "collapsed": false,
    "scrolled": true
   },
   "outputs": [],
   "source": [
    "import numpy as np \n",
    "import synaptogram\n",
    "from renderapps.module.render_module import RenderModule\n",
    "import renderapi\n",
    "import matplotlib.pyplot as plt\n",
    "import dataAccess as da\n",
    "import SynapseDetection as syn \n",
    "import os\n",
    "import json \n",
    "\n"
   ]
  },
  {
   "cell_type": "code",
   "execution_count": null,
   "metadata": {
    "collapsed": true
   },
   "outputs": [],
   "source": [
    "# dec 1 2017"
   ]
  },
  {
   "cell_type": "code",
   "execution_count": null,
   "metadata": {
    "collapsed": false
   },
   "outputs": [],
   "source": [
    "args={\n",
    "    'render':{\n",
    "    'host':'http://152.3.214.113',\n",
    "    'port':8080,\n",
    "    'owner':'Anish',\n",
    "    'project':'M247514_Rorb_1',\n",
    "    'client_scripts':'/home/anish/Connectome/render/render-ws-java-client/src/main/scripts'\n",
    "},\n",
    "'log_level':'DEBUG'}\n",
    "mod = RenderModule(input_data = args,args=[])\n",
    "stacks = mod.render.run(renderapi.render.get_stacks_by_owner_project)\n",
    "render_args = args['render']"
   ]
  },
  {
   "cell_type": "code",
   "execution_count": null,
   "metadata": {
    "collapsed": false
   },
   "outputs": [],
   "source": [
    "data = json.load(open('json_annotations/m247514_Site3Annotation_MN_global_v2.json'))"
   ]
  },
  {
   "cell_type": "code",
   "execution_count": null,
   "metadata": {
    "collapsed": false
   },
   "outputs": [],
   "source": [
    "listOfSynapses = data['area_lists']"
   ]
  },
  {
   "cell_type": "code",
   "execution_count": null,
   "metadata": {
    "collapsed": false
   },
   "outputs": [],
   "source": [
    "synapse = listOfSynapses[0]"
   ]
  },
  {
   "cell_type": "code",
   "execution_count": null,
   "metadata": {
    "collapsed": false
   },
   "outputs": [],
   "source": [
    "synapse['oid']"
   ]
  },
  {
   "cell_type": "code",
   "execution_count": null,
   "metadata": {
    "collapsed": false
   },
   "outputs": [],
   "source": [
    "win_xy = 4\n",
    "win_z = 1"
   ]
  },
  {
   "cell_type": "code",
   "execution_count": null,
   "metadata": {
    "collapsed": false
   },
   "outputs": [],
   "source": [
    "reload(synaptogram)"
   ]
  },
  {
   "cell_type": "code",
   "execution_count": null,
   "metadata": {
    "collapsed": false
   },
   "outputs": [],
   "source": [
    "bbox = synaptogram.getAnnotationBoundingBox2(synapse, render_args)\n",
    "bbox = synaptogram.transformSynapseCoordinates(bbox)\n",
    "expandedBox = synaptogram.expandBoundingBox(bbox, win_xy, win_z)"
   ]
  },
  {
   "cell_type": "code",
   "execution_count": null,
   "metadata": {
    "collapsed": true
   },
   "outputs": [],
   "source": [
    "synapseOutlinesDict = synaptogram.getAnnotationOutlines(synapse, render_args)\n",
    "synapseOutlinesDict = synaptogram.transformSynapseOutlinesDict(synapseOutlinesDict)"
   ]
  },
  {
   "cell_type": "code",
   "execution_count": null,
   "metadata": {
    "collapsed": true
   },
   "outputs": [],
   "source": [
    "filepath = '/Users/anish/Documents/Connectome/Synaptome-Duke/data/collman17/Site3Align2Stacks/';\n",
    "stackList = ['results', 'PSD95', 'synapsin', 'VGlut1', 'GluN1', 'GABA', 'Gephyrin']"
   ]
  },
  {
   "cell_type": "code",
   "execution_count": null,
   "metadata": {
    "collapsed": false
   },
   "outputs": [],
   "source": [
    "showProb = True\n",
    "#filename = 'foo.png'\n",
    "filename = os.path.join('{}.png'.format(synapse['oid']))"
   ]
  },
  {
   "cell_type": "code",
   "execution_count": null,
   "metadata": {
    "collapsed": false
   },
   "outputs": [],
   "source": [
    "filename"
   ]
  },
  {
   "cell_type": "code",
   "execution_count": null,
   "metadata": {
    "collapsed": false
   },
   "outputs": [],
   "source": [
    "img = synaptogram.getSynaptogramFromFile(bbox, win_xy, win_z, stackList, showProb, filepath);"
   ]
  },
  {
   "cell_type": "code",
   "execution_count": null,
   "metadata": {
    "collapsed": false
   },
   "outputs": [],
   "source": [
    "%matplotlib notebook\n",
    "\n",
    "plt.imshow(img, cmap='gray')"
   ]
  },
  {
   "cell_type": "code",
   "execution_count": null,
   "metadata": {
    "collapsed": false
   },
   "outputs": [],
   "source": [
    "textXOffset = 1\n",
    "textYOffset = 1"
   ]
  },
  {
   "cell_type": "code",
   "execution_count": null,
   "metadata": {
    "collapsed": false
   },
   "outputs": [],
   "source": [
    "synapseOutlinesDict.keys()"
   ]
  },
  {
   "cell_type": "code",
   "execution_count": null,
   "metadata": {
    "collapsed": true
   },
   "outputs": [],
   "source": []
  },
  {
   "cell_type": "code",
   "execution_count": null,
   "metadata": {
    "collapsed": false
   },
   "outputs": [],
   "source": [
    "synaptogram.plotOutlinesOnImg(img, synapseOutlinesDict, expandedBox, filename, stackList, 0, 5)\n",
    "#plotOutlinesOnImg(img, synapseOutlinesDict, expandedBox, filename, stackList, 0, 5)"
   ]
  },
  {
   "cell_type": "code",
   "execution_count": null,
   "metadata": {
    "collapsed": false
   },
   "outputs": [],
   "source": [
    "## RUNME "
   ]
  },
  {
   "cell_type": "code",
   "execution_count": null,
   "metadata": {
    "collapsed": false
   },
   "outputs": [],
   "source": [
    "win_xy = 4\n",
    "win_z = 1\n",
    "filepath = '/Users/anish/Documents/Connectome/Synaptome-Duke/data/collman17/Site3Align2Stacks/';\n",
    "stackList = ['results', 'PSD95', 'synapsin', 'VGlut1', 'GluN1', 'GABA', 'Gephyrin']\n",
    "showProb = True\n",
    "textXOffset = 0\n",
    "textYOffset = 5\n",
    "\n"
   ]
  },
  {
   "cell_type": "code",
   "execution_count": null,
   "metadata": {
    "collapsed": false
   },
   "outputs": [],
   "source": [
    "for synapse in listOfSynapses: \n",
    "    bbox = synaptogram.getAnnotationBoundingBox2(synapse, render_args)\n",
    "    bbox = synaptogram.transformSynapseCoordinates(bbox)\n",
    "    expandedBox = synaptogram.expandBoundingBox(bbox, win_xy, win_z)\n",
    "    \n",
    "    synapseOutlinesDict = synaptogram.getAnnotationOutlines(synapse, render_args)\n",
    "    synapseOutlinesDict = synaptogram.transformSynapseOutlinesDict(synapseOutlinesDict)\n",
    "    \n",
    "    filename = os.path.join(filepath, 'synaptograms', '{}.png'.format(synapse['oid']))\n",
    "    \n",
    "    img = synaptogram.getSynaptogramFromFile(bbox, win_xy, win_z, stackList, showProb, filepath);\n",
    "    synaptogram.plotOutlinesOnImg(img, synapseOutlinesDict, expandedBox, filename, stackList, textXOffset, textYOffset)\n",
    "    print filename"
   ]
  }
 ],
 "metadata": {
  "kernelspec": {
   "display_name": "Python 2",
   "language": "python",
   "name": "python2"
  },
  "language_info": {
   "codemirror_mode": {
    "name": "ipython",
    "version": 2
   },
   "file_extension": ".py",
   "mimetype": "text/x-python",
   "name": "python",
   "nbconvert_exporter": "python",
   "pygments_lexer": "ipython2",
   "version": "2.7.14"
  }
 },
 "nbformat": 4,
 "nbformat_minor": 0
}
