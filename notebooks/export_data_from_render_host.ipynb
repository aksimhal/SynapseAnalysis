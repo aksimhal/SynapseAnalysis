{
 "cells": [
  {
   "cell_type": "code",
   "execution_count": null,
   "metadata": {
    "collapsed": true
   },
   "outputs": [],
   "source": [
    "import os"
   ]
  },
  {
   "cell_type": "code",
   "execution_count": null,
   "metadata": {},
   "outputs": [],
   "source": [
    "import renderapi\n",
    "\n",
    "#stacks_to_import = [u'BIGALIGN2_MARCH24c_DAPI_1_deconvnew_mm', \n",
    "#                    u'BIGALIGN2_MARCH24c_Gephyrin_deconvnew_mm',\n",
    "#                    u'BIGALIGN2_MARCH24c_MBP_deconvnew_mm',\n",
    "#                    u'BIGALIGN2_MARCH24c_GABA_deconvnew_mm', \n",
    "#                    u'BIGALIGN2_MARCH24c_GAD2_deconvnew_mm',\n",
    "#                    u'BIGALIGN2_MARCH24c_GluN1_deconvnew_mm', \n",
    "#                    u'BIGALIGN2_MARCH24c_VGlut1_deconvnew_mm', \n",
    "#                    u'BIGALIGN2_MARCH24c_TdTomato_deconvnew_mm',\n",
    "#                    u'BIGALIGN2_MARCH24c_PSD95_deconvnew_mm',\n",
    "#                    u'BIGALIGN2_MARCH24c_VGlut1_deconvnew_mm', \n",
    "#                    u'BIGALIGN2_MARCH24c_synapsin_deconvnew_mm',\n",
    "#                    u'BIGALIGN2_MARCH24c_EM_clahe_mm']\n",
    "\n",
    "stacks_to_import = [u'BIGALIGN_LENS_DAPI_1_deconvnew', \n",
    "                    u'BIGALIGN_LENS_Gephyrin_deconvnew',\n",
    "                    u'BIGALIGN_LENS_MBP_deconvnew',\n",
    "                    u'BIGALIGN_LENS_GABA_deconvnew', \n",
    "                    u'BIGALIGN_LENS_GAD2_deconvnew',\n",
    "                    u'BIGALIGN_LENS_GluN1_deconvnew', \n",
    "                    u'BIGALIGN_LENS_VGlut1_deconvnew', \n",
    "                    u'BIGALIGN_LENS_TdTomato_deconvnew',\n",
    "                    u'BIGALIGN_LENS_PSD95_deconvnew',\n",
    "                    u'BIGALIGN_LENS_VGlut1_deconvnew', \n",
    "                    u'BIGALIGN_LENS_synapsin_deconvnew',\n",
    "                    u'BIGALIGN_LENS_EMclahe_all']\n",
    "\n",
    "\n",
    "stacks_to_import = ['Site3Align2_EM_clahe_mm', \n",
    "                    'Site3Align2_LENS_PSD95b_deconvnew', \n",
    "                   ]\n",
    "#def test_render_client():\n",
    "    \n",
    "args={\n",
    "    'host':'ibs-forrestc-ux1.corp.alleninstitute.org',\n",
    "    'port':8080,\n",
    "    'owner':'Forrest',\n",
    "    'project':'M247514_Rorb_1',\n",
    "    'client_scripts':'/path/to/client_scripts'\n",
    "}\n",
    "r = renderapi.render.connect(**args)\n",
    "\n",
    "root_dir = os.path.join(os.curdir,args['owner'],args['project'])\n",
    "\n",
    "print root_dir\n",
    "for stack in stacks_to_import:\n",
    "    print stack\n",
    "    stack_dir = os.path.join(root_dir,stack)\n",
    "    if not os.path.isdir(stack_dir):\n",
    "        print 'making'\n",
    "        os.makedirs(stack_dir)\n",
    "    zvalues = r.run(renderapi.stack.get_z_values_for_stack,stack)\n",
    "    for z in zvalues:\n",
    "        tilespecs = r.run(renderapi.tilespec.get_tile_specs_from_z,stack,z)\n",
    "        file_name = os.path.join(stack_dir,'z%07d.json'%z)\n",
    "        fp = open(file_name,'w')\n",
    "        renderapi.utils.renderdump(tilespecs,fp)\n",
    "        \n",
    "        \n",
    "    "
   ]
  },
  {
   "cell_type": "code",
   "execution_count": null,
   "metadata": {},
   "outputs": [],
   "source": [
    "print \"complete\""
   ]
  },
  {
   "cell_type": "code",
   "execution_count": null,
   "metadata": {
    "collapsed": true
   },
   "outputs": [],
   "source": []
  }
 ],
 "metadata": {
  "kernelspec": {
   "display_name": "Python [conda env:synapse_analysis]",
   "language": "python",
   "name": "conda-env-synapse_analysis-py"
  },
  "language_info": {
   "codemirror_mode": {
    "name": "ipython",
    "version": 3
   },
   "file_extension": ".py",
   "mimetype": "text/x-python",
   "name": "python",
   "nbconvert_exporter": "python",
   "pygments_lexer": "ipython3",
   "version": "3.5.4"
  }
 },
 "nbformat": 4,
 "nbformat_minor": 1
}
