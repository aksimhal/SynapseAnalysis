{
 "cells": [
  {
   "cell_type": "code",
   "execution_count": 1,
   "metadata": {},
   "outputs": [
    {
     "data": {
      "text/plain": [
       "'\\nThis notebook creates the metadata .json file\\n'"
      ]
     },
     "execution_count": 1,
     "metadata": {},
     "output_type": "execute_result"
    }
   ],
   "source": [
    "\"\"\"\n",
    "This notebook creates the metadata .json file\n",
    "\"\"\""
   ]
  },
  {
   "cell_type": "code",
   "execution_count": 2,
   "metadata": {},
   "outputs": [],
   "source": [
    "import json "
   ]
  },
  {
   "cell_type": "code",
   "execution_count": 3,
   "metadata": {},
   "outputs": [],
   "source": [
    "resolution = {'res_xy_nm' : 100, 'res_z_nm' : 50}"
   ]
  },
  {
   "cell_type": "code",
   "execution_count": 4,
   "metadata": {},
   "outputs": [],
   "source": [
    "args={\n",
    "    'render':{\n",
    "    'host':'http://152.3.214.113',\n",
    "    'port':8080,\n",
    "    'owner':'Anish',\n",
    "    'project':'M247514_Rorb_1',\n",
    "    'client_scripts':'/home/anish/Connectome/render/render-ws-java-client/src/main/scripts'\n",
    "},\n",
    "'log_level':'DEBUG'}\n",
    "render_args = args['render']"
   ]
  },
  {
   "cell_type": "code",
   "execution_count": 5,
   "metadata": {},
   "outputs": [],
   "source": [
    "querylocation = '/Users/anish/Documents/Connectome/SynapseAnalysis/data/M247514_Rorb_1/Site3Align2/site3_queries.json'\n",
    "datalocation = '/Users/anish/Documents/Connectome/Synaptome-Duke/data/collman17/Site3Align2Stacks/'\n",
    "outputJSONlocation = '/Users/anish/Documents/Connectome/SynapseAnalysis/data/M247514_Rorb_1/Site3Align2/results/'\n",
    "rowOffset_nm = 0\n",
    "colOffset_nm = 0 \n",
    "zOffset_nm = 0\n",
    "offset = {'rowOffset_nm': rowOffset_nm, 'colOffset_nm': colOffset_nm, 'zOffset_nm': zOffset_nm}\n",
    "thresh=0.7\n"
   ]
  },
  {
   "cell_type": "code",
   "execution_count": 6,
   "metadata": {},
   "outputs": [],
   "source": [
    "evaluation_parameters = {\n",
    "\"EM_annotation_json\":\"json_annotations/m247514_Site3Annotation_MN_global_v2.json\",\n",
    "\"LM_annotation_json\":\"results/resultVol7.json\",\n",
    "\"EM_metadata_csv\":\"MNSite3Synaptograms_v2.csv\",\n",
    "\"LM_metadata_file\":\"site3_metadata.json\",\n",
    "\"EM_inclass_column\":\"glutsynapse\",\n",
    "\"EM_not_synapse_column\":\"ConsensusNotSynapse\",\n",
    "\"output_json\":\"results/Anish_evaluation_output.json\"\n",
    "}"
   ]
  },
  {
   "cell_type": "code",
   "execution_count": 7,
   "metadata": {},
   "outputs": [],
   "source": [
    "metadata = {'resolution': resolution, 'render_args': render_args, 'thresh': thresh,\n",
    "            'querylocation': querylocation, 'datalocation': datalocation, 'offset': offset,\n",
    "            'outputJSONlocation': outputJSONlocation, 'evalparam': evaluation_parameters}"
   ]
  },
  {
   "cell_type": "code",
   "execution_count": 8,
   "metadata": {},
   "outputs": [],
   "source": [
    "metadataFN = '/Users/anish/Documents/Connectome/SynapseAnalysis/data/M247514_Rorb_1/Site3Align2/site3_metadata.json'"
   ]
  },
  {
   "cell_type": "code",
   "execution_count": 9,
   "metadata": {},
   "outputs": [],
   "source": [
    "with open(metadataFN, 'w') as outfile:\n",
    "    json.dump(metadata, outfile)"
   ]
  },
  {
   "cell_type": "code",
   "execution_count": 10,
   "metadata": {},
   "outputs": [],
   "source": [
    "data = json.load(open(metadataFN))"
   ]
  },
  {
   "cell_type": "code",
   "execution_count": 11,
   "metadata": {},
   "outputs": [
    {
     "data": {
      "text/plain": [
       "{'datalocation': '/Users/anish/Documents/Connectome/Synaptome-Duke/data/collman17/Site3Align2Stacks/',\n",
       " 'evalparam': {'EM_annotation_json': 'json_annotations/m247514_Site3Annotation_MN_global_v2.json',\n",
       "  'EM_inclass_column': 'glutsynapse',\n",
       "  'EM_metadata_csv': 'MNSite3Synaptograms_v2.csv',\n",
       "  'EM_not_synapse_column': 'ConsensusNotSynapse',\n",
       "  'LM_annotation_json': 'results/resultVol7.json',\n",
       "  'LM_metadata_file': 'site3_metadata.json',\n",
       "  'output_json': 'results/Anish_evaluation_output.json'},\n",
       " 'offset': {'colOffset_nm': 0, 'rowOffset_nm': 0, 'zOffset_nm': 0},\n",
       " 'outputJSONlocation': '/Users/anish/Documents/Connectome/SynapseAnalysis/data/M247514_Rorb_1/Site3Align2/results/',\n",
       " 'querylocation': '/Users/anish/Documents/Connectome/SynapseAnalysis/data/M247514_Rorb_1/Site3Align2/site3_queries.json',\n",
       " 'render_args': {'client_scripts': '/home/anish/Connectome/render/render-ws-java-client/src/main/scripts',\n",
       "  'host': 'http://152.3.214.113',\n",
       "  'owner': 'Anish',\n",
       "  'port': 8080,\n",
       "  'project': 'M247514_Rorb_1'},\n",
       " 'resolution': {'res_xy_nm': 100, 'res_z_nm': 50},\n",
       " 'thresh': 0.7}"
      ]
     },
     "execution_count": 11,
     "metadata": {},
     "output_type": "execute_result"
    }
   ],
   "source": [
    "data"
   ]
  },
  {
   "cell_type": "code",
   "execution_count": null,
   "metadata": {},
   "outputs": [],
   "source": []
  },
  {
   "cell_type": "code",
   "execution_count": null,
   "metadata": {},
   "outputs": [],
   "source": []
  },
  {
   "cell_type": "code",
   "execution_count": null,
   "metadata": {},
   "outputs": [],
   "source": []
  },
  {
   "cell_type": "code",
   "execution_count": null,
   "metadata": {},
   "outputs": [],
   "source": []
  }
 ],
 "metadata": {
  "kernelspec": {
   "display_name": "Python [default]",
   "language": "python",
   "name": "python3"
  },
  "language_info": {
   "codemirror_mode": {
    "name": "ipython",
    "version": 3
   },
   "file_extension": ".py",
   "mimetype": "text/x-python",
   "name": "python",
   "nbconvert_exporter": "python",
   "pygments_lexer": "ipython3",
   "version": "3.5.4"
  }
 },
 "nbformat": 4,
 "nbformat_minor": 1
}
