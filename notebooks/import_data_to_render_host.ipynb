{
 "cells": [
  {
   "cell_type": "code",
   "execution_count": null,
   "metadata": {
    "collapsed": false,
    "deletable": true,
    "editable": true
   },
   "outputs": [],
   "source": [
    "import os\n",
    "import logging\n",
    "logger = logging.getLogger()\n",
    "logger.setLevel(logging.DEBUG)"
   ]
  },
  {
   "cell_type": "code",
   "execution_count": null,
   "metadata": {
    "collapsed": false,
    "deletable": true,
    "editable": true
   },
   "outputs": [],
   "source": [
    "#from renderapps.module.render_module import RenderModule\n",
    "from renderapps.module.render_module import RenderModule\n",
    "import renderapi"
   ]
  },
  {
   "cell_type": "code",
   "execution_count": null,
   "metadata": {
    "collapsed": false,
    "deletable": true,
    "editable": true
   },
   "outputs": [],
   "source": [
    "input_dir = '/home/anish/Connectome/DataImport/DataIn' \n",
    "#/Users/anish/Documents/Connectome/DataImport/DataIn/'\n",
    "\n",
    "projects = os.listdir(input_dir)\n",
    "projects = [f for f in projects if os.path.isdir(os.path.join(input_dir,f))]\n",
    "print projects\n",
    "\n",
    "for project in projects:\n",
    "    args={\n",
    "        'render':{\n",
    "        'host':'localhost',\n",
    "        'port':8080,\n",
    "        'owner':'Anish',\n",
    "        'project':project,\n",
    "        'client_scripts':'/home/anish/Connectome/render/render-ws-java-client/src/main/scripts'\n",
    "    },\n",
    "    'log_level':'DEBUG'}\n",
    "    mod = RenderModule(input_data = args,args=[])\n",
    "    \n",
    "    renderapi.utils.stripLogger(mod.logger)\n",
    "    import sys\n",
    "    logging.basicConfig(stream=sys.stderr)\n",
    "    project_path  = os.path.join(input_dir,project)\n",
    "    print project_path\n",
    "    stacks = [f for f in os.listdir(project_path) if os.path.isdir(os.path.join(project_path,f))]\n",
    "    print stacks\n",
    "    for stack in stacks:\n",
    "        mod.render.run(renderapi.stack.create_stack,stack)\n",
    "        stack_dir = os.path.join(project_path,stack)\n",
    "        json_files = [os.path.join(stack_dir,f) for f in os.listdir(stack_dir) if f.endswith('.json')]\n",
    "        print json_files\n",
    "        renderapi.client.import_jsonfiles_parallel(stack,json_files,render=mod.render)\n",
    "        mod.logger.debug('testing')\n",
    "        #r.run(renderapi.stack.set_stack_state,stack,'COMPLETE')\n",
    "        \n",
    "        "
   ]
  },
  {
   "cell_type": "code",
   "execution_count": null,
   "metadata": {
    "collapsed": false,
    "deletable": true,
    "editable": true
   },
   "outputs": [],
   "source": [
    "mod.logger.error('hi')"
   ]
  },
  {
   "cell_type": "code",
   "execution_count": null,
   "metadata": {
    "collapsed": false,
    "deletable": true,
    "editable": true
   },
   "outputs": [],
   "source": [
    "mod.render.client_script"
   ]
  },
  {
   "cell_type": "code",
   "execution_count": null,
   "metadata": {
    "collapsed": false,
    "deletable": true,
    "editable": true
   },
   "outputs": [],
   "source": [
    "    args={\n",
    "        'render':{\n",
    "        'host':'localhost',\n",
    "        'port':8080,\n",
    "        'owner':'Anish',\n",
    "        'project':'M247514_Rorb_1',\n",
    "        'client_scripts':'/home/anish/Connectome/render/render-ws-java-client/src/main/scripts'\n",
    "    },\n",
    "    'log_level':'DEBUG'}\n",
    "    mod = RenderModule(input_data = args,args=[])\n",
    "    stacks = mod.render.run(renderapi.render.get_stacks_by_owner_project)"
   ]
  },
  {
   "cell_type": "code",
   "execution_count": null,
   "metadata": {
    "collapsed": false,
    "deletable": true,
    "editable": true
   },
   "outputs": [],
   "source": [
    "stacks"
   ]
  },
  {
   "cell_type": "code",
   "execution_count": null,
   "metadata": {
    "collapsed": false,
    "deletable": true,
    "editable": true
   },
   "outputs": [],
   "source": [
    "stacks[-2]"
   ]
  },
  {
   "cell_type": "code",
   "execution_count": null,
   "metadata": {
    "collapsed": false,
    "deletable": true,
    "editable": true
   },
   "outputs": [],
   "source": [
    "img=renderapi.image.get_bb_image(stacks[-2],46,208881,-10635,15000,15000,scale=0.03,render=mod.render)"
   ]
  },
  {
   "cell_type": "code",
   "execution_count": null,
   "metadata": {
    "collapsed": false,
    "deletable": true,
    "editable": true
   },
   "outputs": [],
   "source": [
    "%matplotlib notebook"
   ]
  },
  {
   "cell_type": "code",
   "execution_count": null,
   "metadata": {
    "collapsed": false,
    "deletable": true,
    "editable": true
   },
   "outputs": [],
   "source": [
    "import matplotlib.pyplot as plt\n",
    "import sys"
   ]
  },
  {
   "cell_type": "code",
   "execution_count": null,
   "metadata": {
    "collapsed": false,
    "deletable": true,
    "editable": true
   },
   "outputs": [],
   "source": [
    "sys.getsizeof(img)"
   ]
  },
  {
   "cell_type": "code",
   "execution_count": null,
   "metadata": {
    "collapsed": false,
    "deletable": true,
    "editable": true
   },
   "outputs": [],
   "source": [
    "%matplotlib notebook\n",
    "plt.imshow(img)\n"
   ]
  },
  {
   "cell_type": "code",
   "execution_count": null,
   "metadata": {
    "collapsed": false,
    "deletable": true,
    "editable": true
   },
   "outputs": [],
   "source": [
    "from PIL import Image\n",
    "im = Image.fromarray(img)\n",
    "im.save('test.png')"
   ]
  },
  {
   "cell_type": "code",
   "execution_count": null,
   "metadata": {
    "collapsed": true,
    "deletable": true,
    "editable": true
   },
   "outputs": [],
   "source": []
  }
 ],
 "metadata": {
  "kernelspec": {
   "display_name": "Python 2",
   "language": "python",
   "name": "python2"
  },
  "language_info": {
   "codemirror_mode": {
    "name": "ipython",
    "version": 2
   },
   "file_extension": ".py",
   "mimetype": "text/x-python",
   "name": "python",
   "nbconvert_exporter": "python",
   "pygments_lexer": "ipython2",
   "version": "2.7.11"
  }
 },
 "nbformat": 4,
 "nbformat_minor": 0
}
