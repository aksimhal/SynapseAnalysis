{
 "cells": [
  {
   "cell_type": "code",
   "execution_count": null,
   "metadata": {},
   "outputs": [],
   "source": [
    "\"\"\"\n",
    "This notebook creates a json query file \n",
    "\"\"\""
   ]
  },
  {
   "cell_type": "code",
   "execution_count": null,
   "metadata": {},
   "outputs": [],
   "source": [
    "import os\n",
    "import sys\n",
    "module_path = os.path.abspath(os.path.join('..'))\n",
    "module_path = module_path + '/code/'\n",
    "if module_path not in sys.path:\n",
    "    sys.path.append(module_path)"
   ]
  },
  {
   "cell_type": "code",
   "execution_count": null,
   "metadata": {},
   "outputs": [],
   "source": [
    "import json \n",
    "from at_synapse_detection import dataAccess as da\n",
    "from at_synapse_detection import SynapseDetection as syn"
   ]
  },
  {
   "cell_type": "code",
   "execution_count": null,
   "metadata": {},
   "outputs": [],
   "source": [
    "listOfQueries = []"
   ]
  },
  {
   "cell_type": "code",
   "execution_count": null,
   "metadata": {},
   "outputs": [],
   "source": [
    "# SINGLE CHANNEL QUERY"
   ]
  },
  {
   "cell_type": "code",
   "execution_count": null,
   "metadata": {},
   "outputs": [],
   "source": [
    "# QUERY 1\n",
    "preIF = []\n",
    "preIF_z = []\n",
    "\n",
    "postIF = ['PSD95']\n",
    "postIF_z = [1]\n",
    "\n",
    "query = {'preIF': preIF, 'preIF_z': preIF_z, 'postIF': postIF, 'postIF_z': postIF_z}\n",
    "listOfQueries.append(query)"
   ]
  },
  {
   "cell_type": "code",
   "execution_count": null,
   "metadata": {},
   "outputs": [],
   "source": [
    "# PSD SYNAPSIN"
   ]
  },
  {
   "cell_type": "code",
   "execution_count": null,
   "metadata": {},
   "outputs": [],
   "source": [
    "# QUERY 2\n",
    "preIF = ['synapsin']\n",
    "preIF_z = [1]\n",
    "\n",
    "postIF = ['PSD95']\n",
    "postIF_z = [1]\n",
    "\n",
    "query = {'preIF': preIF, 'preIF_z': preIF_z, 'postIF': postIF, 'postIF_z': postIF_z}\n",
    "listOfQueries.append(query)"
   ]
  },
  {
   "cell_type": "code",
   "execution_count": null,
   "metadata": {},
   "outputs": [],
   "source": [
    "# QUERY 3\n",
    "preIF = ['synapsin']\n",
    "preIF_z = [2]\n",
    "\n",
    "postIF = ['PSD95']\n",
    "postIF_z = [1]\n",
    "\n",
    "query = {'preIF': preIF, 'preIF_z': preIF_z, 'postIF': postIF, 'postIF_z': postIF_z}\n",
    "listOfQueries.append(query)"
   ]
  },
  {
   "cell_type": "code",
   "execution_count": null,
   "metadata": {},
   "outputs": [],
   "source": [
    "# QUERY 4\n",
    "preIF = ['synapsin']\n",
    "preIF_z = [1]\n",
    "\n",
    "postIF = ['PSD95']\n",
    "postIF_z = [2]\n",
    "\n",
    "query = {'preIF': preIF, 'preIF_z': preIF_z, 'postIF': postIF, 'postIF_z': postIF_z}\n",
    "listOfQueries.append(query)"
   ]
  },
  {
   "cell_type": "code",
   "execution_count": null,
   "metadata": {},
   "outputs": [],
   "source": [
    "# QUERY 5\n",
    "preIF = ['synapsin']\n",
    "preIF_z = [2]\n",
    "\n",
    "postIF = ['PSD95']\n",
    "postIF_z = [2]\n",
    "\n",
    "query = {'preIF': preIF, 'preIF_z': preIF_z, 'postIF': postIF, 'postIF_z': postIF_z}\n",
    "listOfQueries.append(query)"
   ]
  },
  {
   "cell_type": "code",
   "execution_count": null,
   "metadata": {},
   "outputs": [],
   "source": [
    "# QUERY 6\n",
    "preIF = ['synapsin']\n",
    "preIF_z = [3]\n",
    "\n",
    "postIF = ['PSD95']\n",
    "postIF_z = [1]\n",
    "\n",
    "query = {'preIF': preIF, 'preIF_z': preIF_z, 'postIF': postIF, 'postIF_z': postIF_z}\n",
    "listOfQueries.append(query)"
   ]
  },
  {
   "cell_type": "code",
   "execution_count": null,
   "metadata": {},
   "outputs": [],
   "source": [
    "# QUERY 7\n",
    "preIF = ['synapsin']\n",
    "preIF_z = [1]\n",
    "\n",
    "postIF = ['PSD95']\n",
    "postIF_z = [3]\n",
    "\n",
    "query = {'preIF': preIF, 'preIF_z': preIF_z, 'postIF': postIF, 'postIF_z': postIF_z}\n",
    "listOfQueries.append(query)"
   ]
  },
  {
   "cell_type": "code",
   "execution_count": null,
   "metadata": {},
   "outputs": [],
   "source": [
    "# QUERY 8\n",
    "preIF = ['synapsin']\n",
    "preIF_z = [2]\n",
    "\n",
    "postIF = ['PSD95']\n",
    "postIF_z = [3]\n",
    "\n",
    "query = {'preIF': preIF, 'preIF_z': preIF_z, 'postIF': postIF, 'postIF_z': postIF_z}\n",
    "listOfQueries.append(query)"
   ]
  },
  {
   "cell_type": "code",
   "execution_count": null,
   "metadata": {},
   "outputs": [],
   "source": [
    "# QUERY 9\n",
    "preIF = ['synapsin']\n",
    "preIF_z = [3]\n",
    "\n",
    "postIF = ['PSD95']\n",
    "postIF_z = [2]\n",
    "\n",
    "query = {'preIF': preIF, 'preIF_z': preIF_z, 'postIF': postIF, 'postIF_z': postIF_z}\n",
    "listOfQueries.append(query)"
   ]
  },
  {
   "cell_type": "code",
   "execution_count": null,
   "metadata": {},
   "outputs": [],
   "source": [
    "# QUERY 10\n",
    "preIF = ['synapsin']\n",
    "preIF_z = [3]\n",
    "\n",
    "postIF = ['PSD95']\n",
    "postIF_z = [3]\n",
    "\n",
    "query = {'preIF': preIF, 'preIF_z': preIF_z, 'postIF': postIF, 'postIF_z': postIF_z}\n",
    "listOfQueries.append(query)"
   ]
  },
  {
   "cell_type": "code",
   "execution_count": null,
   "metadata": {},
   "outputs": [],
   "source": [
    "# PSD VGLUT1"
   ]
  },
  {
   "cell_type": "code",
   "execution_count": null,
   "metadata": {},
   "outputs": [],
   "source": [
    "# QUERY 11\n",
    "preIF = ['VGlut1' ]\n",
    "preIF_z = [1]\n",
    "\n",
    "postIF = ['PSD95']\n",
    "postIF_z = [1]\n",
    "\n",
    "query = {'preIF': preIF, 'preIF_z': preIF_z, 'postIF': postIF, 'postIF_z': postIF_z};\n",
    "listOfQueries.append(query)"
   ]
  },
  {
   "cell_type": "code",
   "execution_count": null,
   "metadata": {},
   "outputs": [],
   "source": [
    "# QUERY 12\n",
    "preIF = ['VGlut1' ]\n",
    "preIF_z = [1]\n",
    "\n",
    "postIF = ['PSD95']\n",
    "postIF_z = [2]\n",
    "\n",
    "query = {'preIF': preIF, 'preIF_z': preIF_z, 'postIF': postIF, 'postIF_z': postIF_z};\n",
    "listOfQueries.append(query)"
   ]
  },
  {
   "cell_type": "code",
   "execution_count": null,
   "metadata": {},
   "outputs": [],
   "source": [
    "# QUERY 13\n",
    "preIF = ['VGlut1' ]\n",
    "preIF_z = [2]\n",
    "\n",
    "postIF = ['PSD95']\n",
    "postIF_z = [1]\n",
    "\n",
    "query = {'preIF': preIF, 'preIF_z': preIF_z, 'postIF': postIF, 'postIF_z': postIF_z};\n",
    "listOfQueries.append(query)"
   ]
  },
  {
   "cell_type": "code",
   "execution_count": null,
   "metadata": {},
   "outputs": [],
   "source": [
    "# QUERY 14\n",
    "preIF = ['VGlut1' ]\n",
    "preIF_z = [2]\n",
    "\n",
    "postIF = ['PSD95']\n",
    "postIF_z = [2]\n",
    "\n",
    "query = {'preIF': preIF, 'preIF_z': preIF_z, 'postIF': postIF, 'postIF_z': postIF_z};\n",
    "listOfQueries.append(query)"
   ]
  },
  {
   "cell_type": "code",
   "execution_count": null,
   "metadata": {},
   "outputs": [],
   "source": [
    "# QUERY 15\n",
    "preIF = ['VGlut1' ]\n",
    "preIF_z = [3]\n",
    "\n",
    "postIF = ['PSD95']\n",
    "postIF_z = [1]\n",
    "\n",
    "query = {'preIF': preIF, 'preIF_z': preIF_z, 'postIF': postIF, 'postIF_z': postIF_z};\n",
    "listOfQueries.append(query)"
   ]
  },
  {
   "cell_type": "code",
   "execution_count": null,
   "metadata": {},
   "outputs": [],
   "source": [
    "# QUERY 16\n",
    "preIF = ['VGlut1' ]\n",
    "preIF_z = [1]\n",
    "\n",
    "postIF = ['PSD95']\n",
    "postIF_z = [3]\n",
    "\n",
    "query = {'preIF': preIF, 'preIF_z': preIF_z, 'postIF': postIF, 'postIF_z': postIF_z};\n",
    "listOfQueries.append(query)"
   ]
  },
  {
   "cell_type": "code",
   "execution_count": null,
   "metadata": {},
   "outputs": [],
   "source": [
    "# QUERY 17\n",
    "preIF = ['VGlut1' ]\n",
    "preIF_z = [2]\n",
    "\n",
    "postIF = ['PSD95']\n",
    "postIF_z = [3]\n",
    "\n",
    "query = {'preIF': preIF, 'preIF_z': preIF_z, 'postIF': postIF, 'postIF_z': postIF_z};\n",
    "listOfQueries.append(query)"
   ]
  },
  {
   "cell_type": "code",
   "execution_count": null,
   "metadata": {},
   "outputs": [],
   "source": [
    "# QUERY 18\n",
    "preIF = ['VGlut1' ]\n",
    "preIF_z = [3]\n",
    "\n",
    "postIF = ['PSD95']\n",
    "postIF_z = [2]\n",
    "\n",
    "query = {'preIF': preIF, 'preIF_z': preIF_z, 'postIF': postIF, 'postIF_z': postIF_z};\n",
    "listOfQueries.append(query)"
   ]
  },
  {
   "cell_type": "code",
   "execution_count": null,
   "metadata": {},
   "outputs": [],
   "source": [
    "# QUERY 19\n",
    "preIF = ['VGlut1' ]\n",
    "preIF_z = [3]\n",
    "\n",
    "postIF = ['PSD95']\n",
    "postIF_z = [3]\n",
    "\n",
    "query = {'preIF': preIF, 'preIF_z': preIF_z, 'postIF': postIF, 'postIF_z': postIF_z};\n",
    "listOfQueries.append(query)"
   ]
  },
  {
   "cell_type": "code",
   "execution_count": null,
   "metadata": {},
   "outputs": [],
   "source": [
    "# 3 channel"
   ]
  },
  {
   "cell_type": "code",
   "execution_count": null,
   "metadata": {},
   "outputs": [],
   "source": [
    "# QUERY 20\n",
    "preIF = ['synapsin', 'VGlut1' ]\n",
    "preIF_z = [1, 1]\n",
    "\n",
    "postIF = ['PSD95']\n",
    "postIF_z = [1]\n",
    "\n",
    "query = {'preIF': preIF, 'preIF_z': preIF_z, 'postIF': postIF, 'postIF_z': postIF_z};\n",
    "listOfQueries.append(query)"
   ]
  },
  {
   "cell_type": "code",
   "execution_count": null,
   "metadata": {},
   "outputs": [],
   "source": [
    "data = {'listOfQueries': listOfQueries}"
   ]
  },
  {
   "cell_type": "code",
   "execution_count": null,
   "metadata": {},
   "outputs": [],
   "source": [
    "da.writeJSONFile('/Users/anish/Documents/Connectome/SynapseAnalysis/data/M247514_Rorb_1/Site3Align2/site3_queries.json', data)"
   ]
  },
  {
   "cell_type": "code",
   "execution_count": null,
   "metadata": {},
   "outputs": [],
   "source": [
    "querylist = syn.loadQueriesJSON('/Users/anish/Documents/Connectome/SynapseAnalysis/data/M247514_Rorb_1/Site3Align2/site3_queries.json')"
   ]
  },
  {
   "cell_type": "code",
   "execution_count": null,
   "metadata": {},
   "outputs": [],
   "source": [
    "len(querylist)"
   ]
  },
  {
   "cell_type": "code",
   "execution_count": null,
   "metadata": {},
   "outputs": [],
   "source": [
    "query"
   ]
  },
  {
   "cell_type": "code",
   "execution_count": null,
   "metadata": {},
   "outputs": [],
   "source": [
    "print(query)"
   ]
  },
  {
   "cell_type": "code",
   "execution_count": null,
   "metadata": {},
   "outputs": [],
   "source": [
    "foo = json.dumps(query)\n",
    "print(foo)"
   ]
  },
  {
   "cell_type": "code",
   "execution_count": null,
   "metadata": {},
   "outputs": [],
   "source": []
  }
 ],
 "metadata": {
  "kernelspec": {
   "display_name": "Python [default]",
   "language": "python",
   "name": "python3"
  },
  "language_info": {
   "codemirror_mode": {
    "name": "ipython",
    "version": 3
   },
   "file_extension": ".py",
   "mimetype": "text/x-python",
   "name": "python",
   "nbconvert_exporter": "python",
   "pygments_lexer": "ipython3",
   "version": "3.5.4"
  }
 },
 "nbformat": 4,
 "nbformat_minor": 1
}
