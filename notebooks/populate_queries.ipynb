{
 "cells": [
  {
   "cell_type": "code",
   "execution_count": 1,
   "metadata": {},
   "outputs": [
    {
     "data": {
      "text/plain": [
       "'\\nThis notebook creates a json query file \\n'"
      ]
     },
     "execution_count": 1,
     "metadata": {},
     "output_type": "execute_result"
    }
   ],
   "source": [
    "\"\"\"\n",
    "This notebook creates a json query file \n",
    "\"\"\""
   ]
  },
  {
   "cell_type": "code",
   "execution_count": 2,
   "metadata": {
    "collapsed": true
   },
   "outputs": [],
   "source": [
    "import os\n",
    "import sys\n",
    "module_path = os.path.abspath(os.path.join('..'))\n",
    "module_path = module_path + '/code/'\n",
    "if module_path not in sys.path:\n",
    "    sys.path.append(module_path)"
   ]
  },
  {
   "cell_type": "code",
   "execution_count": 3,
   "metadata": {
    "collapsed": true
   },
   "outputs": [],
   "source": [
    "import json \n",
    "from at_synapse_detection import dataAccess as da\n",
    "from at_synapse_detection import SynapseDetection as syn"
   ]
  },
  {
   "cell_type": "code",
   "execution_count": 4,
   "metadata": {
    "collapsed": true
   },
   "outputs": [],
   "source": [
    "listOfQueries = []"
   ]
  },
  {
   "cell_type": "code",
   "execution_count": 5,
   "metadata": {
    "collapsed": true
   },
   "outputs": [],
   "source": [
    "# SINGLE CHANNEL QUERY"
   ]
  },
  {
   "cell_type": "code",
   "execution_count": 6,
   "metadata": {
    "collapsed": true
   },
   "outputs": [],
   "source": [
    "# QUERY 1\n",
    "preIF = []\n",
    "preIF_z = []\n",
    "\n",
    "postIF = ['PSD95']\n",
    "postIF_z = [1]\n",
    "\n",
    "query = {'preIF': preIF, 'preIF_z': preIF_z, 'postIF': postIF, 'postIF_z': postIF_z}\n",
    "listOfQueries.append(query)"
   ]
  },
  {
   "cell_type": "code",
   "execution_count": 7,
   "metadata": {
    "collapsed": true
   },
   "outputs": [],
   "source": [
    "# PSD SYNAPSIN"
   ]
  },
  {
   "cell_type": "code",
   "execution_count": 8,
   "metadata": {
    "collapsed": true
   },
   "outputs": [],
   "source": [
    "# QUERY 2\n",
    "preIF = ['synapsin']\n",
    "preIF_z = [1]\n",
    "\n",
    "postIF = ['PSD95']\n",
    "postIF_z = [1]\n",
    "\n",
    "query = {'preIF': preIF, 'preIF_z': preIF_z, 'postIF': postIF, 'postIF_z': postIF_z}\n",
    "listOfQueries.append(query)"
   ]
  },
  {
   "cell_type": "code",
   "execution_count": 9,
   "metadata": {
    "collapsed": true
   },
   "outputs": [],
   "source": [
    "# QUERY 3\n",
    "preIF = ['synapsin']\n",
    "preIF_z = [2]\n",
    "\n",
    "postIF = ['PSD95']\n",
    "postIF_z = [1]\n",
    "\n",
    "query = {'preIF': preIF, 'preIF_z': preIF_z, 'postIF': postIF, 'postIF_z': postIF_z}\n",
    "listOfQueries.append(query)"
   ]
  },
  {
   "cell_type": "code",
   "execution_count": 10,
   "metadata": {
    "collapsed": true
   },
   "outputs": [],
   "source": [
    "# QUERY 4\n",
    "preIF = ['synapsin']\n",
    "preIF_z = [1]\n",
    "\n",
    "postIF = ['PSD95']\n",
    "postIF_z = [2]\n",
    "\n",
    "query = {'preIF': preIF, 'preIF_z': preIF_z, 'postIF': postIF, 'postIF_z': postIF_z}\n",
    "listOfQueries.append(query)"
   ]
  },
  {
   "cell_type": "code",
   "execution_count": 11,
   "metadata": {
    "collapsed": true
   },
   "outputs": [],
   "source": [
    "# QUERY 5\n",
    "preIF = ['synapsin']\n",
    "preIF_z = [2]\n",
    "\n",
    "postIF = ['PSD95']\n",
    "postIF_z = [2]\n",
    "\n",
    "query = {'preIF': preIF, 'preIF_z': preIF_z, 'postIF': postIF, 'postIF_z': postIF_z}\n",
    "listOfQueries.append(query)"
   ]
  },
  {
   "cell_type": "code",
   "execution_count": 12,
   "metadata": {
    "collapsed": true
   },
   "outputs": [],
   "source": [
    "# QUERY 6\n",
    "preIF = ['synapsin']\n",
    "preIF_z = [3]\n",
    "\n",
    "postIF = ['PSD95']\n",
    "postIF_z = [1]\n",
    "\n",
    "query = {'preIF': preIF, 'preIF_z': preIF_z, 'postIF': postIF, 'postIF_z': postIF_z}\n",
    "listOfQueries.append(query)"
   ]
  },
  {
   "cell_type": "code",
   "execution_count": 13,
   "metadata": {
    "collapsed": true
   },
   "outputs": [],
   "source": [
    "# QUERY 7\n",
    "preIF = ['synapsin']\n",
    "preIF_z = [1]\n",
    "\n",
    "postIF = ['PSD95']\n",
    "postIF_z = [3]\n",
    "\n",
    "query = {'preIF': preIF, 'preIF_z': preIF_z, 'postIF': postIF, 'postIF_z': postIF_z}\n",
    "listOfQueries.append(query)"
   ]
  },
  {
   "cell_type": "code",
   "execution_count": 14,
   "metadata": {
    "collapsed": true
   },
   "outputs": [],
   "source": [
    "# QUERY 8\n",
    "preIF = ['synapsin']\n",
    "preIF_z = [2]\n",
    "\n",
    "postIF = ['PSD95']\n",
    "postIF_z = [3]\n",
    "\n",
    "query = {'preIF': preIF, 'preIF_z': preIF_z, 'postIF': postIF, 'postIF_z': postIF_z}\n",
    "listOfQueries.append(query)"
   ]
  },
  {
   "cell_type": "code",
   "execution_count": 15,
   "metadata": {
    "collapsed": true
   },
   "outputs": [],
   "source": [
    "# QUERY 9\n",
    "preIF = ['synapsin']\n",
    "preIF_z = [3]\n",
    "\n",
    "postIF = ['PSD95']\n",
    "postIF_z = [2]\n",
    "\n",
    "query = {'preIF': preIF, 'preIF_z': preIF_z, 'postIF': postIF, 'postIF_z': postIF_z}\n",
    "listOfQueries.append(query)"
   ]
  },
  {
   "cell_type": "code",
   "execution_count": 16,
   "metadata": {
    "collapsed": true
   },
   "outputs": [],
   "source": [
    "# QUERY 10\n",
    "preIF = ['synapsin']\n",
    "preIF_z = [3]\n",
    "\n",
    "postIF = ['PSD95']\n",
    "postIF_z = [3]\n",
    "\n",
    "query = {'preIF': preIF, 'preIF_z': preIF_z, 'postIF': postIF, 'postIF_z': postIF_z}\n",
    "listOfQueries.append(query)"
   ]
  },
  {
   "cell_type": "code",
   "execution_count": 17,
   "metadata": {
    "collapsed": true
   },
   "outputs": [],
   "source": [
    "# PSD VGLUT1"
   ]
  },
  {
   "cell_type": "code",
   "execution_count": 18,
   "metadata": {
    "collapsed": true
   },
   "outputs": [],
   "source": [
    "# QUERY 11\n",
    "preIF = ['VGlut1' ]\n",
    "preIF_z = [1]\n",
    "\n",
    "postIF = ['PSD95']\n",
    "postIF_z = [1]\n",
    "\n",
    "query = {'preIF': preIF, 'preIF_z': preIF_z, 'postIF': postIF, 'postIF_z': postIF_z};\n",
    "listOfQueries.append(query)"
   ]
  },
  {
   "cell_type": "code",
   "execution_count": 19,
   "metadata": {
    "collapsed": true
   },
   "outputs": [],
   "source": [
    "# QUERY 12\n",
    "preIF = ['VGlut1' ]\n",
    "preIF_z = [1]\n",
    "\n",
    "postIF = ['PSD95']\n",
    "postIF_z = [2]\n",
    "\n",
    "query = {'preIF': preIF, 'preIF_z': preIF_z, 'postIF': postIF, 'postIF_z': postIF_z};\n",
    "listOfQueries.append(query)"
   ]
  },
  {
   "cell_type": "code",
   "execution_count": 20,
   "metadata": {
    "collapsed": true
   },
   "outputs": [],
   "source": [
    "# QUERY 13\n",
    "preIF = ['VGlut1' ]\n",
    "preIF_z = [2]\n",
    "\n",
    "postIF = ['PSD95']\n",
    "postIF_z = [1]\n",
    "\n",
    "query = {'preIF': preIF, 'preIF_z': preIF_z, 'postIF': postIF, 'postIF_z': postIF_z};\n",
    "listOfQueries.append(query)"
   ]
  },
  {
   "cell_type": "code",
   "execution_count": 21,
   "metadata": {
    "collapsed": true
   },
   "outputs": [],
   "source": [
    "# QUERY 14\n",
    "preIF = ['VGlut1' ]\n",
    "preIF_z = [2]\n",
    "\n",
    "postIF = ['PSD95']\n",
    "postIF_z = [2]\n",
    "\n",
    "query = {'preIF': preIF, 'preIF_z': preIF_z, 'postIF': postIF, 'postIF_z': postIF_z};\n",
    "listOfQueries.append(query)"
   ]
  },
  {
   "cell_type": "code",
   "execution_count": 22,
   "metadata": {
    "collapsed": true
   },
   "outputs": [],
   "source": [
    "# QUERY 15\n",
    "preIF = ['VGlut1' ]\n",
    "preIF_z = [3]\n",
    "\n",
    "postIF = ['PSD95']\n",
    "postIF_z = [1]\n",
    "\n",
    "query = {'preIF': preIF, 'preIF_z': preIF_z, 'postIF': postIF, 'postIF_z': postIF_z};\n",
    "listOfQueries.append(query)"
   ]
  },
  {
   "cell_type": "code",
   "execution_count": 23,
   "metadata": {
    "collapsed": true
   },
   "outputs": [],
   "source": [
    "# QUERY 16\n",
    "preIF = ['VGlut1' ]\n",
    "preIF_z = [1]\n",
    "\n",
    "postIF = ['PSD95']\n",
    "postIF_z = [3]\n",
    "\n",
    "query = {'preIF': preIF, 'preIF_z': preIF_z, 'postIF': postIF, 'postIF_z': postIF_z};\n",
    "listOfQueries.append(query)"
   ]
  },
  {
   "cell_type": "code",
   "execution_count": 24,
   "metadata": {
    "collapsed": true
   },
   "outputs": [],
   "source": [
    "# QUERY 17\n",
    "preIF = ['VGlut1' ]\n",
    "preIF_z = [2]\n",
    "\n",
    "postIF = ['PSD95']\n",
    "postIF_z = [3]\n",
    "\n",
    "query = {'preIF': preIF, 'preIF_z': preIF_z, 'postIF': postIF, 'postIF_z': postIF_z};\n",
    "listOfQueries.append(query)"
   ]
  },
  {
   "cell_type": "code",
   "execution_count": 25,
   "metadata": {
    "collapsed": true
   },
   "outputs": [],
   "source": [
    "# QUERY 18\n",
    "preIF = ['VGlut1' ]\n",
    "preIF_z = [3]\n",
    "\n",
    "postIF = ['PSD95']\n",
    "postIF_z = [2]\n",
    "\n",
    "query = {'preIF': preIF, 'preIF_z': preIF_z, 'postIF': postIF, 'postIF_z': postIF_z};\n",
    "listOfQueries.append(query)"
   ]
  },
  {
   "cell_type": "code",
   "execution_count": 26,
   "metadata": {
    "collapsed": true
   },
   "outputs": [],
   "source": [
    "# QUERY 19\n",
    "preIF = ['VGlut1' ]\n",
    "preIF_z = [3]\n",
    "\n",
    "postIF = ['PSD95']\n",
    "postIF_z = [3]\n",
    "\n",
    "query = {'preIF': preIF, 'preIF_z': preIF_z, 'postIF': postIF, 'postIF_z': postIF_z};\n",
    "listOfQueries.append(query)"
   ]
  },
  {
   "cell_type": "code",
   "execution_count": 27,
   "metadata": {
    "collapsed": true
   },
   "outputs": [],
   "source": [
    "# 3 channel"
   ]
  },
  {
   "cell_type": "code",
   "execution_count": 28,
   "metadata": {
    "collapsed": true
   },
   "outputs": [],
   "source": [
    "# QUERY 20\n",
    "preIF = ['synapsin', 'VGlut1']\n",
    "preIF_z = [1, 1]\n",
    "\n",
    "postIF = ['PSD95']\n",
    "postIF_z = [2]\n",
    "\n",
    "query = {'preIF': preIF, 'preIF_z': preIF_z, 'postIF': postIF, 'postIF_z': postIF_z};\n",
    "listOfQueries.append(query)"
   ]
  },
  {
   "cell_type": "code",
   "execution_count": 29,
   "metadata": {
    "collapsed": true
   },
   "outputs": [],
   "source": [
    "# QUERY 21\n",
    "preIF = ['VGlut1']\n",
    "preIF_z = [1]\n",
    "\n",
    "postIF = ['PSD95', 'GluN1']\n",
    "postIF_z = [2, 1]\n",
    "\n",
    "query = {'preIF': preIF, 'preIF_z': preIF_z, 'postIF': postIF, 'postIF_z': postIF_z};\n",
    "listOfQueries.append(query)"
   ]
  },
  {
   "cell_type": "code",
   "execution_count": 30,
   "metadata": {
    "collapsed": true
   },
   "outputs": [],
   "source": [
    "# QUERY 21\n",
    "preIF = ['synapsin']\n",
    "preIF_z = [1]\n",
    "\n",
    "postIF = ['PSD95', 'GluN1']\n",
    "postIF_z = [2, 1]\n",
    "\n",
    "query = {'preIF': preIF, 'preIF_z': preIF_z, 'postIF': postIF, 'postIF_z': postIF_z};\n",
    "listOfQueries.append(query)"
   ]
  },
  {
   "cell_type": "code",
   "execution_count": 31,
   "metadata": {
    "collapsed": true
   },
   "outputs": [],
   "source": [
    "# QUERY 22\n",
    "preIF = [ ]\n",
    "preIF_z = []\n",
    "\n",
    "postIF = ['PSD95', 'GluN1']\n",
    "postIF_z = [3, 1]\n",
    "\n",
    "query = {'preIF': preIF, 'preIF_z': preIF_z, 'postIF': postIF, 'postIF_z': postIF_z};\n",
    "listOfQueries.append(query)"
   ]
  },
  {
   "cell_type": "code",
   "execution_count": 32,
   "metadata": {
    "collapsed": true
   },
   "outputs": [],
   "source": [
    "# QUERY 23\n",
    "preIF = ['GABA']\n",
    "preIF_z = [3]\n",
    "\n",
    "postIF = ['Gephyrin']\n",
    "postIF_z = [3]\n",
    "\n",
    "query = {'preIF': preIF, 'preIF_z': preIF_z, 'postIF': postIF, 'postIF_z': postIF_z};\n",
    "listOfQueries.append(query)"
   ]
  },
  {
   "cell_type": "code",
   "execution_count": 33,
   "metadata": {
    "collapsed": true
   },
   "outputs": [],
   "source": [
    "# QUERY 24\n",
    "preIF = ['VGlut1']\n",
    "preIF_z = [3]\n",
    "\n",
    "postIF = ['GluN1']\n",
    "postIF_z = [3]\n",
    "\n",
    "query = {'preIF': preIF, 'preIF_z': preIF_z, 'postIF': postIF, 'postIF_z': postIF_z};\n",
    "listOfQueries.append(query)"
   ]
  },
  {
   "cell_type": "code",
   "execution_count": 34,
   "metadata": {
    "collapsed": true
   },
   "outputs": [],
   "source": [
    "# QUERY 25\n",
    "preIF = ['VGlut1']\n",
    "preIF_z = [2]\n",
    "\n",
    "postIF = ['GluN1']\n",
    "postIF_z = [2]\n",
    "\n",
    "query = {'preIF': preIF, 'preIF_z': preIF_z, 'postIF': postIF, 'postIF_z': postIF_z};\n",
    "listOfQueries.append(query)"
   ]
  },
  {
   "cell_type": "code",
   "execution_count": 35,
   "metadata": {
    "collapsed": true
   },
   "outputs": [],
   "source": [
    "# QUERY 26\n",
    "preIF = ['synapsin']\n",
    "preIF_z = [1]\n",
    "\n",
    "postIF = ['GluN1']\n",
    "postIF_z = [3]\n",
    "\n",
    "query = {'preIF': preIF, 'preIF_z': preIF_z, 'postIF': postIF, 'postIF_z': postIF_z};\n",
    "listOfQueries.append(query)"
   ]
  },
  {
   "cell_type": "code",
   "execution_count": 36,
   "metadata": {
    "collapsed": true
   },
   "outputs": [],
   "source": [
    "# QUERY 27\n",
    "preIF = ['synapsin', 'VGlut1']\n",
    "preIF_z = [1, 1]\n",
    "\n",
    "postIF = ['PSD95', 'GluN1']\n",
    "postIF_z = [1, 1]\n",
    "\n",
    "query = {'preIF': preIF, 'preIF_z': preIF_z, 'postIF': postIF, 'postIF_z': postIF_z};\n",
    "listOfQueries.append(query)"
   ]
  },
  {
   "cell_type": "code",
   "execution_count": 37,
   "metadata": {
    "collapsed": true
   },
   "outputs": [],
   "source": [
    "data = {'listOfQueries': listOfQueries}"
   ]
  },
  {
   "cell_type": "code",
   "execution_count": 38,
   "metadata": {
    "collapsed": true
   },
   "outputs": [],
   "source": [
    "da.writeJSONFile('/Users/anish/Documents/Connectome/SynapseAnalysis/data/M247514_Rorb_1/Site3Align2/site3_queries.json', data)"
   ]
  },
  {
   "cell_type": "code",
   "execution_count": 39,
   "metadata": {
    "collapsed": true
   },
   "outputs": [],
   "source": [
    "querylist = syn.loadQueriesJSON('/Users/anish/Documents/Connectome/SynapseAnalysis/data/M247514_Rorb_1/Site3Align2/site3_queries.json')"
   ]
  },
  {
   "cell_type": "code",
   "execution_count": 40,
   "metadata": {},
   "outputs": [
    {
     "data": {
      "text/plain": [
       "28"
      ]
     },
     "execution_count": 40,
     "metadata": {},
     "output_type": "execute_result"
    }
   ],
   "source": [
    "len(querylist)"
   ]
  },
  {
   "cell_type": "code",
   "execution_count": 41,
   "metadata": {},
   "outputs": [
    {
     "data": {
      "text/plain": [
       "{'postIF': ['PSD95', 'GluN1'],\n",
       " 'postIF_z': [1, 1],\n",
       " 'preIF': ['synapsin', 'VGlut1'],\n",
       " 'preIF_z': [1, 1]}"
      ]
     },
     "execution_count": 41,
     "metadata": {},
     "output_type": "execute_result"
    }
   ],
   "source": [
    "query"
   ]
  },
  {
   "cell_type": "code",
   "execution_count": 42,
   "metadata": {},
   "outputs": [
    {
     "name": "stdout",
     "output_type": "stream",
     "text": [
      "{'preIF': ['synapsin', 'VGlut1'], 'preIF_z': [1, 1], 'postIF': ['PSD95', 'GluN1'], 'postIF_z': [1, 1]}\n"
     ]
    }
   ],
   "source": [
    "print(query)"
   ]
  },
  {
   "cell_type": "code",
   "execution_count": 43,
   "metadata": {},
   "outputs": [
    {
     "name": "stdout",
     "output_type": "stream",
     "text": [
      "{\"preIF\": [\"synapsin\", \"VGlut1\"], \"preIF_z\": [1, 1], \"postIF\": [\"PSD95\", \"GluN1\"], \"postIF_z\": [1, 1]}\n"
     ]
    }
   ],
   "source": [
    "foo = json.dumps(query)\n",
    "print(foo)"
   ]
  },
  {
   "cell_type": "code",
   "execution_count": null,
   "metadata": {
    "collapsed": true
   },
   "outputs": [],
   "source": []
  }
 ],
 "metadata": {
  "kernelspec": {
   "display_name": "Python [default]",
   "language": "python",
   "name": "python3"
  },
  "language_info": {
   "codemirror_mode": {
    "name": "ipython",
    "version": 3
   },
   "file_extension": ".py",
   "mimetype": "text/x-python",
   "name": "python",
   "nbconvert_exporter": "python",
   "pygments_lexer": "ipython3",
   "version": "3.6.3"
  }
 },
 "nbformat": 4,
 "nbformat_minor": 1
}
