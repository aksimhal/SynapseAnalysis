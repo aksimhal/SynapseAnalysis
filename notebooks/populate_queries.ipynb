{
 "cells": [
  {
   "cell_type": "code",
   "execution_count": null,
   "metadata": {},
   "outputs": [],
   "source": [
    "\"\"\"\n",
    "This notebook creates a json query file \n",
    "\"\"\""
   ]
  },
  {
   "cell_type": "code",
   "execution_count": null,
   "metadata": {},
   "outputs": [],
   "source": [
    "import os\n",
    "import sys\n",
    "import json \n",
    "from at_synapse_detection import dataAccess as da\n",
    "from at_synapse_detection import SynapseDetection as syn"
   ]
  },
  {
   "cell_type": "code",
   "execution_count": null,
   "metadata": {},
   "outputs": [],
   "source": [
    "listOfQueries = []"
   ]
  },
  {
   "cell_type": "code",
   "execution_count": null,
   "metadata": {},
   "outputs": [],
   "source": [
    "# SINGLE CHANNEL QUERY"
   ]
  },
  {
   "cell_type": "code",
   "execution_count": null,
   "metadata": {},
   "outputs": [],
   "source": [
    "# QUERY 1\n",
    "\n",
    "thresh = 0.8\n",
    "\n",
    "preIF = ['synapsin']\n",
    "preIF_z = [1]\n",
    "\n",
    "postIF = ['PSD95']\n",
    "postIF_z = [2]\n",
    "\n",
    "query = {'preIF': preIF, 'preIF_z': preIF_z, 'postIF': postIF, 'postIF_z': postIF_z, 'thresh': thresh}\n",
    "listOfQueries.append(query)"
   ]
  },
  {
   "cell_type": "code",
   "execution_count": null,
   "metadata": {},
   "outputs": [],
   "source": [
    "# QUERY 2\n",
    "\n",
    "thresh = 0.7 \n",
    "\n",
    "preIF = ['synapsin']\n",
    "preIF_z = [2]\n",
    "\n",
    "postIF = ['PSD95']\n",
    "postIF_z = [2]\n",
    "\n",
    "query = {'preIF': preIF, 'preIF_z': preIF_z, 'postIF': postIF, 'postIF_z': postIF_z, 'thresh': thresh}\n",
    "listOfQueries.append(query)"
   ]
  },
  {
   "cell_type": "code",
   "execution_count": null,
   "metadata": {},
   "outputs": [],
   "source": [
    "# QUERY 3\n",
    "\n",
    "thresh = 0.7 \n",
    "\n",
    "preIF = ['synapsin']\n",
    "preIF_z = [1]\n",
    "\n",
    "postIF = ['PSD95']\n",
    "postIF_z = [3]\n",
    "\n",
    "query = {'preIF': preIF, 'preIF_z': preIF_z, 'postIF': postIF, 'postIF_z': postIF_z, 'thresh': thresh}\n",
    "listOfQueries.append(query)"
   ]
  },
  {
   "cell_type": "code",
   "execution_count": null,
   "metadata": {},
   "outputs": [],
   "source": [
    "# QUERY 4\n",
    "\n",
    "thresh = 0.8 \n",
    "\n",
    "preIF = ['VGlut1' ]\n",
    "preIF_z = [1]\n",
    "\n",
    "postIF = ['PSD95']\n",
    "postIF_z = [2]\n",
    "\n",
    "query = {'preIF': preIF, 'preIF_z': preIF_z, 'postIF': postIF, 'postIF_z': postIF_z, 'thresh': thresh};\n",
    "listOfQueries.append(query)"
   ]
  },
  {
   "cell_type": "code",
   "execution_count": null,
   "metadata": {},
   "outputs": [],
   "source": [
    "# QUERY 5\n",
    "\n",
    "thresh = 0.7\n",
    "preIF = ['VGlut1' ]\n",
    "preIF_z = [1]\n",
    "\n",
    "postIF = ['PSD95']\n",
    "postIF_z = [3]\n",
    "\n",
    "query = {'preIF': preIF, 'preIF_z': preIF_z, 'postIF': postIF, 'postIF_z': postIF_z, 'thresh': thresh};\n",
    "listOfQueries.append(query)"
   ]
  },
  {
   "cell_type": "code",
   "execution_count": null,
   "metadata": {},
   "outputs": [],
   "source": [
    "# QUERY 6\n",
    "\n",
    "thresh = 0.8\n",
    "preIF = ['synapsin', 'VGlut1']\n",
    "preIF_z = [1, 1]\n",
    "\n",
    "postIF = ['PSD95']\n",
    "postIF_z = [2]\n",
    "\n",
    "query = {'preIF': preIF, 'preIF_z': preIF_z, 'postIF': postIF, 'postIF_z': postIF_z, 'thresh': thresh};\n",
    "listOfQueries.append(query)"
   ]
  },
  {
   "cell_type": "code",
   "execution_count": null,
   "metadata": {},
   "outputs": [],
   "source": [
    "# QUERY 7\n",
    "\n",
    "thresh = 0.9\n",
    "preIF = ['VGlut1']\n",
    "preIF_z = [1]\n",
    "\n",
    "postIF = ['PSD95', 'GluN1']\n",
    "postIF_z = [2, 1]\n",
    "\n",
    "query = {'preIF': preIF, 'preIF_z': preIF_z, 'postIF': postIF, 'postIF_z': postIF_z, 'thresh': thresh};\n",
    "listOfQueries.append(query)"
   ]
  },
  {
   "cell_type": "code",
   "execution_count": null,
   "metadata": {},
   "outputs": [],
   "source": [
    "# QUERY 8\n",
    "thresh = 0.9\n",
    "preIF = ['synapsin']\n",
    "preIF_z = [1]\n",
    "\n",
    "postIF = ['PSD95', 'GluN1']\n",
    "postIF_z = [2, 1]\n",
    "\n",
    "query = {'preIF': preIF, 'preIF_z': preIF_z, 'postIF': postIF, 'postIF_z': postIF_z, 'thresh': thresh};\n",
    "listOfQueries.append(query)"
   ]
  },
  {
   "cell_type": "code",
   "execution_count": null,
   "metadata": {},
   "outputs": [],
   "source": [
    "data = {'listOfQueries': listOfQueries}"
   ]
  },
  {
   "cell_type": "code",
   "execution_count": null,
   "metadata": {},
   "outputs": [],
   "source": [
    "da.writeJSONFile('/Users/anish/Documents/Connectome/SynapseAnalysis/data/M247514_Rorb_1/Site3Align2/site3_queries.json', data)"
   ]
  },
  {
   "cell_type": "code",
   "execution_count": null,
   "metadata": {},
   "outputs": [],
   "source": [
    "querylist = syn.loadQueriesJSON('/Users/anish/Documents/Connectome/SynapseAnalysis/data/M247514_Rorb_1/Site3Align2/site3_queries.json')"
   ]
  },
  {
   "cell_type": "code",
   "execution_count": null,
   "metadata": {},
   "outputs": [],
   "source": [
    "len(querylist)"
   ]
  },
  {
   "cell_type": "code",
   "execution_count": null,
   "metadata": {},
   "outputs": [],
   "source": [
    "query"
   ]
  },
  {
   "cell_type": "code",
   "execution_count": null,
   "metadata": {},
   "outputs": [],
   "source": [
    "print(query)"
   ]
  },
  {
   "cell_type": "code",
   "execution_count": null,
   "metadata": {},
   "outputs": [],
   "source": [
    "foo = json.dumps(query)\n",
    "print(foo)"
   ]
  },
  {
   "cell_type": "code",
   "execution_count": null,
   "metadata": {},
   "outputs": [],
   "source": []
  }
 ],
 "metadata": {
  "kernelspec": {
   "display_name": "Python [default]",
   "language": "python",
   "name": "python3"
  },
  "language_info": {
   "codemirror_mode": {
    "name": "ipython",
    "version": 3
   },
   "file_extension": ".py",
   "mimetype": "text/x-python",
   "name": "python",
   "nbconvert_exporter": "python",
   "pygments_lexer": "ipython3",
   "version": "3.5.4"
  }
 },
 "nbformat": 4,
 "nbformat_minor": 1
}
