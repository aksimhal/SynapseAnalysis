{
 "cells": [
  {
   "cell_type": "code",
   "execution_count": null,
   "metadata": {},
   "outputs": [],
   "source": [
    "#imports\n",
    "import numpy as np\n",
    "from at_synapse_detection import processDetections as pd\n",
    "from at_synapse_detection import SynapseDetection as syn\n",
    "from at_synapse_detection import dataAccess as da\n",
    "from at_synapse_detection import synaptogram\n",
    "import importlib\n",
    "import matplotlib.pyplot as plt\n",
    "from skimage import measure\n",
    "import scipy.ndimage as ndimage\n",
    "from shapely import geometry\n",
    "import math"
   ]
  },
  {
   "cell_type": "code",
   "execution_count": null,
   "metadata": {},
   "outputs": [],
   "source": [
    "importlib.reload(pd)\n",
    "importlib.reload(syn)\n",
    "importlib.reload(da)"
   ]
  },
  {
   "cell_type": "code",
   "execution_count": null,
   "metadata": {},
   "outputs": [],
   "source": [
    "args = {\n",
    "    \"EM_annotation_json\":\"../data/M247514_Rorb_1/Site3Align2/json_annotations/m247514_Site3Annotation_MN_global_v2.json\",\n",
    "    \"LM_annotation_json\":\"../data/M247514_Rorb_1/Site3Align2/results/resultVol9.json\",\n",
    "    \"EM_metadata_csv\":\"../data/M247514_Rorb_1/Site3Align2/MNSite3Synaptograms_v2.csv\",\n",
    "    \"LM_metadata_file\":\"../data/M247514_Rorb_1/Site3Align2/site3_metadata.json\",\n",
    "    \"EM_inclass_column\":\"glutsynapse\",\n",
    "    \"EM_not_synapse_column\":\"ConsensusNotSynapse\",\n",
    "    \"output_json\":\"../data/M247514_Rorb_1/Site3Align2/results/Anish_evaluation_output.json\", \n",
    "    \"annotationToRemove\": \"../data/M247514_Rorb_1/Site3Align2/missedanno.json\"\n",
    "    }"
   ]
  },
  {
   "cell_type": "code",
   "execution_count": null,
   "metadata": {},
   "outputs": [],
   "source": [
    "metadataFN = '../data/M247514_Rorb_1/Site3Align2/site3_metadata.json'\n",
    "metadata = syn.loadMetadata(metadataFN)\n",
    "queryFN = metadata['querylocation']\n",
    "listOfQueries = syn.loadQueriesJSON(queryFN)"
   ]
  },
  {
   "cell_type": "code",
   "execution_count": null,
   "metadata": {},
   "outputs": [],
   "source": [
    "listOfQueryNumbers = [  0,   1,   2,   3,   4,   5,   6,   7]\n",
    "listOfThresholds   = [0.8, 0.7, 0.7, 0.8, 0.7, 0.7, 0.8, 0.8]\n",
    "queryresult = pd.combineResultVolumes(listOfQueryNumbers, listOfThresholds, metadata, args)"
   ]
  },
  {
   "cell_type": "code",
   "execution_count": null,
   "metadata": {},
   "outputs": [],
   "source": [
    "good_annotations = queryresult['good_annotations']"
   ]
  },
  {
   "cell_type": "code",
   "execution_count": null,
   "metadata": {},
   "outputs": [],
   "source": [
    "anno = good_annotations[151]\n",
    "print(anno['oid'])\n",
    "win_xy = 12\n",
    "win_z = 2\n",
    "filepath = '/Users/anish/Documents/Connectome/Synaptome-Duke/data/collman17/Site3Align2Stacks/'\n",
    "query = listOfQueries[0]"
   ]
  },
  {
   "cell_type": "code",
   "execution_count": null,
   "metadata": {},
   "outputs": [],
   "source": [
    "thresh = 0.7\n"
   ]
  },
  {
   "cell_type": "code",
   "execution_count": null,
   "metadata": {},
   "outputs": [],
   "source": [
    "def checkQueryAgainstAnno(anno, query, thresh, win_xy, win_z, filepath): \n",
    "    \n",
    "    bbox = synaptogram.getAnnotationBoundingBox2(anno)\n",
    "    bbox = synaptogram.transformSynapseCoordinates(bbox)\n",
    "\n",
    "    expandedBox = synaptogram.expandBoundingBox(bbox, win_xy, win_z)\n",
    "    zrange = list(range(expandedBox['startZ'], expandedBox['endZ']+1))\n",
    "\n",
    "    synapticVolumes = loadSynapseDataFromQuery(query, anno, win_xy, win_z, filepath)\n",
    "    resultVol = syn.getSynapseDetections(synapticVolumes, query)\n",
    "\n",
    "    #print(thresh)\n",
    "    SE = np.ones((2, 2, 2))\n",
    "    dilated_volume = ndimage.binary_dilation(resultVol > thresh, SE) \n",
    "    \n",
    "    synapsevol = np.zeros(resultVol.shape)\n",
    "\n",
    "    synapseOutlinesDict = synaptogram.getAnnotationOutlines(anno)\n",
    "    synapseOutlinesDict = synaptogram.transformSynapseOutlinesDict(synapseOutlinesDict)\n",
    "    listOfZinds = synapseOutlinesDict['zInds']\n",
    "    listOfZinds = sorted(listOfZinds)\n",
    "    \n",
    "    startX = expandedBox['startX']\n",
    "    startY = expandedBox['startY']\n",
    "    minX = math.floor(bbox['minX'] - startX)\n",
    "    maxX = math.ceil(bbox['maxX'] - startX)\n",
    "    minY = math.floor(bbox['minY'] - startY)\n",
    "    maxY = math.ceil(bbox['maxY'] - startY)\n",
    "\n",
    "    offsetZ = 0 \n",
    "    for localZ, globalZ in enumerate(zrange): \n",
    "        if zrange[localZ] == listOfZinds[offsetZ]: \n",
    "            synapsevol[minY:maxY, minX:maxX, localZ] = 1\n",
    "            offsetZ = offsetZ + 1 \n",
    "\n",
    "            if offsetZ == len(listOfZinds): \n",
    "                break\n",
    "\n",
    "\n",
    "    foo = dilated_volume + synapsevol\n",
    "    \n",
    "    synapseDetected = False\n",
    "    if foo.max() > 1: \n",
    "        print(\"Synapse Detected!\")\n",
    "        synapseDetected = True\n",
    "    else: \n",
    "        print(\"Synapse not detected\")\n",
    "    return synapseDetected"
   ]
  },
  {
   "cell_type": "code",
   "execution_count": null,
   "metadata": {},
   "outputs": [],
   "source": [
    "query"
   ]
  },
  {
   "cell_type": "code",
   "execution_count": null,
   "metadata": {},
   "outputs": [],
   "source": [
    "n = 4 "
   ]
  },
  {
   "cell_type": "code",
   "execution_count": null,
   "metadata": {},
   "outputs": [],
   "source": [
    "annoDetectedList = np.zeros(len(good_annotations), dtype=bool)"
   ]
  },
  {
   "cell_type": "code",
   "execution_count": null,
   "metadata": {},
   "outputs": [],
   "source": [
    "for n, anno in enumerate(good_annotations): \n",
    "    print(anno['oid'])\n",
    "    synapseDetected = checkQueryAgainstAnno(anno, query, thresh, win_xy, win_z, filepath)\n",
    "    annoDetectedList[n] = synapseDetected"
   ]
  },
  {
   "cell_type": "code",
   "execution_count": null,
   "metadata": {},
   "outputs": [],
   "source": [
    "len(annoDetectedList) - sum(annoDetectedList)"
   ]
  },
  {
   "cell_type": "code",
   "execution_count": null,
   "metadata": {},
   "outputs": [],
   "source": []
  },
  {
   "cell_type": "code",
   "execution_count": null,
   "metadata": {},
   "outputs": [],
   "source": [
    "%matplotlib notebook\n",
    "\n",
    "plt.imshow(dilated_volume[:, :, n], cmap='gray')\n",
    "plt.colorbar()\n",
    "plt.plot(xcolumn, ycolumn, color='red', linewidth=2)\n"
   ]
  },
  {
   "cell_type": "code",
   "execution_count": null,
   "metadata": {},
   "outputs": [],
   "source": []
  },
  {
   "cell_type": "code",
   "execution_count": null,
   "metadata": {},
   "outputs": [],
   "source": []
  },
  {
   "cell_type": "code",
   "execution_count": null,
   "metadata": {},
   "outputs": [],
   "source": []
  },
  {
   "cell_type": "code",
   "execution_count": null,
   "metadata": {},
   "outputs": [],
   "source": [
    "def getVolume(bboxCoordinates, win_xy, win_z, volname, filepath): \n",
    "    \"\"\"    \n",
    "    Parameters\n",
    "    -----------\n",
    "    \n",
    "    Returns\n",
    "    -----------\n",
    "    \n",
    "    \"\"\"\n",
    "    \n",
    "    # check for boundary issues\n",
    "    startZ = bboxCoordinates['minZ']\n",
    "    if (startZ - win_z > -1):\n",
    "        startZ = startZ - win_z; \n",
    "    \n",
    "    endZ = bboxCoordinates['maxZ']\n",
    "    \n",
    "    if (endZ + win_z < 50):\n",
    "        endZ = endZ + win_z; \n",
    "    \n",
    "    # get range of x, y values \n",
    "    startX = bboxCoordinates['minX'] - win_xy;\n",
    "    startY = bboxCoordinates['minY'] - win_xy;\n",
    "    deltaX = bboxCoordinates['maxX'] - startX + win_xy;\n",
    "    deltaY = bboxCoordinates['maxY'] - startY + win_xy;\n",
    "    \n",
    "    startX = int(round(startX))\n",
    "    startY = int(round(startY))\n",
    "    deltaX = int(round(deltaX))\n",
    "    deltaY = int(round(deltaY))\n",
    "    startZ = int(round(startZ))\n",
    "    endZ   = int(round(endZ))\n",
    "    \n",
    "    numSlices = endZ - startZ + 1\n",
    "    \n",
    "    # allocate volume\n",
    "    vol = np.zeros((deltaY, deltaX, numSlices), dtype=np.float64)\n",
    "        \n",
    "    # iterate over each slice \n",
    "    sliceitr = 0 \n",
    "    for sliceInd in range(startZ, endZ + 1):\n",
    "      \n",
    "        cutout = da.getImageCutoutFromFile(volname, sliceInd, startX, startY, deltaX, deltaY, filepath)\n",
    "        cutout.astype(np.float64)\n",
    "        cutout = syn.getProbMap(cutout)\n",
    "\n",
    "        vol[:, :, sliceitr] = cutout; \n",
    "        sliceitr = sliceitr + 1 \n",
    "        \n",
    "    return vol"
   ]
  },
  {
   "cell_type": "code",
   "execution_count": null,
   "metadata": {},
   "outputs": [],
   "source": [
    "def loadSynapseDataFromQuery(query, anno, win_xy, win_z, filepath):\n",
    "    \"\"\"\n",
    "    Load tiff stacks associated with a query\n",
    "    Parameters\n",
    "    ----------\n",
    "    query : dict - object containing filenames associated with pre/post synaptic markers \n",
    "    filepath : str - location of data \n",
    "\n",
    "    Returns\n",
    "    ----------\n",
    "    synapticVolumes : dict\n",
    "        dict with two (pre/post) lists of synaptic volumes\n",
    "    \"\"\"\n",
    "\n",
    "    bbox = synaptogram.getAnnotationBoundingBox2(anno)\n",
    "    bbox = synaptogram.transformSynapseCoordinates(bbox)\n",
    "    \n",
    "    # query = {'preIF' : preIF, 'preIF_z' : preIF_z, 'postIF' : postIF, 'postIF_z' : postIF_z};\n",
    "\n",
    "    #presynaptic volumes\n",
    "    presynapticvolumes = []\n",
    "    preIF = query['preIF']\n",
    "\n",
    "    # Loop over every presynaptic channel \n",
    "    for n in range(0, len(preIF)):\n",
    "        #print(preIF[n])\n",
    "        \n",
    "        volume = getVolume(bbox, win_xy, win_z, preIF[n], filepath)\n",
    "        presynapticvolumes.append(volume)\n",
    "\n",
    "    #postsynaptic volumes\n",
    "    postsynapticvolumes = []\n",
    "    postIF = query['postIF']\n",
    "\n",
    "    # Loop over every postsynaptic channel \n",
    "    for n in range(0, len(postIF)):\n",
    "       # print(postIF[n])\n",
    "        volume = getVolume(bbox, win_xy, win_z, postIF[n], filepath)\n",
    "\n",
    "        postsynapticvolumes.append(volume)\n",
    "\n",
    "    synapticVolumes = {'presynaptic': presynapticvolumes,\n",
    "                       'postsynaptic': postsynapticvolumes}\n",
    "                       \n",
    "    return synapticVolumes\n",
    "\n"
   ]
  },
  {
   "cell_type": "code",
   "execution_count": null,
   "metadata": {},
   "outputs": [],
   "source": []
  }
 ],
 "metadata": {
  "kernelspec": {
   "display_name": "Python [conda env:synapse_analysis]",
   "language": "python",
   "name": "conda-env-synapse_analysis-py"
  },
  "language_info": {
   "codemirror_mode": {
    "name": "ipython",
    "version": 3
   },
   "file_extension": ".py",
   "mimetype": "text/x-python",
   "name": "python",
   "nbconvert_exporter": "python",
   "pygments_lexer": "ipython3",
   "version": "3.5.4"
  }
 },
 "nbformat": 4,
 "nbformat_minor": 2
}
