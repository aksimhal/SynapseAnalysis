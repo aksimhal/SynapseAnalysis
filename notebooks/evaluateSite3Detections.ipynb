{
 "cells": [
  {
   "cell_type": "code",
   "execution_count": null,
   "metadata": {
    "collapsed": true
   },
   "outputs": [],
   "source": [
    "# Evaluate Site 3 detections against an input json label file "
   ]
  },
  {
   "cell_type": "code",
   "execution_count": null,
   "metadata": {
    "collapsed": true
   },
   "outputs": [],
   "source": [
    "import os\n",
    "import sys\n",
    "module_path = os.path.abspath(os.path.join('..'))\n",
    "module_path = module_path + '/code/'\n",
    "if module_path not in sys.path:\n",
    "    sys.path.append(module_path)"
   ]
  },
  {
   "cell_type": "code",
   "execution_count": null,
   "metadata": {
    "collapsed": false
   },
   "outputs": [],
   "source": [
    "import json \n",
    "import renderapi\n",
    "import scipy\n",
    "import numpy as np\n",
    "from scipy.stats import norm\n",
    "from renderapps.module.render_module import RenderModule\n",
    "\n",
    "import processDetections as pd\n",
    "import matplotlib\n",
    "import matplotlib.pyplot as plt\n",
    "from shapely import geometry\n",
    "from skimage import measure\n",
    "import synaptogram\n",
    "from scipy import io\n",
    "import SynapseDetection as syn"
   ]
  },
  {
   "cell_type": "code",
   "execution_count": null,
   "metadata": {
    "collapsed": true
   },
   "outputs": [],
   "source": [
    "args={\n",
    "    'render':{\n",
    "    'host':'http://152.3.214.113',\n",
    "    'port':8080,\n",
    "    'owner':'Anish',\n",
    "    'project':'M247514_Rorb_1',\n",
    "    'client_scripts':'/home/anish/Connectome/render/render-ws-java-client/src/main/scripts'\n",
    "},\n",
    "'log_level':'DEBUG'}\n",
    "mod = RenderModule(input_data = args,args=[])\n",
    "stacks = mod.render.run(renderapi.render.get_stacks_by_owner_project)\n",
    "render_args = args['render']"
   ]
  },
  {
   "cell_type": "code",
   "execution_count": null,
   "metadata": {
    "collapsed": false
   },
   "outputs": [],
   "source": [
    "metadataFN = 'metadatatest.json'\n",
    "metadata = syn.loadMetadata(metadataFN)\n",
    "n = 0 \n",
    "datalocation = metadata['datalocation']\n",
    "outputFN = os.path.join(datalocation, 'resultVol')\n",
    "outputFN = outputFN + str(n) + '.json'"
   ]
  },
  {
   "cell_type": "code",
   "execution_count": null,
   "metadata": {
    "collapsed": false
   },
   "outputs": [],
   "source": [
    "annotationdata = json.load(open('json_annotations/m247514_Site3Annotation_MN_global_v2.json'))\n"
   ]
  },
  {
   "cell_type": "code",
   "execution_count": null,
   "metadata": {
    "collapsed": false
   },
   "outputs": [],
   "source": [
    "detectiondata = json.load(open(outputFN))"
   ]
  },
  {
   "cell_type": "code",
   "execution_count": null,
   "metadata": {
    "collapsed": false
   },
   "outputs": [],
   "source": [
    "annotationList = annotationdata['area_lists']\n",
    "detectionList = detectiondata['area_lists']"
   ]
  },
  {
   "cell_type": "code",
   "execution_count": null,
   "metadata": {
    "collapsed": false
   },
   "outputs": [],
   "source": [
    "print len(annotationList)\n",
    "print len(detectionList)"
   ]
  },
  {
   "cell_type": "code",
   "execution_count": null,
   "metadata": {
    "collapsed": false
   },
   "outputs": [],
   "source": [
    "detectionsExpanded = []\n",
    "\n",
    "itr = 0\n",
    "for detection in detectionList: \n",
    "    bboxCoordinates = synaptogram.getAnnotationBoundingBox2(detection, render_args)\n",
    "    expandedBox = synaptogram.expandBoundingBox(bboxCoordinates, win_xy=4, win_z=1)\n",
    "    detectionpoly = pd.createPolygonFromBBox(expandedBox)\n",
    "    zlistdetection = synaptogram.getZListFromBoundingBox(expandedBox)\n",
    "\n",
    "    zListAndPoly = {'zlist': zlistdetection, 'poly': detectionpoly}\n",
    "    detectionsExpanded.append(zListAndPoly)\n",
    "\n",
    "    "
   ]
  },
  {
   "cell_type": "code",
   "execution_count": null,
   "metadata": {
    "collapsed": false
   },
   "outputs": [],
   "source": [
    "synapsesExpanded = []\n",
    "\n",
    "for synapse in annotationList: \n",
    "    bboxCoordinates = synaptogram.getAnnotationBoundingBox2(synapse, render_args)\n",
    "    bboxCoordinates = synaptogram.transformSynapseCoordinates(bboxCoordinates)\n",
    "    expandedBox = synaptogram.expandBoundingBox(bboxCoordinates, 1, 0)\n",
    "    synapsepoly = pd.createPolygonFromBBox(expandedBox)\n",
    "    zlistsynapse = synaptogram.getZListFromBoundingBox(expandedBox)\n",
    "\n",
    "    zListAndPoly = {'zlist': zlistsynapse, 'poly': synapsepoly}\n",
    "    synapsesExpanded.append(zListAndPoly)"
   ]
  },
  {
   "cell_type": "code",
   "execution_count": null,
   "metadata": {
    "collapsed": false
   },
   "outputs": [],
   "source": [
    "overlapMatrix = np.zeros((len(detectionsExpanded), len(synapsesExpanded)))\n",
    "\n",
    "cItr = 0\n",
    "for synapse in synapsesExpanded: \n",
    "\n",
    "    zlistSynapse = synapse['zlist']\n",
    "    polySynapse = synapse['poly']\n",
    "\n",
    "    rItr = 0 \n",
    "    for detection in detectionsExpanded: \n",
    "\n",
    "        zlistDetection = detection['zlist']\n",
    "        polydetection = detection['poly']\n",
    "\n",
    "        if not set(zlistDetection).isdisjoint(zlistSynapse):\n",
    "            if polySynapse.intersects(polydetection): \n",
    "                overlapMatrix[rItr, cItr] = 1\n",
    "\n",
    "        rItr = rItr + 1\n",
    "    cItr = cItr + 1\n",
    "    "
   ]
  },
  {
   "cell_type": "code",
   "execution_count": null,
   "metadata": {
    "collapsed": false
   },
   "outputs": [],
   "source": [
    "synapseOverlap = (np.sum(overlapMatrix, 0))"
   ]
  },
  {
   "cell_type": "code",
   "execution_count": null,
   "metadata": {
    "collapsed": false
   },
   "outputs": [],
   "source": [
    "np.count_nonzero(synapseOverlap) / float(len(synapseOverlap))"
   ]
  },
  {
   "cell_type": "code",
   "execution_count": null,
   "metadata": {
    "collapsed": false,
    "scrolled": true
   },
   "outputs": [],
   "source": [
    "np.count_nonzero(synapseOverlap)"
   ]
  },
  {
   "cell_type": "code",
   "execution_count": null,
   "metadata": {
    "collapsed": false
   },
   "outputs": [],
   "source": [
    "float(len(synapseOverlap))"
   ]
  },
  {
   "cell_type": "code",
   "execution_count": null,
   "metadata": {
    "collapsed": true
   },
   "outputs": [],
   "source": [
    "# create synaptograms with detections "
   ]
  },
  {
   "cell_type": "code",
   "execution_count": null,
   "metadata": {
    "collapsed": false
   },
   "outputs": [],
   "source": [
    "synapse = annotationList[6]\n",
    "win_xy = 4\n",
    "win_z = 1\n",
    "filepath = '/Users/anish/Documents/Connectome/Synaptome-Duke/data/collman17/Site3Align2Stacks/';\n",
    "stackList = ['results',  'PSD95', 'synapsin', 'VGlut1', 'GluN1', 'GABA', 'Gephyrin']\n",
    "showProb = True\n",
    "textXOffset = 0\n",
    "textYOffset = 5\n",
    "\n",
    "\n"
   ]
  }
 ],
 "metadata": {
  "kernelspec": {
   "display_name": "Python 2",
   "language": "python",
   "name": "python2"
  },
  "language_info": {
   "codemirror_mode": {
    "name": "ipython",
    "version": 2
   },
   "file_extension": ".py",
   "mimetype": "text/x-python",
   "name": "python",
   "nbconvert_exporter": "python",
   "pygments_lexer": "ipython2",
   "version": "2.7.14"
  }
 },
 "nbformat": 4,
 "nbformat_minor": 0
}
