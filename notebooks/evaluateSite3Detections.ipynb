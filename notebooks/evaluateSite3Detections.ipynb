{
 "cells": [
  {
   "cell_type": "code",
   "execution_count": null,
   "metadata": {
    "collapsed": true
   },
   "outputs": [],
   "source": [
    "# Evaluate Site 3 detections against an input json label file "
   ]
  },
  {
   "cell_type": "code",
   "execution_count": 1,
   "metadata": {},
   "outputs": [],
   "source": [
    "import os\n",
    "import sys\n",
    "module_path = os.path.abspath(os.path.join('..'))\n",
    "module_path = module_path + '/code/'\n",
    "if module_path not in sys.path:\n",
    "    sys.path.append(module_path)"
   ]
  },
  {
   "cell_type": "code",
   "execution_count": 4,
   "metadata": {},
   "outputs": [],
   "source": [
    "import json \n",
    "import renderapi\n",
    "import scipy\n",
    "import numpy as np\n",
    "from scipy.stats import norm\n",
    "from at_synapse_detection.render_module import RenderModule\n",
    "\n",
    "from at_synapse_detection import processDetections as pd\n",
    "import matplotlib\n",
    "import matplotlib.pyplot as plt\n",
    "from shapely import geometry\n",
    "from skimage import measure\n",
    "from at_synapse_detection import synaptogram\n",
    "from scipy import io\n",
    "from at_synapse_detection import SynapseDetection as syn"
   ]
  },
  {
   "cell_type": "code",
   "execution_count": 15,
   "metadata": {},
   "outputs": [
    {
     "data": {
      "text/plain": [
       "<module 'at_synapse_detection.synaptogram' from '/Users/anish/Documents/Connectome/SynapseAnalysis/at_synapse_detection/synaptogram.py'>"
      ]
     },
     "execution_count": 15,
     "metadata": {},
     "output_type": "execute_result"
    }
   ],
   "source": [
    "import importlib\n",
    "importlib.reload(synaptogram)"
   ]
  },
  {
   "cell_type": "code",
   "execution_count": 5,
   "metadata": {},
   "outputs": [
    {
     "name": "stderr",
     "output_type": "stream",
     "text": [
      "DEBUG:renderapi.render:Render object created with host=http://152.3.214.113, port=8080, project=M247514_Rorb_1, owner=Anish, scripts=/home/anish/Connectome/render/render-ws-java-client/src/main/scripts\n",
      "INFO:renderapi.render:Client script /home/anish/Connectome/render/render-ws-java-client/src/main/scripts/run_ws_client.sh not found!\n",
      "WARNING:renderapi.render:Could not initiate render Client -- falling back to web\n",
      "DEBUG:renderapi.render:Render object created with host=http://152.3.214.113, port=8080, project=M247514_Rorb_1, owner=Anish, scripts=/home/anish/Connectome/render/render-ws-java-client/src/main/scripts\n",
      "DEBUG:renderapi.render:http://152.3.214.113:8080/render-ws/v1/owner/Anish/stacks/\n",
      "DEBUG:urllib3.connectionpool:Starting new HTTP connection (1): 152.3.214.113\n",
      "DEBUG:urllib3.connectionpool:http://152.3.214.113:8080 \"GET /render-ws/v1/owner/Anish/stacks/ HTTP/1.1\" 200 None\n"
     ]
    }
   ],
   "source": [
    "args={\n",
    "    'render':{\n",
    "    'host':'http://152.3.214.113',\n",
    "    'port':8080,\n",
    "    'owner':'Anish',\n",
    "    'project':'M247514_Rorb_1',\n",
    "    'client_scripts':'/home/anish/Connectome/render/render-ws-java-client/src/main/scripts'\n",
    "},\n",
    "'log_level':'DEBUG'}\n",
    "mod = RenderModule(input_data = args,args=[])\n",
    "stacks = mod.render.run(renderapi.render.get_stacks_by_owner_project)\n",
    "render_args = args['render']"
   ]
  },
  {
   "cell_type": "code",
   "execution_count": 7,
   "metadata": {},
   "outputs": [],
   "source": [
    "metadataFN = '../data/M247514_Rorb_1/Site3Align2/site3_metadata.json'\n",
    "metadata = syn.loadMetadata(metadataFN)\n",
    "n = 0 \n",
    "datalocation = metadata['datalocation']\n",
    "outputFN = os.path.join(datalocation, 'resultVol')\n",
    "outputFN = outputFN + str(n) + '.json'"
   ]
  },
  {
   "cell_type": "code",
   "execution_count": 9,
   "metadata": {},
   "outputs": [],
   "source": [
    "annotationdata = json.load(open('../data/M247514_Rorb_1/Site3Align2/json_annotations/m247514_Site3Annotation_MN_global_v2.json'))\n"
   ]
  },
  {
   "cell_type": "code",
   "execution_count": 10,
   "metadata": {},
   "outputs": [],
   "source": [
    "detectiondata = json.load(open(outputFN))"
   ]
  },
  {
   "cell_type": "code",
   "execution_count": 11,
   "metadata": {},
   "outputs": [],
   "source": [
    "annotationList = annotationdata['area_lists']\n",
    "detectionList = detectiondata['area_lists']"
   ]
  },
  {
   "cell_type": "code",
   "execution_count": 13,
   "metadata": {},
   "outputs": [
    {
     "name": "stdout",
     "output_type": "stream",
     "text": [
      "1078\n",
      "4946\n"
     ]
    }
   ],
   "source": [
    "print(len(annotationList))\n",
    "print(len(detectionList))"
   ]
  },
  {
   "cell_type": "code",
   "execution_count": 30,
   "metadata": {},
   "outputs": [],
   "source": [
    "detectionsExpanded = []\n",
    "\n",
    "itr = 0\n",
    "for detection in detectionList: \n",
    "    bboxCoordinates = synaptogram.getAnnotationBoundingBox2(detection, render_args)\n",
    "    expandedBox = synaptogram.expandBoundingBox(bboxCoordinates, win_xy=0, win_z=0)\n",
    "    detectionpoly = pd.createPolygonFromBBox(expandedBox)\n",
    "    zlistdetection = synaptogram.getZListFromBoundingBox(expandedBox)\n",
    "\n",
    "    zListAndPoly = {'zlist': zlistdetection, 'poly': detectionpoly}\n",
    "    detectionsExpanded.append(zListAndPoly)\n",
    "\n",
    "    "
   ]
  },
  {
   "cell_type": "code",
   "execution_count": 31,
   "metadata": {},
   "outputs": [],
   "source": [
    "synapsesExpanded = []\n",
    "\n",
    "for synapse in annotationList: \n",
    "    bboxCoordinates = synaptogram.getAnnotationBoundingBox2(synapse, render_args)\n",
    "    bboxCoordinates = synaptogram.transformSynapseCoordinates(bboxCoordinates)\n",
    "    expandedBox = synaptogram.expandBoundingBox(bboxCoordinates, 0, 0)\n",
    "    synapsepoly = pd.createPolygonFromBBox(expandedBox)\n",
    "    zlistsynapse = synaptogram.getZListFromBoundingBox(expandedBox)\n",
    "\n",
    "    zListAndPoly = {'zlist': zlistsynapse, 'poly': synapsepoly}\n",
    "    synapsesExpanded.append(zListAndPoly)"
   ]
  },
  {
   "cell_type": "code",
   "execution_count": 32,
   "metadata": {},
   "outputs": [],
   "source": [
    "overlapMatrix = np.zeros((len(detectionsExpanded), len(synapsesExpanded)))\n",
    "\n",
    "cItr = 0\n",
    "for synapse in synapsesExpanded: \n",
    "\n",
    "    zlistSynapse = synapse['zlist']\n",
    "    polySynapse = synapse['poly']\n",
    "\n",
    "    rItr = 0 \n",
    "    for detection in detectionsExpanded: \n",
    "\n",
    "        zlistDetection = detection['zlist']\n",
    "        polydetection = detection['poly']\n",
    "\n",
    "        if not set(zlistDetection).isdisjoint(zlistSynapse):\n",
    "            if polySynapse.intersects(polydetection): \n",
    "                overlapMatrix[rItr, cItr] = 1\n",
    "\n",
    "        rItr = rItr + 1\n",
    "    cItr = cItr + 1\n",
    "    "
   ]
  },
  {
   "cell_type": "code",
   "execution_count": 33,
   "metadata": {},
   "outputs": [],
   "source": [
    "synapseOverlap = (np.sum(overlapMatrix, 0))"
   ]
  },
  {
   "cell_type": "code",
   "execution_count": 34,
   "metadata": {},
   "outputs": [
    {
     "data": {
      "text/plain": [
       "0.3450834879406308"
      ]
     },
     "execution_count": 34,
     "metadata": {},
     "output_type": "execute_result"
    }
   ],
   "source": [
    "np.count_nonzero(synapseOverlap) / float(len(synapseOverlap))"
   ]
  },
  {
   "cell_type": "code",
   "execution_count": 35,
   "metadata": {
    "scrolled": true
   },
   "outputs": [
    {
     "data": {
      "text/plain": [
       "372"
      ]
     },
     "execution_count": 35,
     "metadata": {},
     "output_type": "execute_result"
    }
   ],
   "source": [
    "np.count_nonzero(synapseOverlap)"
   ]
  },
  {
   "cell_type": "code",
   "execution_count": 36,
   "metadata": {},
   "outputs": [
    {
     "data": {
      "text/plain": [
       "1078.0"
      ]
     },
     "execution_count": 36,
     "metadata": {},
     "output_type": "execute_result"
    }
   ],
   "source": [
    "float(len(synapseOverlap))"
   ]
  },
  {
   "cell_type": "code",
   "execution_count": null,
   "metadata": {
    "collapsed": true
   },
   "outputs": [],
   "source": [
    "# create synaptograms with detections "
   ]
  },
  {
   "cell_type": "code",
   "execution_count": null,
   "metadata": {},
   "outputs": [],
   "source": [
    "synapse = annotationList[6]\n",
    "win_xy = 4\n",
    "win_z = 1\n",
    "filepath = '/Users/anish/Documents/Connectome/Synaptome-Duke/data/collman17/Site3Align2Stacks/';\n",
    "stackList = ['results',  'PSD95', 'synapsin', 'VGlut1', 'GluN1', 'GABA', 'Gephyrin']\n",
    "showProb = True\n",
    "textXOffset = 0\n",
    "textYOffset = 5\n",
    "\n",
    "\n"
   ]
  }
 ],
 "metadata": {
  "kernelspec": {
   "display_name": "Python [conda env:synapse_analysis]",
   "language": "python",
   "name": "conda-env-synapse_analysis-py"
  },
  "language_info": {
   "codemirror_mode": {
    "name": "ipython",
    "version": 3
   },
   "file_extension": ".py",
   "mimetype": "text/x-python",
   "name": "python",
   "nbconvert_exporter": "python",
   "pygments_lexer": "ipython3",
   "version": "3.5.4"
  }
 },
 "nbformat": 4,
 "nbformat_minor": 1
}
