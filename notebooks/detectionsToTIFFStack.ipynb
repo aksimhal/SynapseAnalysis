{
 "cells": [
  {
   "cell_type": "code",
   "execution_count": null,
   "metadata": {
    "collapsed": true
   },
   "outputs": [],
   "source": [
    "# Detection probability map to tiff stacks "
   ]
  },
  {
   "cell_type": "code",
   "execution_count": null,
   "metadata": {
    "collapsed": false
   },
   "outputs": [],
   "source": [
    "import numpy as np\n",
    "import json\n",
    "from renderapps.module.render_module import RenderModule\n",
    "import renderapi\n",
    "import os\n",
    "import synaptogram\n",
    "import matplotlib.pyplot as plt\n",
    "from scipy import misc\n",
    "from skimage import measure\n"
   ]
  },
  {
   "cell_type": "code",
   "execution_count": null,
   "metadata": {
    "collapsed": false
   },
   "outputs": [],
   "source": [
    "args={\n",
    "    'render':{\n",
    "    'host':'http://152.3.214.113',\n",
    "    'port':8080,\n",
    "    'owner':'Anish',\n",
    "    'project':'M247514_Rorb_1',\n",
    "    'client_scripts':'/home/anish/Connectome/render/render-ws-java-client/src/main/scripts'\n",
    "},\n",
    "'log_level':'DEBUG'}\n",
    "mod = RenderModule(input_data = args,args=[])\n",
    "stacks = mod.render.run(renderapi.render.get_stacks_by_owner_project)\n",
    "render_args = args['render']"
   ]
  },
  {
   "cell_type": "code",
   "execution_count": null,
   "metadata": {
    "collapsed": false
   },
   "outputs": [],
   "source": [
    "thresh = 0.9\n",
    "resultVol = np.load('resultVol.npy')"
   ]
  },
  {
   "cell_type": "code",
   "execution_count": null,
   "metadata": {
    "collapsed": false
   },
   "outputs": [],
   "source": [
    "reload(synaptogram)"
   ]
  },
  {
   "cell_type": "code",
   "execution_count": null,
   "metadata": {
    "collapsed": false
   },
   "outputs": [],
   "source": [
    "resultVol.shape"
   ]
  },
  {
   "cell_type": "code",
   "execution_count": null,
   "metadata": {
    "collapsed": true
   },
   "outputs": [],
   "source": [
    "labelVol = measure.label(resultVol > thresh)\n",
    "stats = measure.regionprops(labelVol, resultVol)"
   ]
  },
  {
   "cell_type": "code",
   "execution_count": null,
   "metadata": {
    "collapsed": false
   },
   "outputs": [],
   "source": [
    "min0 = 0\n",
    "min1 = 0\n",
    "min2 = 0 \n",
    "\n",
    "for detection in stats: \n",
    "    for pt in detection.coords: \n",
    "        \n",
    "        if pt[0] > min0:\n",
    "            min0 = pt[0]\n",
    "        \n",
    "        if pt[1] > min1: \n",
    "            min1 = pt[1] \n",
    "            \n",
    "        if pt[2] > min2: \n",
    "            min2 = pt[2]\n",
    "            "
   ]
  },
  {
   "cell_type": "code",
   "execution_count": null,
   "metadata": {
    "collapsed": false
   },
   "outputs": [],
   "source": [
    "print [min0, min1, min2] # ROW(Y) COL(X) Z"
   ]
  },
  {
   "cell_type": "code",
   "execution_count": null,
   "metadata": {
    "collapsed": false
   },
   "outputs": [],
   "source": [
    "detection = stats[4000]"
   ]
  },
  {
   "cell_type": "code",
   "execution_count": null,
   "metadata": {
    "collapsed": false
   },
   "outputs": [],
   "source": []
  },
  {
   "cell_type": "code",
   "execution_count": null,
   "metadata": {
    "collapsed": false,
    "scrolled": true
   },
   "outputs": [],
   "source": [
    "detection.coords"
   ]
  },
  {
   "cell_type": "code",
   "execution_count": null,
   "metadata": {
    "collapsed": false
   },
   "outputs": [],
   "source": [
    "len(detection.coords)"
   ]
  },
  {
   "cell_type": "code",
   "execution_count": null,
   "metadata": {
    "collapsed": false,
    "scrolled": true
   },
   "outputs": [],
   "source": [
    "bbox = synaptogram.getBoundingBoxFromLabel(detection)"
   ]
  },
  {
   "cell_type": "code",
   "execution_count": null,
   "metadata": {
    "collapsed": false
   },
   "outputs": [],
   "source": [
    "bbox"
   ]
  },
  {
   "cell_type": "code",
   "execution_count": null,
   "metadata": {
    "collapsed": false
   },
   "outputs": [],
   "source": [
    "reload(synaptogram)"
   ]
  },
  {
   "cell_type": "code",
   "execution_count": null,
   "metadata": {
    "collapsed": true
   },
   "outputs": [],
   "source": [
    "labelvol = np.zeros((441, 420, 50))"
   ]
  },
  {
   "cell_type": "code",
   "execution_count": null,
   "metadata": {
    "collapsed": false
   },
   "outputs": [],
   "source": [
    "len(stats)"
   ]
  },
  {
   "cell_type": "code",
   "execution_count": null,
   "metadata": {
    "collapsed": false
   },
   "outputs": [],
   "source": [
    "bbox['maxZ']"
   ]
  },
  {
   "cell_type": "code",
   "execution_count": null,
   "metadata": {
    "collapsed": false
   },
   "outputs": [],
   "source": [
    "for detection in stats: \n",
    "    \n",
    "    bbox = synaptogram.getBoundingBoxFromLabel(detection)\n",
    "    zInds = synaptogram.getZListFromBoundingBox(bbox)\n",
    "    \n",
    "    for n in range(0, len(zInds)): \n",
    "        zInd = int(zInds[n])\n",
    "        \n",
    "        maxX = int(np.round(bbox['maxX']))\n",
    "        minX = int(np.round(bbox['minX']))\n",
    "        \n",
    "        maxY = int(np.round(bbox['maxY']))\n",
    "        minY = int(np.round(bbox['minY']))\n",
    "        \n",
    "        labelvol[minY:maxY, minX:maxX, zInd] = 1\n"
   ]
  },
  {
   "cell_type": "code",
   "execution_count": null,
   "metadata": {
    "collapsed": false
   },
   "outputs": [],
   "source": []
  },
  {
   "cell_type": "code",
   "execution_count": null,
   "metadata": {
    "collapsed": false
   },
   "outputs": [],
   "source": [
    "    "
   ]
  },
  {
   "cell_type": "code",
   "execution_count": null,
   "metadata": {
    "collapsed": false
   },
   "outputs": [],
   "source": []
  },
  {
   "cell_type": "code",
   "execution_count": null,
   "metadata": {
    "collapsed": false
   },
   "outputs": [],
   "source": [
    "%matplotlib notebook\n",
    "\n",
    "plt.imshow(labelvol[:, :, 46], cmap='gray')"
   ]
  },
  {
   "cell_type": "code",
   "execution_count": null,
   "metadata": {
    "collapsed": false
   },
   "outputs": [],
   "source": [
    "folderpath = '/Users/anish/Documents/Connectome/Synaptome-Duke/data/collman17/Site3Align2Stacks/results'"
   ]
  },
  {
   "cell_type": "code",
   "execution_count": null,
   "metadata": {
    "collapsed": false
   },
   "outputs": [],
   "source": [
    "fn = os.path.join(folderpath, str(zInd).zfill(5))\n",
    "fn = fn + '.tiff'"
   ]
  },
  {
   "cell_type": "code",
   "execution_count": null,
   "metadata": {
    "collapsed": false
   },
   "outputs": [],
   "source": []
  },
  {
   "cell_type": "code",
   "execution_count": null,
   "metadata": {
    "collapsed": false
   },
   "outputs": [],
   "source": [
    "fn"
   ]
  },
  {
   "cell_type": "code",
   "execution_count": null,
   "metadata": {
    "collapsed": true
   },
   "outputs": [],
   "source": [
    "for z in range(0, labelvol.shape[2]): \n",
    "    fn = os.path.join(folderpath, str(z).zfill(5))\n",
    "    fn = fn + '.tiff'\n",
    "    misc.imsave(fn, labelvol[:, :, z])\n"
   ]
  },
  {
   "cell_type": "code",
   "execution_count": null,
   "metadata": {
    "collapsed": true
   },
   "outputs": [],
   "source": []
  }
 ],
 "metadata": {
  "kernelspec": {
   "display_name": "Python 2",
   "language": "python",
   "name": "python2"
  },
  "language_info": {
   "codemirror_mode": {
    "name": "ipython",
    "version": 2
   },
   "file_extension": ".py",
   "mimetype": "text/x-python",
   "name": "python",
   "nbconvert_exporter": "python",
   "pygments_lexer": "ipython2",
   "version": "2.7.14"
  }
 },
 "nbformat": 4,
 "nbformat_minor": 0
}
