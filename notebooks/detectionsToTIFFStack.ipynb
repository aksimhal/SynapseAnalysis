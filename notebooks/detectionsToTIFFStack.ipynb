{
 "cells": [
  {
   "cell_type": "code",
   "execution_count": null,
   "metadata": {},
   "outputs": [],
   "source": [
    "# Detection probability map to tiff stacks "
   ]
  },
  {
   "cell_type": "code",
   "execution_count": null,
   "metadata": {},
   "outputs": [],
   "source": [
    "import numpy as np\n",
    "import json\n",
    "from at_synapse_detection.render_module import RenderModule\n",
    "import renderapi\n",
    "import os\n",
    "from at_synapse_detection import synaptogram\n",
    "import matplotlib.pyplot as plt\n",
    "from scipy import misc\n",
    "from skimage import measure\n"
   ]
  },
  {
   "cell_type": "code",
   "execution_count": null,
   "metadata": {},
   "outputs": [],
   "source": [
    "thresh = 0.9\n",
    "resultVol = np.load('/Users/anish/Documents/Connectome/Synaptome-Duke/data/collman17/Site3Align2Stacks/resultVol0.npy')"
   ]
  },
  {
   "cell_type": "code",
   "execution_count": null,
   "metadata": {},
   "outputs": [],
   "source": [
    "resultVol.shape"
   ]
  },
  {
   "cell_type": "code",
   "execution_count": null,
   "metadata": {},
   "outputs": [],
   "source": [
    "labelVol = measure.label(resultVol > thresh)\n",
    "stats = measure.regionprops(labelVol, resultVol)"
   ]
  },
  {
   "cell_type": "code",
   "execution_count": null,
   "metadata": {
    "scrolled": true
   },
   "outputs": [],
   "source": [
    "bbox = synaptogram.getBoundingBoxFromLabel(detection)"
   ]
  },
  {
   "cell_type": "code",
   "execution_count": null,
   "metadata": {},
   "outputs": [],
   "source": [
    "bbox"
   ]
  },
  {
   "cell_type": "code",
   "execution_count": null,
   "metadata": {},
   "outputs": [],
   "source": [
    "labelvol = np.zeros((441, 420, 50))"
   ]
  },
  {
   "cell_type": "code",
   "execution_count": null,
   "metadata": {},
   "outputs": [],
   "source": [
    "len(stats)"
   ]
  },
  {
   "cell_type": "code",
   "execution_count": null,
   "metadata": {},
   "outputs": [],
   "source": [
    "for detection in stats: \n",
    "    \n",
    "    bbox = synaptogram.getBoundingBoxFromLabel(detection)\n",
    "    zInds = synaptogram.getZListFromBoundingBox(bbox)\n",
    "    \n",
    "    for n in range(0, len(zInds)): \n",
    "        zInd = int(zInds[n])\n",
    "        \n",
    "        maxX = int(np.round(bbox['maxX']))\n",
    "        minX = int(np.round(bbox['minX']))\n",
    "        \n",
    "        maxY = int(np.round(bbox['maxY']))\n",
    "        minY = int(np.round(bbox['minY']))\n",
    "        \n",
    "        labelvol[minY:maxY, minX:maxX, zInd] = 1\n"
   ]
  },
  {
   "cell_type": "code",
   "execution_count": null,
   "metadata": {},
   "outputs": [],
   "source": [
    "%matplotlib notebook\n",
    "\n",
    "plt.imshow(labelvol[:, :, 46], cmap='gray')"
   ]
  },
  {
   "cell_type": "code",
   "execution_count": null,
   "metadata": {},
   "outputs": [],
   "source": [
    "folderpath = '/Users/anish/Documents/Connectome/Synaptome-Duke/data/collman17/Site3Align2Stacks/results'"
   ]
  },
  {
   "cell_type": "code",
   "execution_count": null,
   "metadata": {},
   "outputs": [],
   "source": [
    "fn = os.path.join(folderpath, str(zInd).zfill(5))\n",
    "fn = fn + '.tiff'"
   ]
  },
  {
   "cell_type": "code",
   "execution_count": null,
   "metadata": {},
   "outputs": [],
   "source": [
    "fn"
   ]
  },
  {
   "cell_type": "code",
   "execution_count": null,
   "metadata": {},
   "outputs": [],
   "source": [
    "for z in range(0, labelvol.shape[2]): \n",
    "    fn = os.path.join(folderpath, str(z).zfill(5))\n",
    "    fn = fn + '.tiff'\n",
    "    misc.imsave(fn, labelvol[:, :, z])\n",
    "\n",
    "    \n",
    "# `imsave` is deprecated!\n",
    "# `imsave` is deprecated in SciPy 1.0.0, and will be removed in 1.2.0.\n",
    "# Use ``imageio.imwrite`` instead."
   ]
  },
  {
   "cell_type": "code",
   "execution_count": null,
   "metadata": {},
   "outputs": [],
   "source": []
  }
 ],
 "metadata": {
  "kernelspec": {
   "display_name": "Python [conda env:synapse_analysis]",
   "language": "python",
   "name": "conda-env-synapse_analysis-py"
  },
  "language_info": {
   "codemirror_mode": {
    "name": "ipython",
    "version": 3
   },
   "file_extension": ".py",
   "mimetype": "text/x-python",
   "name": "python",
   "nbconvert_exporter": "python",
   "pygments_lexer": "ipython3",
   "version": "3.5.4"
  }
 },
 "nbformat": 4,
 "nbformat_minor": 1
}
