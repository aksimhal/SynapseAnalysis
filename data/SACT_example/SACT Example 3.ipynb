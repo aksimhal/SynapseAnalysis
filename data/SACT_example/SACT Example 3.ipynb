{
 "cells": [
  {
   "cell_type": "code",
   "execution_count": null,
   "metadata": {},
   "outputs": [],
   "source": [
    "import os\n",
    "import sys\n",
    "import socket\n",
    "import numpy as np\n",
    "import pandas as pd #also requires xlsxwriter\n",
    "from at_synapse_detection import dataAccess as da\n",
    "from at_synapse_detection import antibodyAnalysis as aa"
   ]
  },
  {
   "cell_type": "code",
   "execution_count": null,
   "metadata": {},
   "outputs": [],
   "source": [
    "\"\"\"Compare two PSD-95 clones.  This is just one way of setting up the \n",
    "queries/data locations.  See the 'antibody_analysis' folder for multiple examples \n",
    "of how to set up the tool. \n",
    "\n",
    "Query Format (dict): \n",
    "    preIF : list of strs - name of the channel\n",
    "    preIF_z : list of ints - number of slices to span. default=[2]\n",
    "    postIF : list of strs\n",
    "    postIF_z : list of ints. default=[2]\n",
    "    punctumSize : number of pixels x/y that a puncta should span. default=2\n",
    "\n",
    "Returns\n",
    "-----------------\n",
    "df : dataframe - contains the results of the SACT \n",
    "\"\"\""
   ]
  },
  {
   "cell_type": "code",
   "execution_count": null,
   "metadata": {},
   "outputs": [],
   "source": [
    "# Location of the data \n",
    "base_dir = '../example/' "
   ]
  },
  {
   "cell_type": "code",
   "execution_count": null,
   "metadata": {},
   "outputs": [],
   "source": [
    "# Data resolution, in nanometers \n",
    "resolution = {'res_xy_nm': 100, 'res_z_nm': 70}"
   ]
  },
  {
   "cell_type": "code",
   "execution_count": null,
   "metadata": {},
   "outputs": [],
   "source": [
    "# Threshold value for the probability maps. This value does not usually need to be changed. \n",
    "thresh = 0.9"
   ]
  },
  {
   "cell_type": "code",
   "execution_count": null,
   "metadata": {},
   "outputs": [],
   "source": [
    "# List the file names.  These must be the same length\n",
    "presynaptic_channels = ['synapsin_1st.tif']\n",
    "presynaptic_z_list = [2]\n",
    "\n",
    "postsynaptic_channels = ['PSD95m_1st.tif']\n",
    "postsynaptic_z_list = [2]\n",
    "\n"
   ]
  },
  {
   "cell_type": "code",
   "execution_count": null,
   "metadata": {},
   "outputs": [],
   "source": [
    "target_filenames = postsynaptic_channels\n",
    "target_number_of_slices = postsynaptic_z_list\n",
    "reference_filenames = presynaptic_channels\n",
    "reference_number_of_slices = presynaptic_z_list"
   ]
  },
  {
   "cell_type": "code",
   "execution_count": null,
   "metadata": {},
   "outputs": [],
   "source": [
    "# Create a query for each pair\n",
    "query_list = []\n",
    "\n",
    "target_name = postsynaptic_channels[0] # The AB we're interested in testing (PSD)\n",
    "reference_name = presynaptic_channels[0] # The previously validated AB (synapsin)\n",
    "\n",
    "# Formulate the query\n",
    "query = {'preIF': presynaptic_channels, 'preIF_z': presynaptic_z_list, \n",
    "         'postIF': postsynaptic_channels, 'postIF_z': postsynaptic_z_list,\n",
    "         'punctumSize': 2}\n",
    "query_list.append(query)\n",
    "\n",
    "# Run the SACT \n",
    "measure_list = aa.calculate_measure_lists(query_list, None, base_dir,\n",
    "                                    thresh, resolution, target_filenames)\n",
    "\n",
    "# Convert measure object to a dataframe \n",
    "project_names = ['Data1', 'Data2']\n",
    "df = aa.create_df(measure_list, project_names, target_filenames, reference_filenames)\n",
    "print(df)\n",
    "df_list = [df]"
   ]
  },
  {
   "cell_type": "code",
   "execution_count": null,
   "metadata": {},
   "outputs": [],
   "source": [
    "#Output filename\n",
    "fn = 'sact_psd_example.xlsx' \n",
    "sheet_name = 'sact_psd_example'"
   ]
  },
  {
   "cell_type": "code",
   "execution_count": null,
   "metadata": {},
   "outputs": [],
   "source": [
    "# Determine if file exists. This is only an issue when running on windows\n",
    "if  os.path.isfile(fn): \n",
    "    print('A sheet with this name already exists; rename sheet and rerun')\n",
    "    sys.exit()\n",
    "\n",
    "# Export the dataframe to excel \n",
    "aa.write_dfs_to_excel(df_list, sheet_name, fn)"
   ]
  },
  {
   "cell_type": "code",
   "execution_count": null,
   "metadata": {},
   "outputs": [],
   "source": []
  }
 ],
 "metadata": {
  "kernelspec": {
   "display_name": "Python [conda env:synapse_analysis]",
   "language": "python",
   "name": "conda-env-synapse_analysis-py"
  },
  "language_info": {
   "codemirror_mode": {
    "name": "ipython",
    "version": 3
   },
   "file_extension": ".py",
   "mimetype": "text/x-python",
   "name": "python",
   "nbconvert_exporter": "python",
   "pygments_lexer": "ipython3",
   "version": "3.5.4"
  }
 },
 "nbformat": 4,
 "nbformat_minor": 2
}
